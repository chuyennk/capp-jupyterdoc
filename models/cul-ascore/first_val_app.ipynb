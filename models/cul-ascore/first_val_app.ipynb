{
 "cells": [
  {
   "cell_type": "code",
   "execution_count": 7,
   "id": "bc1a2c6c",
   "metadata": {
    "hide_input": true,
    "jupyter": {
     "source_hidden": true
    },
    "scrolled": true,
    "tags": []
   },
   "outputs": [
    {
     "data": {
      "text/html": [
       "<style>/*This c-app is using weasyprint to utilise css3 paged media for pdf export*/\n",
       "@page {\n",
       "    size: A4;\n",
       "    margin: 15mm 10mm 15mm 20mm;\n",
       "    \n",
       "\n",
       "    @top-left {\n",
       "        content: string(header);\n",
       "        /* text-transform: uppercase; */\n",
       "        font-size: 0.8em;\n",
       "        vertical-align: middle;\n",
       "        width: 100%;\n",
       "        border-bottom: 1px solid black;\n",
       "        margin: 10px;\n",
       "    }    \n",
       "\n",
       "    @bottom-center {\n",
       "        content: \"For Demonstration Only\";\n",
       "        font-size: 0.8em;\n",
       "        width: 100%;\n",
       "        vertical-align: middle;\n",
       "        border-top: 1px solid black;\n",
       "        margin: 10px;\n",
       "    }\n",
       "\n",
       "    @bottom-right {\n",
       "        content: counter(page) \"/\" counter(pages);\n",
       "        font-size: 0.8em;\n",
       "        vertical-align: middle;\n",
       "        \n",
       "    }\n",
       "\n",
       "    @footnote {\n",
       "        float: bottom;\n",
       "        border-top: 1px solid gray;\n",
       "        padding-top: 0.5em;\n",
       "\n",
       "        footnote-display: block;\n",
       "    }\n",
       "\n",
       "    /* @footnote::footnote-rule {\n",
       "        display: block;\n",
       "        border-top: 1px solid black;\n",
       "        padding-top: 0.5em;\n",
       "        margin-top: 0.5em;\n",
       "        width: fit-content;\n",
       "        margin-bottom: 0.5em;\n",
       "    } */\n",
       "\n",
       "}\n",
       "\n",
       "\n",
       "@page :first{\n",
       "  @top-left {\n",
       "    content: \"\";\n",
       "    border: none;\n",
       "  }\n",
       "  @bottom-right {\n",
       "    content: \"\";\n",
       "    border: none;\n",
       "  }\n",
       "  @bottom-center {\n",
       "    content: \"\";\n",
       "    border: none;\n",
       "  }\n",
       "}\n",
       "\n",
       "\n",
       "@page last_page {\n",
       "    @top-left {\n",
       "      content: \"\";\n",
       "      border: none;\n",
       "    }\n",
       "    @bottom-right {\n",
       "      content: \"\";\n",
       "      border: none;\n",
       "    }\n",
       "    @bottom-center {\n",
       "      content: \"\";\n",
       "      border: none;\n",
       "    }\n",
       "}\n",
       "\n",
       "\n",
       "/* \n",
       "the commented css can put a whole html element into page margin but couldnot do it in jupyter notebook\n",
       "due to the custom html element is a child of too many div layers with position a table-cell:\n",
       "header {position: running(header);}\n",
       "\n",
       "Thus have to use string-set css to get the contents of the header\n",
       "*/\n",
       "header {string-set: header contents;}\n",
       "\n",
       ".last_page {\n",
       "    page: last_page;\n",
       "    text-align: center;\n",
       "}\n",
       "\n",
       ".footnote {\n",
       "    float: footnote;\n",
       "    font-size: 0.6em;\n",
       "    vertical-align: super;\n",
       "    display: inline-block;\n",
       "}\n",
       "\n",
       "::footnote-call {\n",
       "    content: \"(\" counter(footnote) \")\";\n",
       "    vertical-align: super;\n",
       "    font-size: 0.6em;\n",
       "}\n",
       "\n",
       "::footnote-marker {\n",
       "    content: \"(\" counter(footnote) \"): \";\n",
       "    vertical-align: baseline;\n",
       "}\n",
       "\n",
       ".jp-RenderedHTMLCommon ul, .jp-RenderedHTMLCommon ul ul, .jp-RenderedHTMLCommon ul ul ul {\n",
       "  list-style: none;\n",
       "}\n",
       "\n",
       "@media print {\n",
       "    .toc {\n",
       "        display: block;\n",
       "    }\n",
       "    \n",
       "    .toc a::after {\n",
       "        content: leader('.') target-counter(attr(href), page);\n",
       "    \n",
       "    }\n",
       "}\n",
       "\n",
       ":root {\n",
       "    --bg-color-complied: greenyellow;\n",
       "    --bg-color-moderate: yellow;\n",
       "    --bg-color-significant: red;\n",
       "\n",
       "    --color-complied: black;\n",
       "    --color-moderate: black;\n",
       "    --color-significant: white;\n",
       "\n",
       "    /*These below variables are in HTML exporter scheme. Override them to have our desired printing font*/\n",
       "    --jp-content-heading-margin-top: 0.3em;\n",
       "    --jp-content-heading-margin-bottom: 0.6em;\n",
       "    --jp-content-heading-font-weight: 700;\n",
       "\n",
       "    --jp-content-font-size1: 12px; /* Base font size */\n",
       "    --jp-content-font-size2: 1em;\n",
       "    --jp-content-font-size3: 1em;\n",
       "    --jp-content-font-size4: 1em;\n",
       "    --jp-content-font-size5: 1em;\n",
       "  \n",
       "}\n",
       "\n",
       "/* setting for pagebreak */\n",
       ".pagebreak {page-break-after: always;}\n",
       "h1 {page-break-before: always;}\n",
       ".jp-Cell-inputWrapper, .jp-Cell-inputArea {display: block;}\n",
       "\n",
       "/* settings for outcome */\n",
       ".outcome-complied {\n",
       "    color: var(--color-complied);\n",
       "    background-color: var(--bg-color-complied);\n",
       "}\n",
       ".outcome-moderate {\n",
       "    color: var(--color-moderate);\n",
       "    background-color: var(--bg-color-moderate);\n",
       "}\n",
       ".outcome-significant {\n",
       "    color: var(--color-significant);\n",
       "    background-color: var(--bg-color-significant);\n",
       "}\n",
       "\n",
       "/* settings for chapter & table caption numbering */\n",
       "body {counter-reset: heading1 heading2 heading3 heading4 mycaption;}\n",
       "h1 {counter-set: heading2 0 mycaption 0;} /* set counter to 0 */\n",
       "h2 {counter-set: heading3 0;}\n",
       "h3 {counter-set: heading4 0;}\n",
       "\n",
       "h1[id]:not([id=\"Table-of-Contents\"]){counter-increment: heading1;}\n",
       "h2::before {counter-increment: heading2;}\n",
       "h3::before {counter-increment: heading3;}\n",
       "h4::before {content: counter(heading4) \" \";} \n",
       "    \n",
       "@media print {\n",
       "    h1[id]:not([id=\"Table-of-Contents\"])::before {content: counter(heading1) \"  \";}\n",
       "    h2::before {content: counter(heading1) \".\" counter(heading2) \" \";}\n",
       "    h3::before {content: counter(heading1) \".\" counter(heading2)  \".\" counter(heading3) \" \";}\n",
       "    h4::before {content: counter(heading4) \" \";}        \n",
       "}\n",
       "\n",
       "caption:before {\n",
       "counter-increment: mycaption;\n",
       "content: \"Table \" counter(heading1) \".\" counter(mycaption) \": \";\n",
       "}\n",
       "\n",
       "p {\n",
       "    text-align: justify !important;\n",
       "}\n",
       "\n",
       "/* settings for standard table */\n",
       ".ctable {\n",
       "    border-collapse: collapse;\n",
       "    border: 1px solid black;\n",
       "    /* width: 100% */\n",
       "    font-size: 10px !important;\n",
       "}\n",
       ".ctable td, .ctable th {\n",
       "    border: 1px solid black;\n",
       "    padding: 0.5em;\n",
       "}\n",
       ".ctable caption {\n",
       "    color: black;\n",
       "    text-align: center;\n",
       "    font-weight: bold;\n",
       "    padding: 0.5em;\n",
       "}\n",
       ".ctable.pre-wrap-data td{\n",
       "    white-space: pre-wrap;\n",
       "}\n",
       "\n",
       ".ctable.text-left td, .ctable.text-left th {text-align: left;}\n",
       ".ctable.text-right td, .ctable.text-right th {text-align: right;}\n",
       ".ctable.text-center td, .ctable.text-center th {text-align: center;}\n",
       "\n",
       ".ctable.index-left .index_name {text-align: left;}\n",
       ".ctable.index-left .row_heading {text-align: left;}\n",
       ".ctable.index-right .index_name {text-align: right;}\n",
       ".ctable.index-right .row_heading {text-align: right;}\n",
       ".ctable.index-center .index_name {text-align: center;}\n",
       ".ctable.index-center .row_heading {text-align: center;}\n",
       "\n",
       ".ctable.col0-left .col0 {text-align: left;}\n",
       ".ctable.col1-left .col1 {text-align: left;}\n",
       ".ctable.col2-left .col2 {text-align: left;}\n",
       ".ctable.col3-left .col3 {text-align: left;}\n",
       ".ctable.col4-left .col4 {text-align: left;}\n",
       ".ctable.col5-left .col5 {text-align: left;}\n",
       ".ctable.col6-left .col6 {text-align: left;}\n",
       ".ctable.col7-left .col7 {text-align: left;}\n",
       ".ctable.col8-left .col8 {text-align: left;}\n",
       ".ctable.col9-left .col9 {text-align: left;}\n",
       ".ctable.col10-left .col10 {text-align: left;}\n",
       ".ctable.col11-left .col11 {text-align: left;}\n",
       ".ctable.col12-left .col12 {text-align: left;}\n",
       "\n",
       ".ctable.col0-right .col0 {text-align: right;}\n",
       ".ctable.col1-right .col1 {text-align: right;}\n",
       ".ctable.col2-right .col2 {text-align: right;}\n",
       ".ctable.col3-right .col3 {text-align: right;}\n",
       ".ctable.col4-right .col4 {text-align: right;}\n",
       ".ctable.col5-right .col5 {text-align: right;}\n",
       ".ctable.col6-right .col6 {text-align: right;}\n",
       ".ctable.col7-right .col7 {text-align: right;}\n",
       ".ctable.col8-right .col8 {text-align: right;}\n",
       ".ctable.col9-right .col9 {text-align: right;}\n",
       ".ctable.col10-right .col10 {text-align: right;}\n",
       ".ctable.col11-right .col11 {text-align: right;}\n",
       ".ctable.col12-right .col12 {text-align: right;}\n",
       "\n",
       ".ctable.col0-center .col0 {text-align: center;}\n",
       ".ctable.col1-center .col1 {text-align: center;}\n",
       ".ctable.col2-center .col2 {text-align: center;}\n",
       ".ctable.col3-center .col3 {text-align: center;}\n",
       ".ctable.col4-center .col4 {text-align: center;}\n",
       ".ctable.col5-center .col5 {text-align: center;}\n",
       ".ctable.col6-center .col6 {text-align: center;}\n",
       ".ctable.col7-center .col7 {text-align: center;}\n",
       ".ctable.col8-center .col8 {text-align: center;}\n",
       ".ctable.col9-center .col9 {text-align: center;}\n",
       ".ctable.col10-center .col10 {text-align: center;}\n",
       ".ctable.col11-center .col11 {text-align: center;}\n",
       ".ctable.col12-center .col12 {text-align: center;}\n",
       "\n",
       ".ctable.no-header thead {display: none;}\n",
       ".ctable.no-border td, .ctable.no-border th {border: none;}\n",
       "\n",
       ".ctable.key-definitions {min-width: 100%; table-layout: fixed;}\n",
       ".ctable.key-definitions th:nth-child(1) {width: 10%;}\n",
       ".ctable.key-definitions th:nth-child(1) {width: 90%;}\n",
       ".ctable.key-definitions td:last-child {width: 10%;}\n",
       ".ctable.key-definitions td:last-child {width: 90%;}\n",
       "\n",
       "/* .ctable.data-period {min-width: 100%; table-layout: fixed;} */\n",
       ".ctable.data-period th:first-child, .ctable.data-period td:first-child {width: 3cm;}\n",
       ".ctable.data-period th, .ctable.data-period td {width: 5cm;}\n",
       "\n",
       ".ctable.doc-signoff th {width: 3.5cm}\n",
       ".ctable.doc-signoff th:nth-child(1) {width: 2.5cm;}\n",
       ".ctable.doc-signoff th:nth-child(2) {width: 2.5cm;}\n",
       ".ctable.doc-signoff td {width: 3.5cm; height: 1.5cm;}\n",
       ".ctable.doc-signoff td:nth-child(1) {width: 2.5cm; height: 1.5cm;}\n",
       ".ctable.doc-signoff td:nth-child(2) {width: 2.5cm; height: 1.5cm;}\n",
       "\n",
       "</style><header style=\"visibility: hidden;\">Model Validation Report 2022</header>"
      ],
      "text/plain": [
       "<IPython.core.display.HTML object>"
      ]
     },
     "execution_count": 7,
     "metadata": {},
     "output_type": "execute_result"
    }
   ],
   "source": [
    "%reload_ext autoreload\n",
    "%autoreload 2\n",
    "\n",
    "import os\n",
    "import pandas as pd\n",
    "import numpy as np\n",
    "from IPython.core.display import HTML, Javascript\n",
    "\n",
    "MODEL_NAME = 'cul-ascore'\n",
    "from mylibs.configs import load_configs\n",
    "\n",
    "configs = load_configs(MODEL_NAME)\n",
    "\n",
    "from mylibs.table_display import (\n",
    "    readModelInfo, \n",
    "    formatMultiIndexTable, \n",
    "    docTable,\n",
    "    create_and_excecute_code_cell,\n",
    "    getWaterfallTable,\n",
    "    getFrontendPSI,\n",
    "    computeFactorCA,\n",
    "    computeMultiFactorCA,\n",
    "    getStyledTable,\n",
    ")\n",
    "\n",
    "from mylibs.backend_tests import (\n",
    "    calcAR,\n",
    "    calcRiskRankingTable,\n",
    "    getRiskRankingOutcome,\n",
    "    getRiskRankingChart,\n",
    "    calcSubsegmentRanking,\n",
    "    calcMultiFactorAR,\n",
    "    calcFactorAR,\n",
    ")\n",
    "\n",
    "\n",
    "MODEL_INFO_FILE = os.environ.get('HOME_DIR') + f'/models/{MODEL_NAME}/data/validation_info.xlsx'\n",
    "\n",
    "MODEL_INFO_ModelInfo = readModelInfo(MODEL_INFO_FILE,'Model-Info')\n",
    "MODEL_INFO_DocInfo = readModelInfo(MODEL_INFO_FILE,'Doc-Info')\n",
    "MODEL_INFO_DocSignoff = readModelInfo(MODEL_INFO_FILE,'Doc-Signoff')\n",
    "MODEL_INFO_DataSource = readModelInfo(MODEL_INFO_FILE,'Data-Source')\n",
    "MODEL_INFO_DataPeriod = readModelInfo(MODEL_INFO_FILE,'Data-Period')\n",
    "MODEL_INFO_KeyDefinitions = readModelInfo(MODEL_INFO_FILE,'Key-Definitions')\n",
    "MODEL_INFO_Chrono = readModelInfo(MODEL_INFO_FILE,'Chrono')\n",
    "MODEL_INFO_OviewOS = readModelInfo(MODEL_INFO_FILE,'Port-Overview-OS')\n",
    "MODEL_INFO_OviewCnt = readModelInfo(MODEL_INFO_FILE,'Port-Overview-Cnt')\n",
    "\n",
    "strDocname = MODEL_INFO_DocInfo[MODEL_INFO_DocInfo['Field'] == 'Name']['Value'].values[0]\n",
    "strFilename = MODEL_INFO_DocInfo[MODEL_INFO_DocInfo['Field'] == 'Filename']['Value'].values[0]\n",
    "strPortfolio = MODEL_INFO_ModelInfo[MODEL_INFO_ModelInfo['Field'] == 'Portfolio Name']['Value'].values[0]\n",
    "strModelname = MODEL_INFO_ModelInfo[MODEL_INFO_ModelInfo['Field'] == 'Model Name']['Value'].values[0]\n",
    "\n",
    "dfData = pd.read_csv(os.environ.get('HOME_DIR') + f'/models/{MODEL_NAME}/data/ascore_val_data.csv', dtype={'cohort': str})\n",
    "\n",
    "# load custom css styling\n",
    "def css_styling():\n",
    "    styles = open(os.environ.get('HOME_DIR') + '/css/capp.css', \"r\").read()\n",
    "    return HTML('<style>' + styles + '</style>' +\n",
    "                f'<header style=\"visibility: hidden;\">{strDocname}</header>'\n",
    "               )\n",
    "css_styling()"
   ]
  },
  {
   "cell_type": "markdown",
   "id": "71f3edb0",
   "metadata": {
    "hide_input": false,
    "variables": {
     "docTable(MODEL_INFO_ModelInfo, no_header=True, table_type='text-left')": "<style type=\"text/css\">\n</style>\n<table id=\"T__\" class=\"ctable text-left no-header \">\n  <thead>\n    <tr>\n      <th class=\"col_heading level0 col0\" >Field</th>\n      <th class=\"col_heading level0 col1\" >Value</th>\n    </tr>\n  </thead>\n  <tbody>\n    <tr>\n      <td  class=\"data row0 col0\" >Portfolio Name</td>\n      <td  class=\"data row0 col1\" >Consumer Unsecured Lending </td>\n    </tr>\n    <tr>\n      <td  class=\"data row1 col0\" >Model Name</td>\n      <td  class=\"data row1 col1\" >Application Scorecard</td>\n    </tr>\n    <tr>\n      <td  class=\"data row2 col0\" >Model Version</td>\n      <td  class=\"data row2 col1\" >CUAS10</td>\n    </tr>\n    <tr>\n      <td  class=\"data row3 col0\" >Model Owner</td>\n      <td  class=\"data row3 col1\" >Modelling Department</td>\n    </tr>\n    <tr>\n      <td  class=\"data row4 col0\" >Model Developer</td>\n      <td  class=\"data row4 col1\" >Model Consultancy Ltd</td>\n    </tr>\n    <tr>\n      <td  class=\"data row5 col0\" >Model Last Validation Date</td>\n      <td  class=\"data row5 col1\" >Mar 2021</td>\n    </tr>\n  </tbody>\n</table>\n",
     "strDocname": "Model Validation Report 2022",
     "strModelname": "Application Scorecard",
     "strPortfolio": "Consumer Unsecured Lending "
    }
   },
   "source": [
    "<br><br><br><br><br>\n",
    "<div style=\"font-size:24pt; text-align:center; margin: 20px\">{{strDocname}}</div>\n",
    "<div style=\"font-size:24pt; text-align:center; margin: 20px\">{{strPortfolio}}</div>\n",
    "<div style=\"font-size:24pt; text-align:center; margin: 20px\">{{strModelname}}</div>\n",
    "<br><br><br><br><br>\n",
    "\n",
    "{{docTable(MODEL_INFO_ModelInfo, no_header=True, table_type='text-left')}}\n",
    "<br><br><br><br><br>\n"
   ]
  },
  {
   "cell_type": "markdown",
   "id": "0a6afd5e",
   "metadata": {
    "hide_input": false,
    "variables": {
     "docTable(MODEL_INFO_DocInfo, no_header=True, table_type='text-left')": "<style type=\"text/css\">\n</style>\n<table id=\"T__\" class=\"ctable text-left no-header \">\n  <thead>\n    <tr>\n      <th class=\"col_heading level0 col0\" >Field</th>\n      <th class=\"col_heading level0 col1\" >Value</th>\n    </tr>\n  </thead>\n  <tbody>\n    <tr>\n      <td  class=\"data row0 col0\" >Name</td>\n      <td  class=\"data row0 col1\" >Model Validation Report 2022</td>\n    </tr>\n    <tr>\n      <td  class=\"data row1 col0\" >Date</td>\n      <td  class=\"data row1 col1\" >Mar 2022</td>\n    </tr>\n    <tr>\n      <td  class=\"data row2 col0\" >Status</td>\n      <td  class=\"data row2 col1\" >Draft</td>\n    </tr>\n    <tr>\n      <td  class=\"data row3 col0\" >Filename</td>\n      <td  class=\"data row3 col1\" >Consumer Unsecured Lending - Ascore Validation 2022</td>\n    </tr>\n    <tr>\n      <td  class=\"data row4 col0\" >Author</td>\n      <td  class=\"data row4 col1\" >Nguyen Van XXX</td>\n    </tr>\n    <tr>\n      <td  class=\"data row5 col0\" >Confidentiality</td>\n      <td  class=\"data row5 col1\" >Internal Use</td>\n    </tr>\n  </tbody>\n</table>\n",
     "docTable(MODEL_INFO_DocSignoff,table_type='doc-signoff text-left')": "<style type=\"text/css\">\n</style>\n<table id=\"T__\" class=\"ctable doc-signoff text-left \">\n  <thead>\n    <tr>\n      <th class=\"col_heading level0 col0\" >Role</th>\n      <th class=\"col_heading level0 col1\" >Title</th>\n      <th class=\"col_heading level0 col2\" >Name</th>\n      <th class=\"col_heading level0 col3\" >Signature</th>\n    </tr>\n  </thead>\n  <tbody>\n    <tr>\n      <td  class=\"data row0 col0\" >Author</td>\n      <td  class=\"data row0 col1\" >Analyst</td>\n      <td  class=\"data row0 col2\" >Nguyen Van XXX</td>\n      <td  class=\"data row0 col3\" ></td>\n    </tr>\n    <tr>\n      <td  class=\"data row1 col0\" >Reviewer</td>\n      <td  class=\"data row1 col1\" >Senior Analyst</td>\n      <td  class=\"data row1 col2\" >Tran Van Zelenski</td>\n      <td  class=\"data row1 col3\" ></td>\n    </tr>\n    <tr>\n      <td  class=\"data row2 col0\" >Approver</td>\n      <td  class=\"data row2 col1\" >Head, Validation</td>\n      <td  class=\"data row2 col2\" >Le Van Putin</td>\n      <td  class=\"data row2 col3\" ></td>\n    </tr>\n  </tbody>\n</table>\n",
     "strDocname": "Model Validation Report 2022",
     "strModelname": "Application Scorecard",
     "strPortfolio": "Consumer Unsecured Lending "
    }
   },
   "source": [
    "<p class=\"pagebreak\"></p>\n",
    "<div style=\"font-size:18pt; text-align:center;\">\n",
    "{{strDocname}}<br>\n",
    "{{strPortfolio}} -  {{strModelname}}<br>\n",
    "</div>\n",
    "<br><br><br><br>\n",
    "\n",
    "**Confidentiality**\n",
    "<br>\n",
    "This document contains proprietary information that is confidential to our company. \n",
    "Disclosure of this document in full or part may result in material damage to the company.\n",
    "Written permission must be obtained from our company prior to the disclosure of this document to a third party.\n",
    "<br>\n",
    "<br>\n",
    "{{docTable(MODEL_INFO_DocInfo, no_header=True, table_type='text-left')}}\n",
    "<br><br>\n",
    "\n",
    "**Document Sign-off**\n",
    "<br>\n",
    "{{docTable(MODEL_INFO_DocSignoff,table_type='doc-signoff text-left')}}\n",
    "\n"
   ]
  },
  {
   "cell_type": "markdown",
   "id": "1a7416a8",
   "metadata": {
    "tags": [],
    "toc": true
   },
   "source": [
    "<h1>Table of Contents<span class=\"tocSkip\"></span></h1>\n",
    "<div class=\"toc\"><ul class=\"toc-item\"><li><span><a href=\"#Introduction\" data-toc-modified-id=\"Introduction-1\"><span class=\"toc-item-num\">1&nbsp;&nbsp;</span>Introduction</a></span><ul class=\"toc-item\"><li><span><a href=\"#Background\" data-toc-modified-id=\"Background-1.1\"><span class=\"toc-item-num\">1.1&nbsp;&nbsp;</span>Background</a></span></li><li><span><a href=\"#Scope-of-Validation\" data-toc-modified-id=\"Scope-of-Validation-1.2\"><span class=\"toc-item-num\">1.2&nbsp;&nbsp;</span>Scope of Validation</a></span></li></ul></li><li><span><a href=\"#Executive-Summary\" data-toc-modified-id=\"Executive-Summary-2\"><span class=\"toc-item-num\">2&nbsp;&nbsp;</span>Executive Summary</a></span></li><li><span><a href=\"#Portfolio-Overview\" data-toc-modified-id=\"Portfolio-Overview-3\"><span class=\"toc-item-num\">3&nbsp;&nbsp;</span>Portfolio Overview</a></span></li><li><span><a href=\"#Validation-Data-and-Key-Technical-Definitions\" data-toc-modified-id=\"Validation-Data-and-Key-Technical-Definitions-4\"><span class=\"toc-item-num\">4&nbsp;&nbsp;</span>Validation Data and Key Technical Definitions</a></span><ul class=\"toc-item\"><li><span><a href=\"#Data-Sources\" data-toc-modified-id=\"Data-Sources-4.1\"><span class=\"toc-item-num\">4.1&nbsp;&nbsp;</span>Data Sources</a></span></li><li><span><a href=\"#Data-Period\" data-toc-modified-id=\"Data-Period-4.2\"><span class=\"toc-item-num\">4.2&nbsp;&nbsp;</span>Data Period</a></span></li><li><span><a href=\"#Key-Technical-Definitions\" data-toc-modified-id=\"Key-Technical-Definitions-4.3\"><span class=\"toc-item-num\">4.3&nbsp;&nbsp;</span>Key Technical Definitions</a></span></li><li><span><a href=\"#Data-Quality-and-Completeness\" data-toc-modified-id=\"Data-Quality-and-Completeness-4.4\"><span class=\"toc-item-num\">4.4&nbsp;&nbsp;</span>Data Quality and Completeness</a></span></li><li><span><a href=\"#Summary-of-Validation-Data\" data-toc-modified-id=\"Summary-of-Validation-Data-4.5\"><span class=\"toc-item-num\">4.5&nbsp;&nbsp;</span>Summary of Validation Data</a></span></li></ul></li><li><span><a href=\"#Scorecard-Assessment\" data-toc-modified-id=\"Scorecard-Assessment-5\"><span class=\"toc-item-num\">5&nbsp;&nbsp;</span>Scorecard Assessment</a></span><ul class=\"toc-item\"><li><span><a href=\"#Front-end-Assessment\" data-toc-modified-id=\"Front-end-Assessment-5.1\"><span class=\"toc-item-num\">5.1&nbsp;&nbsp;</span>Front-end Assessment</a></span><ul class=\"toc-item\"><li><span><a href=\"#Population-Stability-Index-(PSI)\" data-toc-modified-id=\"Population-Stability-Index-(PSI)-5.1.1\"><span class=\"toc-item-num\">5.1.1&nbsp;&nbsp;</span>Population Stability Index (PSI)</a></span></li><li><span><a href=\"#Factor-Charateristic-Analysis\" data-toc-modified-id=\"Factor-Charateristic-Analysis-5.1.2\"><span class=\"toc-item-num\">5.1.2&nbsp;&nbsp;</span>Factor Charateristic Analysis</a></span></li></ul></li><li><span><a href=\"#Back-end-Assessment\" data-toc-modified-id=\"Back-end-Assessment-5.2\"><span class=\"toc-item-num\">5.2&nbsp;&nbsp;</span>Back-end Assessment</a></span><ul class=\"toc-item\"><li><span><a href=\"#Overall-Model-Performance\" data-toc-modified-id=\"Overall-Model-Performance-5.2.1\"><span class=\"toc-item-num\">5.2.1&nbsp;&nbsp;</span>Overall Model Performance</a></span></li><li><span><a href=\"#Sub-segment-Level-Performance\" data-toc-modified-id=\"Sub-segment-Level-Performance-5.2.2\"><span class=\"toc-item-num\">5.2.2&nbsp;&nbsp;</span>Sub-segment Level Performance</a></span></li><li><span><a href=\"#Factor-Level-Performance\" data-toc-modified-id=\"Factor-Level-Performance-5.2.3\"><span class=\"toc-item-num\">5.2.3&nbsp;&nbsp;</span>Factor Level Performance</a></span></li></ul></li></ul></li><li><span><a href=\"#Conclusion\" data-toc-modified-id=\"Conclusion-6\"><span class=\"toc-item-num\">6&nbsp;&nbsp;</span>Conclusion</a></span></li><li><span><a href=\"#Appendices\" data-toc-modified-id=\"Appendices-7\"><span class=\"toc-item-num\">7&nbsp;&nbsp;</span>Appendices</a></span><ul class=\"toc-item\"><li><span><a href=\"#Factor-Distribution\" data-toc-modified-id=\"Factor-Distribution-7.1\"><span class=\"toc-item-num\">7.1&nbsp;&nbsp;</span>Factor Distribution</a></span></li><li><span><a href=\"#Chronology\" data-toc-modified-id=\"Chronology-7.2\"><span class=\"toc-item-num\">7.2&nbsp;&nbsp;</span>Chronology</a></span></li></ul></li></ul></div>"
   ]
  },
  {
   "cell_type": "markdown",
   "id": "30848f65",
   "metadata": {},
   "source": [
    "# Introduction"
   ]
  },
  {
   "cell_type": "markdown",
   "id": "5a39a856",
   "metadata": {
    "hide_input": false
   },
   "source": [
    "## Background\n",
    "To have a better tool to assess customer credit risk, the bank had develop the a model suite for Consumer Unsecured Lending segment. It comprised of an application scorecard, a behaviour scorecard and PD/EAD/LGD<span class=\"footnote\">PD: Probability of Default just try a very long footnote to see how it go on the printing just hope everything ok<br> EAD: Exposure At Default<br> LGD: Loss Given at Default</span> segmentation models.\n",
    "<br>\n",
    "<br>\n",
    "The application scorecard was developed in 2014 and implemented in Oct 2015, after gone through independent validation processes and obtained the approval for uses by Credit Risk Committee. Since then the scorecard was being assessed annually and concluding to be fit for continued uses.\n",
    "<br>\n",
    "<br>\n",
    "The newly developed scorecards and segmentation models had achieved excellent risk ranking power, with AR of 71% for the Ascore, 85% for Bscore and 80% for PD models."
   ]
  },
  {
   "cell_type": "markdown",
   "id": "957fa4ed",
   "metadata": {
    "hide_input": true
   },
   "source": [
    "## Scope of Validation\n",
    "\n",
    "<p>The scope of this review is to analyse the performance of the application scorecard for Consumer Unsecured Lending portfolios. Data was based on recent cohorts and asss if the scorecard is fit for continue uses. This report is to document the validation results and findings.</p>\n",
    "<p>The performance of the scorecard is assessed against stardards set out in our Independent Validation Guidelines. These take into account the regulatory requirements. We employed the following color coding scheme in our assessment of the scorecard.</p>\n",
    "\n",
    "<table class=\"ctable\">\n",
    "    <caption>Outcome Color Code</caption>\n",
    "    <thead>\n",
    "        <tr><th style=\"text-align: center\">Color</th><th style=\"text-align: left\">Outcome</th></tr>\n",
    "    </thead>\n",
    "    <tbody>\n",
    "        <tr><td class=\"outcome-complied\" style=\"text-align: center\">Green</td><td style=\"text-align: left\">Indicates generally complied with requirements/standards</td></tr>\n",
    "        <tr><td class=\"outcome-moderate\" style=\"text-align: center\">Yellow</td><td style=\"text-align: left\">Indicates moderate gaps to requirements/standards</td></tr>\n",
    "        <tr><td class=\"outcome-significant\" style=\"text-align: center\">Red</td><td style=\"text-align: left\">Indicates significant gaps to requirements/standards</td></tr>\n",
    "    </tbody>\n",
    "</table>"
   ]
  },
  {
   "cell_type": "markdown",
   "id": "231b9a8e",
   "metadata": {},
   "source": [
    "# Executive Summary"
   ]
  },
  {
   "cell_type": "markdown",
   "id": "acb5b93e",
   "metadata": {},
   "source": [
    "*Place holder for user comment*"
   ]
  },
  {
   "cell_type": "markdown",
   "id": "8e23dce6",
   "metadata": {},
   "source": [
    "# Portfolio Overview"
   ]
  },
  {
   "cell_type": "markdown",
   "id": "da256e4d",
   "metadata": {
    "hide_input": true,
    "variables": {
     "docTable(MODEL_INFO_OviewCnt,caption='Portfolio Overview (By Count)', numbers_format='{:,.0f}', table_type='text-center')": "<style type=\"text/css\">\n</style>\n<table id=\"T__\" class=\"ctable text-center \">\n  <caption>Portfolio Overview (By Count)</caption>\n  <thead>\n    <tr>\n      <th class=\"col_heading level0 col0\" >Segment</th>\n      <th class=\"col_heading level0 col1\" >Sub-segment</th>\n      <th class=\"col_heading level0 col2\" >Dec 2015</th>\n      <th class=\"col_heading level0 col3\" >Dec 2016</th>\n      <th class=\"col_heading level0 col4\" >Dec 2017</th>\n      <th class=\"col_heading level0 col5\" >Dec 2018</th>\n      <th class=\"col_heading level0 col6\" >Dec 2019</th>\n      <th class=\"col_heading level0 col7\" >Dec 2020</th>\n      <th class=\"col_heading level0 col8\" >Dec 2021</th>\n    </tr>\n  </thead>\n  <tbody>\n    <tr>\n      <td  class=\"data row0 col0\" >CUL</td>\n      <td  class=\"data row0 col1\" >CC</td>\n      <td  class=\"data row0 col2\" >3,748,200</td>\n      <td  class=\"data row0 col3\" >4,197,453</td>\n      <td  class=\"data row0 col4\" >4,646,706</td>\n      <td  class=\"data row0 col5\" >5,095,959</td>\n      <td  class=\"data row0 col6\" >5,545,212</td>\n      <td  class=\"data row0 col7\" >5,994,465</td>\n      <td  class=\"data row0 col8\" >6,443,718</td>\n    </tr>\n    <tr>\n      <td  class=\"data row1 col0\" >CUL</td>\n      <td  class=\"data row1 col1\" >OD</td>\n      <td  class=\"data row1 col2\" >1,756,320</td>\n      <td  class=\"data row1 col3\" >1,603,587</td>\n      <td  class=\"data row1 col4\" >1,603,678</td>\n      <td  class=\"data row1 col5\" >1,603,769</td>\n      <td  class=\"data row1 col6\" >1,603,860</td>\n      <td  class=\"data row1 col7\" >1,603,951</td>\n      <td  class=\"data row1 col8\" >1,604,042</td>\n    </tr>\n  </tbody>\n</table>\n",
     "docTable(MODEL_INFO_OviewOS, caption='Portfolio Overview (By Outstanding $mil)', numbers_format='{:,.0f}', table_type='text-center')": "<style type=\"text/css\">\n</style>\n<table id=\"T__\" class=\"ctable text-center \">\n  <caption>Portfolio Overview (By Outstanding $mil)</caption>\n  <thead>\n    <tr>\n      <th class=\"col_heading level0 col0\" >Segment</th>\n      <th class=\"col_heading level0 col1\" >Sub-segment</th>\n      <th class=\"col_heading level0 col2\" >Dec 2015</th>\n      <th class=\"col_heading level0 col3\" >Dec 2016</th>\n      <th class=\"col_heading level0 col4\" >Dec 2017</th>\n      <th class=\"col_heading level0 col5\" >Dec 2018</th>\n      <th class=\"col_heading level0 col6\" >Dec 2019</th>\n      <th class=\"col_heading level0 col7\" >Dec 2020</th>\n      <th class=\"col_heading level0 col8\" >Dec 2021</th>\n    </tr>\n  </thead>\n  <tbody>\n    <tr>\n      <td  class=\"data row0 col0\" >CUL</td>\n      <td  class=\"data row0 col1\" >CC</td>\n      <td  class=\"data row0 col2\" >716</td>\n      <td  class=\"data row0 col3\" >746</td>\n      <td  class=\"data row0 col4\" >776</td>\n      <td  class=\"data row0 col5\" >806</td>\n      <td  class=\"data row0 col6\" >836</td>\n      <td  class=\"data row0 col7\" >866</td>\n      <td  class=\"data row0 col8\" >896</td>\n    </tr>\n    <tr>\n      <td  class=\"data row1 col0\" >CUL</td>\n      <td  class=\"data row1 col1\" >OD</td>\n      <td  class=\"data row1 col2\" >221</td>\n      <td  class=\"data row1 col3\" >200</td>\n      <td  class=\"data row1 col4\" >195</td>\n      <td  class=\"data row1 col5\" >187</td>\n      <td  class=\"data row1 col6\" >179</td>\n      <td  class=\"data row1 col7\" >171</td>\n      <td  class=\"data row1 col8\" >163</td>\n    </tr>\n  </tbody>\n</table>\n"
    }
   },
   "source": [
    "The Consumer Unsecured Lending portfolio consist of 2 main products, Credit Card and Overdraft. The portfolio composition over the years are shown in following tables.\n",
    "<br>\n",
    "{{docTable(MODEL_INFO_OviewOS, caption='Portfolio Overview (By Outstanding $mil)', numbers_format='{:,.0f}', table_type='text-center')}}\n",
    "<br>\n",
    "{{docTable(MODEL_INFO_OviewCnt,caption='Portfolio Overview (By Count)', numbers_format='{:,.0f}', table_type='text-center')}}\n"
   ]
  },
  {
   "cell_type": "markdown",
   "id": "bb8a8caf",
   "metadata": {},
   "source": [
    "*Place-holder for analyst to write more stories*"
   ]
  },
  {
   "cell_type": "markdown",
   "id": "567592ed",
   "metadata": {},
   "source": [
    "# Validation Data and Key Technical Definitions"
   ]
  },
  {
   "cell_type": "markdown",
   "id": "33904106",
   "metadata": {},
   "source": [
    "## Data Sources"
   ]
  },
  {
   "cell_type": "markdown",
   "id": "6661f516",
   "metadata": {
    "variables": {
     "docTable(MODEL_INFO_DataSource, table_type='text-left', caption='Data Sources')": "<style type=\"text/css\">\n</style>\n<table id=\"T__\" class=\"ctable text-left \">\n  <caption>Data Sources</caption>\n  <thead>\n    <tr>\n      <th class=\"col_heading level0 col0\" >Data</th>\n      <th class=\"col_heading level0 col1\" >Source</th>\n      <th class=\"col_heading level0 col2\" >Description</th>\n    </tr>\n  </thead>\n  <tbody>\n    <tr>\n      <td  class=\"data row0 col0\" >Base</td>\n      <td  class=\"data row0 col1\" >LOS</td>\n      <td  class=\"data row0 col2\" >Contains application information</td>\n    </tr>\n    <tr>\n      <td  class=\"data row1 col0\" >Base</td>\n      <td  class=\"data row1 col1\" >CIC</td>\n      <td  class=\"data row1 col2\" >Contains credit bureau information</td>\n    </tr>\n    <tr>\n      <td  class=\"data row2 col0\" >Performance</td>\n      <td  class=\"data row2 col1\" >Datawarehouse</td>\n      <td  class=\"data row2 col2\" >Contains account performance information</td>\n    </tr>\n  </tbody>\n</table>\n"
    }
   },
   "source": [
    "The data sources for current review are summarised below.\n",
    "{{docTable(MODEL_INFO_DataSource, table_type='text-left', caption='Data Sources')}}\n"
   ]
  },
  {
   "cell_type": "markdown",
   "id": "c4dd7c18",
   "metadata": {},
   "source": [
    "## Data Period"
   ]
  },
  {
   "cell_type": "markdown",
   "id": "db8bdb88",
   "metadata": {
    "variables": {
     "docTable(MODEL_INFO_DataPeriod,table_type='data-period text-left', caption='Data Period')": "<style type=\"text/css\">\n</style>\n<table id=\"T__\" class=\"ctable data-period text-left \">\n  <caption>Data Period</caption>\n  <thead>\n    <tr>\n      <th class=\"col_heading level0 col0\" >Analysis</th>\n      <th class=\"col_heading level0 col1\" >Baseline</th>\n      <th class=\"col_heading level0 col2\" >Current Review</th>\n    </tr>\n  </thead>\n  <tbody>\n    <tr>\n      <td  class=\"data row0 col0\" >Front-end Analysis</td>\n      <td  class=\"data row0 col1\" >Applications from 2015-2016</td>\n      <td  class=\"data row0 col2\" >Applications from 2017-2021</td>\n    </tr>\n    <tr>\n      <td  class=\"data row1 col0\" >Back-end Analysis</td>\n      <td  class=\"data row1 col1\" >Applications from 2015-2016 with performance tracked till Dec 2017</td>\n      <td  class=\"data row1 col2\" >Applications from 2017-2019 with performance tracked till Dec 2021</td>\n    </tr>\n  </tbody>\n</table>\n"
    }
   },
   "source": [
    "{{docTable(MODEL_INFO_DataPeriod,table_type='data-period text-left', caption='Data Period')}}"
   ]
  },
  {
   "cell_type": "markdown",
   "id": "9d15064c",
   "metadata": {},
   "source": [
    "## Key Technical Definitions"
   ]
  },
  {
   "cell_type": "markdown",
   "id": "076d8312",
   "metadata": {
    "variables": {
     "docTable(MODEL_INFO_KeyDefinitions, pre_wrap_data=True, table_type='text-left')": "<style type=\"text/css\">\n</style>\n<table id=\"T__\" class=\"ctable text-left pre-wrap-data \">\n  <thead>\n    <tr>\n      <th class=\"col_heading level0 col0\" >Key Definitions</th>\n      <th class=\"col_heading level0 col1\" >Description</th>\n    </tr>\n  </thead>\n  <tbody>\n    <tr>\n      <td  class=\"data row0 col0\" >Exclusion Criteria</td>\n      <td  class=\"data row0 col1\" >Following applications were excluded from review samples\n\n1. Pending or Cancelled applications\n\n2. Outright Rejected applications:\n  - Failed Regulatory requirements (e.g. income/age check, ...)\n  - Failed the bank acceptance criteria (e.g. poor conduct on existing loans, bad credit check in CIC,...)\n\n3. Bypass scoring decisions:\n  - Staff applications\n  - 2nd carding\n  - Limit review</td>\n    </tr>\n    <tr>\n      <td  class=\"data row1 col0\" >Good/Bad</td>\n      <td  class=\"data row1 col1\" >This scorecard was developed at application level and the performance was tracked throughout the performance period. A customer was considered \"Bad\" if any of its Credit Card or Overdraft was satisfied the conditions below:\n  - Ever 60+ dpd\n  - NPL/Written-Off\n\nOtherwise, the customer was treated as \"Good\"</td>\n    </tr>\n    <tr>\n      <td  class=\"data row2 col0\" >Technical Bad</td>\n      <td  class=\"data row2 col1\" >Customer might have turn \"Bad\" due to technical reason rather than credit reasons, e.g. disputed on annual fees or charges. They were considered as \"Technical Bad\" and were treated as \"Good\".\n\n\"Technical Bad\" was defined as customer having total outstanding at Bad month with less than \\$100.\n\nHowever, customers that were marked as bankpted/restructured were excluded from \"Technical Bad\" treatment. They were treated as \"Bad\" regardless of the outstanding at the month turning \"Bad\"</td>\n    </tr>\n  </tbody>\n</table>\n"
    }
   },
   "source": [
    "{{docTable(MODEL_INFO_KeyDefinitions, pre_wrap_data=True, table_type='text-left')}}\n",
    "<div class=\"pagebreak\"> </div>"
   ]
  },
  {
   "cell_type": "markdown",
   "id": "89522367",
   "metadata": {},
   "source": [
    "## Data Quality and Completeness"
   ]
  },
  {
   "cell_type": "markdown",
   "id": "bbc548ad",
   "metadata": {},
   "source": [
    "For this exercise, a thorough check on data quality and completeness was conducted to ensure no significant impact to the assessment results.<br>\n",
    "No issue was found. We concluded that data quality and completeness were fit and representative for validation purpuse."
   ]
  },
  {
   "cell_type": "markdown",
   "id": "f789dc59",
   "metadata": {},
   "source": [
    "## Summary of Validation Data"
   ]
  },
  {
   "cell_type": "markdown",
   "id": "28711967",
   "metadata": {
    "hide_input": true,
    "variables": {
     "docTable(getWaterfallTable(dfData,configs), show_index=True, numbers_format='{:,.0f}', table_type='text-center index-left', caption='Data Waterfall Analysis')": "<style type=\"text/css\">\n</style>\n<table id=\"T__\" class=\"ctable text-center index-left \">\n  <caption>Data Waterfall Analysis</caption>\n  <thead>\n    <tr>\n      <th class=\"blank level0\" >&nbsp;</th>\n      <th class=\"col_heading level0 col0\" >Dev</th>\n      <th class=\"col_heading level0 col1\" colspan=\"3\">Review</th>\n      <th class=\"col_heading level0 col4\" >All</th>\n    </tr>\n    <tr>\n      <th class=\"index_name level1\" >Category</th>\n      <th class=\"col_heading level1 col0\" >Baseline</th>\n      <th class=\"col_heading level1 col1\" >2018</th>\n      <th class=\"col_heading level1 col2\" >2019</th>\n      <th class=\"col_heading level1 col3\" >2020</th>\n      <th class=\"col_heading level1 col4\" ></th>\n    </tr>\n  </thead>\n  <tbody>\n    <tr>\n      <th id=\"T__level0_row0\" class=\"row_heading level0 row0\" >01. Front-end</th>\n      <td  class=\"data row0 col0\" >34,656</td>\n      <td  class=\"data row0 col1\" >55,912</td>\n      <td  class=\"data row0 col2\" >32,111</td>\n      <td  class=\"data row0 col3\" >29,130</td>\n      <td  class=\"data row0 col4\" >151,809</td>\n    </tr>\n    <tr>\n      <th id=\"T__level0_row1\" class=\"row_heading level0 row1\" >02. (-) Rejected</th>\n      <td  class=\"data row1 col0\" >6,554</td>\n      <td  class=\"data row1 col1\" >8,811</td>\n      <td  class=\"data row1 col2\" >9,457</td>\n      <td  class=\"data row1 col3\" >7,741</td>\n      <td  class=\"data row1 col4\" >32,563</td>\n    </tr>\n    <tr>\n      <th id=\"T__level0_row2\" class=\"row_heading level0 row2\" >03. (-) Insufficient Performance Window</th>\n      <td  class=\"data row2 col0\" >0</td>\n      <td  class=\"data row2 col1\" >0</td>\n      <td  class=\"data row2 col2\" >0</td>\n      <td  class=\"data row2 col3\" >21,389</td>\n      <td  class=\"data row2 col4\" >21,389</td>\n    </tr>\n    <tr>\n      <th id=\"T__level0_row3\" class=\"row_heading level0 row3\" >04. (-) Indeterminated</th>\n      <td  class=\"data row3 col0\" >599</td>\n      <td  class=\"data row3 col1\" >1,061</td>\n      <td  class=\"data row3 col2\" >284</td>\n      <td  class=\"data row3 col3\" >0</td>\n      <td  class=\"data row3 col4\" >1,944</td>\n    </tr>\n    <tr>\n      <th id=\"T__level0_row4\" class=\"row_heading level0 row4\" >05. Back-end</th>\n      <td  class=\"data row4 col0\" >27,503</td>\n      <td  class=\"data row4 col1\" >46,040</td>\n      <td  class=\"data row4 col2\" >22,370</td>\n      <td  class=\"data row4 col3\" >0</td>\n      <td  class=\"data row4 col4\" >95,913</td>\n    </tr>\n    <tr>\n      <th id=\"T__level0_row5\" class=\"row_heading level0 row5\" >appl_id</th>\n      <td  class=\"data row5 col0\" >27,503</td>\n      <td  class=\"data row5 col1\" >46,040</td>\n      <td  class=\"data row5 col2\" >22,370</td>\n      <td  class=\"data row5 col3\" >0</td>\n      <td  class=\"data row5 col4\" >0</td>\n    </tr>\n  </tbody>\n</table>\n"
    }
   },
   "source": [
    "Table below summarised the steps to arrive the front-end and back-end validation samples.\n",
    "<br>\n",
    "{{docTable(getWaterfallTable(dfData,configs), show_index=True, numbers_format='{:,.0f}', table_type='text-center index-left', caption='Data Waterfall Analysis')}}"
   ]
  },
  {
   "cell_type": "markdown",
   "id": "853dd203",
   "metadata": {},
   "source": [
    "# Scorecard Assessment"
   ]
  },
  {
   "cell_type": "markdown",
   "id": "676b6f15",
   "metadata": {
    "hide_input": true
   },
   "source": [
    "## Front-end Assessment"
   ]
  },
  {
   "cell_type": "markdown",
   "id": "7c496c4a",
   "metadata": {},
   "source": [
    "### Population Stability Index (PSI)"
   ]
  },
  {
   "cell_type": "code",
   "execution_count": 8,
   "id": "49f02a80",
   "metadata": {
    "hide_input": false,
    "init_cell": true
   },
   "outputs": [],
   "source": [
    "dfFrontend,dfPSIOutcome = getFrontendPSI(dfData, configs)\n",
    "\n",
    "formatFrontend = formatMultiIndexTable(cols=dfFrontend.columns,\n",
    "                                       firstIndexNames=['Count','Distribution', 'IV'],\n",
    "                                       formats = ['{:,.0f}', '{:,.1%}', '{:,.4f}'])\n",
    "# formatFrontend"
   ]
  },
  {
   "cell_type": "markdown",
   "id": "dff6b994",
   "metadata": {
    "hide_input": false,
    "variables": {
     "docTable(dfFrontend, show_index=True, table_type='text-center', numbers_format=formatFrontend, caption='Frontend Distribution')": "<style type=\"text/css\">\n</style>\n<table id=\"T__\" class=\"ctable text-center \">\n  <caption>Frontend Distribution</caption>\n  <thead>\n    <tr>\n      <th class=\"blank level0\" >&nbsp;</th>\n      <th class=\"col_heading level0 col0\" colspan=\"4\">Count</th>\n      <th class=\"col_heading level0 col4\" colspan=\"4\">Distribution</th>\n      <th class=\"col_heading level0 col8\" colspan=\"3\">IV</th>\n    </tr>\n    <tr>\n      <th class=\"blank level1\" >&nbsp;</th>\n      <th class=\"col_heading level1 col0\" >Dev</th>\n      <th class=\"col_heading level1 col1\" colspan=\"3\">Review</th>\n      <th class=\"col_heading level1 col4\" >Dev</th>\n      <th class=\"col_heading level1 col5\" colspan=\"3\">Review</th>\n      <th class=\"col_heading level1 col8\" colspan=\"3\">Review</th>\n    </tr>\n    <tr>\n      <th class=\"blank level2\" >&nbsp;</th>\n      <th class=\"col_heading level2 col0\" >Baseline</th>\n      <th class=\"col_heading level2 col1\" >2018</th>\n      <th class=\"col_heading level2 col2\" >2019</th>\n      <th class=\"col_heading level2 col3\" >2020</th>\n      <th class=\"col_heading level2 col4\" >Baseline</th>\n      <th class=\"col_heading level2 col5\" >2018</th>\n      <th class=\"col_heading level2 col6\" >2019</th>\n      <th class=\"col_heading level2 col7\" >2020</th>\n      <th class=\"col_heading level2 col8\" >2018</th>\n      <th class=\"col_heading level2 col9\" >2019</th>\n      <th class=\"col_heading level2 col10\" >2020</th>\n    </tr>\n  </thead>\n  <tbody>\n    <tr>\n      <th id=\"T__level0_row0\" class=\"row_heading level0 row0\" >(0, 200]</th>\n      <td  class=\"data row0 col0\" >1,180</td>\n      <td  class=\"data row0 col1\" >3,003</td>\n      <td  class=\"data row0 col2\" >1,847</td>\n      <td  class=\"data row0 col3\" >1,721</td>\n      <td  class=\"data row0 col4\" >3.4%</td>\n      <td  class=\"data row0 col5\" >5.4%</td>\n      <td  class=\"data row0 col6\" >5.8%</td>\n      <td  class=\"data row0 col7\" >5.9%</td>\n      <td  class=\"data row0 col8\" >0.0090</td>\n      <td  class=\"data row0 col9\" >0.0123</td>\n      <td  class=\"data row0 col10\" >0.0138</td>\n    </tr>\n    <tr>\n      <th id=\"T__level0_row1\" class=\"row_heading level0 row1\" >(200, 220]</th>\n      <td  class=\"data row1 col0\" >1,582</td>\n      <td  class=\"data row1 col1\" >2,874</td>\n      <td  class=\"data row1 col2\" >1,946</td>\n      <td  class=\"data row1 col3\" >1,792</td>\n      <td  class=\"data row1 col4\" >4.6%</td>\n      <td  class=\"data row1 col5\" >5.1%</td>\n      <td  class=\"data row1 col6\" >6.1%</td>\n      <td  class=\"data row1 col7\" >6.2%</td>\n      <td  class=\"data row1 col8\" >0.0007</td>\n      <td  class=\"data row1 col9\" >0.0042</td>\n      <td  class=\"data row1 col10\" >0.0047</td>\n    </tr>\n    <tr>\n      <th id=\"T__level0_row2\" class=\"row_heading level0 row2\" >(220, 240]</th>\n      <td  class=\"data row2 col0\" >2,648</td>\n      <td  class=\"data row2 col1\" >4,727</td>\n      <td  class=\"data row2 col2\" >2,835</td>\n      <td  class=\"data row2 col3\" >2,492</td>\n      <td  class=\"data row2 col4\" >7.6%</td>\n      <td  class=\"data row2 col5\" >8.5%</td>\n      <td  class=\"data row2 col6\" >8.8%</td>\n      <td  class=\"data row2 col7\" >8.6%</td>\n      <td  class=\"data row2 col8\" >0.0008</td>\n      <td  class=\"data row2 col9\" >0.0017</td>\n      <td  class=\"data row2 col10\" >0.0010</td>\n    </tr>\n    <tr>\n      <th id=\"T__level0_row3\" class=\"row_heading level0 row3\" >(240, 260]</th>\n      <td  class=\"data row3 col0\" >3,665</td>\n      <td  class=\"data row3 col1\" >6,404</td>\n      <td  class=\"data row3 col2\" >3,656</td>\n      <td  class=\"data row3 col3\" >3,305</td>\n      <td  class=\"data row3 col4\" >10.6%</td>\n      <td  class=\"data row3 col5\" >11.5%</td>\n      <td  class=\"data row3 col6\" >11.4%</td>\n      <td  class=\"data row3 col7\" >11.3%</td>\n      <td  class=\"data row3 col8\" >0.0007</td>\n      <td  class=\"data row3 col9\" >0.0006</td>\n      <td  class=\"data row3 col10\" >0.0005</td>\n    </tr>\n    <tr>\n      <th id=\"T__level0_row4\" class=\"row_heading level0 row4\" >(260, 280]</th>\n      <td  class=\"data row4 col0\" >4,260</td>\n      <td  class=\"data row4 col1\" >7,764</td>\n      <td  class=\"data row4 col2\" >4,251</td>\n      <td  class=\"data row4 col3\" >3,855</td>\n      <td  class=\"data row4 col4\" >12.3%</td>\n      <td  class=\"data row4 col5\" >13.9%</td>\n      <td  class=\"data row4 col6\" >13.2%</td>\n      <td  class=\"data row4 col7\" >13.2%</td>\n      <td  class=\"data row4 col8\" >0.0019</td>\n      <td  class=\"data row4 col9\" >0.0007</td>\n      <td  class=\"data row4 col10\" >0.0007</td>\n    </tr>\n    <tr>\n      <th id=\"T__level0_row5\" class=\"row_heading level0 row5\" >(280, 300]</th>\n      <td  class=\"data row5 col0\" >5,680</td>\n      <td  class=\"data row5 col1\" >9,158</td>\n      <td  class=\"data row5 col2\" >5,103</td>\n      <td  class=\"data row5 col3\" >4,596</td>\n      <td  class=\"data row5 col4\" >16.4%</td>\n      <td  class=\"data row5 col5\" >16.4%</td>\n      <td  class=\"data row5 col6\" >15.9%</td>\n      <td  class=\"data row5 col7\" >15.8%</td>\n      <td  class=\"data row5 col8\" >0.0000</td>\n      <td  class=\"data row5 col9\" >0.0002</td>\n      <td  class=\"data row5 col10\" >0.0002</td>\n    </tr>\n    <tr>\n      <th id=\"T__level0_row6\" class=\"row_heading level0 row6\" >(300, 320]</th>\n      <td  class=\"data row6 col0\" >7,233</td>\n      <td  class=\"data row6 col1\" >10,217</td>\n      <td  class=\"data row6 col2\" >5,733</td>\n      <td  class=\"data row6 col3\" >5,395</td>\n      <td  class=\"data row6 col4\" >20.9%</td>\n      <td  class=\"data row6 col5\" >18.3%</td>\n      <td  class=\"data row6 col6\" >17.9%</td>\n      <td  class=\"data row6 col7\" >18.5%</td>\n      <td  class=\"data row6 col8\" >0.0035</td>\n      <td  class=\"data row6 col9\" >0.0047</td>\n      <td  class=\"data row6 col10\" >0.0028</td>\n    </tr>\n    <tr>\n      <th id=\"T__level0_row7\" class=\"row_heading level0 row7\" >(320, 340]</th>\n      <td  class=\"data row7 col0\" >5,642</td>\n      <td  class=\"data row7 col1\" >7,927</td>\n      <td  class=\"data row7 col2\" >4,576</td>\n      <td  class=\"data row7 col3\" >4,085</td>\n      <td  class=\"data row7 col4\" >16.3%</td>\n      <td  class=\"data row7 col5\" >14.2%</td>\n      <td  class=\"data row7 col6\" >14.3%</td>\n      <td  class=\"data row7 col7\" >14.0%</td>\n      <td  class=\"data row7 col8\" >0.0029</td>\n      <td  class=\"data row7 col9\" >0.0027</td>\n      <td  class=\"data row7 col10\" >0.0034</td>\n    </tr>\n    <tr>\n      <th id=\"T__level0_row8\" class=\"row_heading level0 row8\" >(340, 360]</th>\n      <td  class=\"data row8 col0\" >2,326</td>\n      <td  class=\"data row8 col1\" >3,204</td>\n      <td  class=\"data row8 col2\" >1,823</td>\n      <td  class=\"data row8 col3\" >1,583</td>\n      <td  class=\"data row8 col4\" >6.7%</td>\n      <td  class=\"data row8 col5\" >5.7%</td>\n      <td  class=\"data row8 col6\" >5.7%</td>\n      <td  class=\"data row8 col7\" >5.4%</td>\n      <td  class=\"data row8 col8\" >0.0016</td>\n      <td  class=\"data row8 col9\" >0.0017</td>\n      <td  class=\"data row8 col10\" >0.0027</td>\n    </tr>\n    <tr>\n      <th id=\"T__level0_row9\" class=\"row_heading level0 row9\" >(360, 380]</th>\n      <td  class=\"data row9 col0\" >432</td>\n      <td  class=\"data row9 col1\" >633</td>\n      <td  class=\"data row9 col2\" >340</td>\n      <td  class=\"data row9 col3\" >306</td>\n      <td  class=\"data row9 col4\" >1.2%</td>\n      <td  class=\"data row9 col5\" >1.1%</td>\n      <td  class=\"data row9 col6\" >1.1%</td>\n      <td  class=\"data row9 col7\" >1.1%</td>\n      <td  class=\"data row9 col8\" >0.0001</td>\n      <td  class=\"data row9 col9\" >0.0003</td>\n      <td  class=\"data row9 col10\" >0.0003</td>\n    </tr>\n    <tr>\n      <th id=\"T__level0_row10\" class=\"row_heading level0 row10\" >(380, 999]</th>\n      <td  class=\"data row10 col0\" >8</td>\n      <td  class=\"data row10 col1\" >1</td>\n      <td  class=\"data row10 col2\" >1</td>\n      <td  class=\"data row10 col3\" >0</td>\n      <td  class=\"data row10 col4\" >0.0%</td>\n      <td  class=\"data row10 col5\" >0.0%</td>\n      <td  class=\"data row10 col6\" >0.0%</td>\n      <td  class=\"data row10 col7\" >0.0%</td>\n      <td  class=\"data row10 col8\" >0.0005</td>\n      <td  class=\"data row10 col9\" >0.0004</td>\n      <td  class=\"data row10 col10\" >0.0004</td>\n    </tr>\n    <tr>\n      <th id=\"T__level0_row11\" class=\"row_heading level0 row11\" >Total</th>\n      <td  class=\"data row11 col0\" >34,656</td>\n      <td  class=\"data row11 col1\" >55,912</td>\n      <td  class=\"data row11 col2\" >32,111</td>\n      <td  class=\"data row11 col3\" >29,130</td>\n      <td  class=\"data row11 col4\" >100.0%</td>\n      <td  class=\"data row11 col5\" >100.0%</td>\n      <td  class=\"data row11 col6\" >100.0%</td>\n      <td  class=\"data row11 col7\" >100.0%</td>\n      <td  class=\"data row11 col8\" >0.0217</td>\n      <td  class=\"data row11 col9\" >0.0296</td>\n      <td  class=\"data row11 col10\" >0.0306</td>\n    </tr>\n  </tbody>\n</table>\n",
     "docTable(dfPSIOutcome, show_index=True, table_type='text-center', numbers_format='{:,.1%}', caption='PSI Outcome')": "<style type=\"text/css\">\n</style>\n<table id=\"T__\" class=\"ctable text-center \">\n  <caption>PSI Outcome</caption>\n  <thead>\n    <tr>\n      <th class=\"blank level0\" >&nbsp;</th>\n      <th class=\"col_heading level0 col0\" >Dev</th>\n      <th class=\"col_heading level0 col1\" colspan=\"3\">Review</th>\n    </tr>\n    <tr>\n      <th class=\"blank level1\" >&nbsp;</th>\n      <th class=\"col_heading level1 col0\" >Baseline</th>\n      <th class=\"col_heading level1 col1\" >2018</th>\n      <th class=\"col_heading level1 col2\" >2019</th>\n      <th class=\"col_heading level1 col3\" >2020</th>\n    </tr>\n  </thead>\n  <tbody>\n    <tr>\n      <th id=\"T__level0_row0\" class=\"row_heading level0 row0\" >PSI</th>\n      <td  class=\"data row0 col0\" >NA</td>\n      <td  class=\"data row0 col1\" >2.2%</td>\n      <td  class=\"data row0 col2\" >3.0%</td>\n      <td  class=\"data row0 col3\" >3.1%</td>\n    </tr>\n    <tr>\n      <th id=\"T__level0_row1\" class=\"row_heading level0 row1\" >AHI</th>\n      <td  class=\"data row1 col0\" >5.1%</td>\n      <td  class=\"data row1 col1\" >4.2%</td>\n      <td  class=\"data row1 col2\" >3.9%</td>\n      <td  class=\"data row1 col3\" >4.0%</td>\n    </tr>\n  </tbody>\n</table>\n"
    }
   },
   "source": [
    "{{docTable(dfFrontend, show_index=True, table_type='text-center', numbers_format=formatFrontend, caption='Frontend Distribution')}}\n",
    "<br>\n",
    "{{docTable(dfPSIOutcome, show_index=True, table_type='text-center', numbers_format='{:,.1%}', caption='PSI Outcome')}}"
   ]
  },
  {
   "cell_type": "markdown",
   "id": "22afd651",
   "metadata": {},
   "source": [
    "*Place holder for user comments*  \n",
    "From the outcome table above, we concluded that compared to the baseline, the population of all 3 review cohorts are very stable with PSI well below the threshold of 15%.  \n",
    "The AHI of review cohorts were also well below the threshold of 20%, indicated no concentration concern for review data."
   ]
  },
  {
   "cell_type": "markdown",
   "id": "38dac49a",
   "metadata": {
    "hide_input": false
   },
   "source": [
    "<div class=\"pagebreak\"> </div>"
   ]
  },
  {
   "cell_type": "markdown",
   "id": "d6bfdb46",
   "metadata": {},
   "source": [
    "### Factor Charateristic Analysis"
   ]
  },
  {
   "cell_type": "code",
   "execution_count": 9,
   "id": "a342a7b5",
   "metadata": {
    "code_folding": [],
    "hide_input": false,
    "init_cell": true
   },
   "outputs": [],
   "source": [
    "syledCAtable, factorsOutcome = computeMultiFactorCA(dfData, configs)\n",
    "# factorsOutcome[0]['styledTable']\n",
    "# getStyledTable(factorsOutcome, rank=1)"
   ]
  },
  {
   "cell_type": "markdown",
   "id": "8362cc8f",
   "metadata": {
    "variables": {
     "syledCAtable": "<style type=\"text/css\">\n</style>\n<table id=\"T__\" class=\"ctable index-left \">\n  <caption>Score Change</caption>\n  <thead>\n    <tr>\n      <th class=\"blank level0\" >&nbsp;</th>\n      <th class=\"col_heading level0 col0\" >2018</th>\n      <th class=\"col_heading level0 col1\" >2019</th>\n      <th class=\"col_heading level0 col2\" >2020</th>\n    </tr>\n  </thead>\n  <tbody>\n    <tr>\n      <th id=\"T__level0_row0\" class=\"row_heading level0 row0\" >Address Type</th>\n      <td  class=\"data row0 col0 0.19527210233546033\" >0.2</td>\n      <td  class=\"data row0 col1 0.2807068180123572\" >0.3</td>\n      <td  class=\"data row0 col2 0.20447774828284182\" >0.2</td>\n    </tr>\n    <tr>\n      <th id=\"T__level0_row1\" class=\"row_heading level0 row1\" >Gender</th>\n      <td  class=\"data row1 col0 0.37769816227505465\" >0.4</td>\n      <td  class=\"data row1 col1 0.772941870496366\" >0.8</td>\n      <td  class=\"data row1 col2 0.6800526677146015\" >0.7</td>\n    </tr>\n    <tr>\n      <th id=\"T__level0_row2\" class=\"row_heading level0 row2\" >Education Level</th>\n      <td  class=\"data row2 col0 outcome-moderate\" >2.0</td>\n      <td  class=\"data row2 col1 outcome-moderate\" >1.4</td>\n      <td  class=\"data row2 col2 outcome-moderate\" >2.5</td>\n    </tr>\n    <tr>\n      <th id=\"T__level0_row3\" class=\"row_heading level0 row3\" >Residential Status</th>\n      <td  class=\"data row3 col0 outcome-moderate\" >-0.9</td>\n      <td  class=\"data row3 col1 outcome-moderate\" >-2.5</td>\n      <td  class=\"data row3 col2 outcome-moderate\" >-4.0</td>\n    </tr>\n    <tr>\n      <th id=\"T__level0_row4\" class=\"row_heading level0 row4\" >Years of Service</th>\n      <td  class=\"data row4 col0 outcome-moderate\" >-1.6</td>\n      <td  class=\"data row4 col1 outcome-moderate\" >-1.8</td>\n      <td  class=\"data row4 col2 outcome-moderate\" >-2.5</td>\n    </tr>\n    <tr>\n      <th id=\"T__level0_row5\" class=\"row_heading level0 row5\" >Deposits L3M</th>\n      <td  class=\"data row5 col0 0.7948828222173057\" >0.8</td>\n      <td  class=\"data row5 col1 0.6120493388196651\" >0.6</td>\n      <td  class=\"data row5 col2 0.5501449764785422\" >0.6</td>\n    </tr>\n    <tr>\n      <th id=\"T__level0_row6\" class=\"row_heading level0 row6\" >MOB From Credit Bureau</th>\n      <td  class=\"data row6 col0 -2.056725438781453\" >-2.1</td>\n      <td  class=\"data row6 col1 -1.631044216739471\" >-1.6</td>\n      <td  class=\"data row6 col2 -1.1227081853435683\" >-1.1</td>\n    </tr>\n    <tr>\n      <th id=\"T__level0_row7\" class=\"row_heading level0 row7\" >Number of New Application\"s Enquiries in CB in L6M</th>\n      <td  class=\"data row7 col0 outcome-significant\" >-4.6</td>\n      <td  class=\"data row7 col1 outcome-significant\" >-4.2</td>\n      <td  class=\"data row7 col2 outcome-significant\" >-3.6</td>\n    </tr>\n    <tr>\n      <th id=\"T__level0_row8\" class=\"row_heading level0 row8\" >Ever 30+dpd in CB in L12M</th>\n      <td  class=\"data row8 col0 -1.5251452222705346\" >-1.5</td>\n      <td  class=\"data row8 col1 -1.1780042259057928\" >-1.2</td>\n      <td  class=\"data row8 col2 -0.9624867938451468\" >-1.0</td>\n    </tr>\n    <tr>\n      <th id=\"T__level0_row9\" class=\"row_heading level0 row9\" >Months with Cash Advance L3M</th>\n      <td  class=\"data row9 col0 -0.2750474314141213\" >-0.3</td>\n      <td  class=\"data row9 col1 -0.18054472499636484\" >-0.2</td>\n      <td  class=\"data row9 col2 -0.15618881306741517\" >-0.2</td>\n    </tr>\n    <tr>\n      <th id=\"T__level0_row10\" class=\"row_heading level0 row10\" >Partial Payment L3M</th>\n      <td  class=\"data row10 col0 1.8479785276612608\" >1.8</td>\n      <td  class=\"data row10 col1 1.3491809113890567\" >1.3</td>\n      <td  class=\"data row10 col2 1.0638652501490582\" >1.1</td>\n    </tr>\n  </tbody>\n</table>\n"
    }
   },
   "source": [
    "The tests outcome on Characteristic Analysis are shown in table below.\n",
    "{{syledCAtable}}"
   ]
  },
  {
   "cell_type": "markdown",
   "id": "f788eb71",
   "metadata": {},
   "source": [
    "*User to enter comments here*"
   ]
  },
  {
   "cell_type": "markdown",
   "id": "7c88a741",
   "metadata": {
    "variables": {
     "configs['CA_threshold']['top_factor']": "4",
     "getStyledTable(factorsOutcome, rank=1)": "<style type=\"text/css\">\n</style>\n<table id=\"T__\" class=\"ctable text-center col0-left \">\n  <caption>Number of New Application\"s Enquiries in CB in L6M</caption>\n  <thead>\n    <tr>\n      <th class=\"col_heading level0 col0\" colspan=\"2\"></th>\n      <th class=\"col_heading level0 col2\" colspan=\"4\">Count</th>\n      <th class=\"col_heading level0 col6\" colspan=\"4\">Distribution</th>\n      <th class=\"col_heading level0 col10\" colspan=\"3\">Score Changes</th>\n    </tr>\n    <tr>\n      <th class=\"col_heading level1 col0\" >Bucket</th>\n      <th class=\"col_heading level1 col1\" >Score</th>\n      <th class=\"col_heading level1 col2\" >Baseline</th>\n      <th class=\"col_heading level1 col3\" >2018</th>\n      <th class=\"col_heading level1 col4\" >2019</th>\n      <th class=\"col_heading level1 col5\" >2020</th>\n      <th class=\"col_heading level1 col6\" >Baseline</th>\n      <th class=\"col_heading level1 col7\" >2018</th>\n      <th class=\"col_heading level1 col8\" >2019</th>\n      <th class=\"col_heading level1 col9\" >2020</th>\n      <th class=\"col_heading level1 col10\" >2018</th>\n      <th class=\"col_heading level1 col11\" >2019</th>\n      <th class=\"col_heading level1 col12\" >2020</th>\n    </tr>\n  </thead>\n  <tbody>\n    <tr>\n      <td  class=\"data row0 col0\" >05. No CB</td>\n      <td  class=\"data row0 col1\" >42</td>\n      <td  class=\"data row0 col2\" >6,274</td>\n      <td  class=\"data row0 col3\" >791</td>\n      <td  class=\"data row0 col4\" >610</td>\n      <td  class=\"data row0 col5\" >1,081</td>\n      <td  class=\"data row0 col6\" >18.1%</td>\n      <td  class=\"data row0 col7\" >1.4%</td>\n      <td  class=\"data row0 col8\" >1.9%</td>\n      <td  class=\"data row0 col9\" >3.7%</td>\n      <td  class=\"data row0 col10\" >-7.01</td>\n      <td  class=\"data row0 col11\" >-6.81</td>\n      <td  class=\"data row0 col12\" >-6.04</td>\n    </tr>\n    <tr>\n      <td  class=\"data row1 col0\" >01. No enquiry</td>\n      <td  class=\"data row1 col1\" >41</td>\n      <td  class=\"data row1 col2\" >9,194</td>\n      <td  class=\"data row1 col3\" >16,595</td>\n      <td  class=\"data row1 col4\" >11,195</td>\n      <td  class=\"data row1 col5\" >9,248</td>\n      <td  class=\"data row1 col6\" >26.5%</td>\n      <td  class=\"data row1 col7\" >29.7%</td>\n      <td  class=\"data row1 col8\" >34.9%</td>\n      <td  class=\"data row1 col9\" >31.7%</td>\n      <td  class=\"data row1 col10\" >1.29</td>\n      <td  class=\"data row1 col11\" >3.42</td>\n      <td  class=\"data row1 col12\" >2.14</td>\n    </tr>\n    <tr>\n      <td  class=\"data row2 col0\" >02. 1-2</td>\n      <td  class=\"data row2 col1\" >37</td>\n      <td  class=\"data row2 col2\" >13,671</td>\n      <td  class=\"data row2 col3\" >21,512</td>\n      <td  class=\"data row2 col4\" >11,312</td>\n      <td  class=\"data row2 col5\" >11,018</td>\n      <td  class=\"data row2 col6\" >39.4%</td>\n      <td  class=\"data row2 col7\" >38.5%</td>\n      <td  class=\"data row2 col8\" >35.2%</td>\n      <td  class=\"data row2 col9\" >37.8%</td>\n      <td  class=\"data row2 col10\" >-0.36</td>\n      <td  class=\"data row2 col11\" >-1.56</td>\n      <td  class=\"data row2 col12\" >-0.60</td>\n    </tr>\n    <tr>\n      <td  class=\"data row3 col0\" >03. 3-4</td>\n      <td  class=\"data row3 col1\" >28</td>\n      <td  class=\"data row3 col2\" >3,659</td>\n      <td  class=\"data row3 col3\" >8,723</td>\n      <td  class=\"data row3 col4\" >4,100</td>\n      <td  class=\"data row3 col5\" >3,946</td>\n      <td  class=\"data row3 col6\" >10.6%</td>\n      <td  class=\"data row3 col7\" >15.6%</td>\n      <td  class=\"data row3 col8\" >12.8%</td>\n      <td  class=\"data row3 col9\" >13.5%</td>\n      <td  class=\"data row3 col10\" >1.41</td>\n      <td  class=\"data row3 col11\" >0.62</td>\n      <td  class=\"data row3 col12\" >0.84</td>\n    </tr>\n    <tr>\n      <td  class=\"data row4 col0\" >04. >= 5</td>\n      <td  class=\"data row4 col1\" >1</td>\n      <td  class=\"data row4 col2\" >1,858</td>\n      <td  class=\"data row4 col3\" >8,291</td>\n      <td  class=\"data row4 col4\" >4,894</td>\n      <td  class=\"data row4 col5\" >3,837</td>\n      <td  class=\"data row4 col6\" >5.4%</td>\n      <td  class=\"data row4 col7\" >14.8%</td>\n      <td  class=\"data row4 col8\" >15.2%</td>\n      <td  class=\"data row4 col9\" >13.2%</td>\n      <td  class=\"data row4 col10\" >0.09</td>\n      <td  class=\"data row4 col11\" >0.10</td>\n      <td  class=\"data row4 col12\" >0.08</td>\n    </tr>\n    <tr>\n      <td  class=\"data row5 col0\" >Total</td>\n      <td  class=\"data row5 col1\" ></td>\n      <td  class=\"data row5 col2\" >34,656</td>\n      <td  class=\"data row5 col3\" >55,912</td>\n      <td  class=\"data row5 col4\" >32,111</td>\n      <td  class=\"data row5 col5\" >29,130</td>\n      <td  class=\"data row5 col6\" >100.0%</td>\n      <td  class=\"data row5 col7\" >100.0%</td>\n      <td  class=\"data row5 col8\" >100.0%</td>\n      <td  class=\"data row5 col9\" >100.0%</td>\n      <td  class=\"data row5 col10\" >-4.57</td>\n      <td  class=\"data row5 col11\" >-4.23</td>\n      <td  class=\"data row5 col12\" >-3.59</td>\n    </tr>\n  </tbody>\n</table>\n"
    }
   },
   "source": [
    "Below are tables that showed distribution and score changes for first {{configs['CA_threshold']['top_factor']}} factors.\n",
    "<br>\n",
    "{{getStyledTable(factorsOutcome, rank=1)}}"
   ]
  },
  {
   "cell_type": "markdown",
   "id": "ebdda49e",
   "metadata": {},
   "source": [
    "*User to enter comments here*"
   ]
  },
  {
   "cell_type": "markdown",
   "id": "c511bfee",
   "metadata": {
    "variables": {
     "getStyledTable(factorsOutcome, rank=2)": "<style type=\"text/css\">\n</style>\n<table id=\"T__\" class=\"ctable text-center col0-left \">\n  <caption>Residential Status</caption>\n  <thead>\n    <tr>\n      <th class=\"col_heading level0 col0\" colspan=\"2\"></th>\n      <th class=\"col_heading level0 col2\" colspan=\"4\">Count</th>\n      <th class=\"col_heading level0 col6\" colspan=\"4\">Distribution</th>\n      <th class=\"col_heading level0 col10\" colspan=\"3\">Score Changes</th>\n    </tr>\n    <tr>\n      <th class=\"col_heading level1 col0\" >Bucket</th>\n      <th class=\"col_heading level1 col1\" >Score</th>\n      <th class=\"col_heading level1 col2\" >Baseline</th>\n      <th class=\"col_heading level1 col3\" >2018</th>\n      <th class=\"col_heading level1 col4\" >2019</th>\n      <th class=\"col_heading level1 col5\" >2020</th>\n      <th class=\"col_heading level1 col6\" >Baseline</th>\n      <th class=\"col_heading level1 col7\" >2018</th>\n      <th class=\"col_heading level1 col8\" >2019</th>\n      <th class=\"col_heading level1 col9\" >2020</th>\n      <th class=\"col_heading level1 col10\" >2018</th>\n      <th class=\"col_heading level1 col11\" >2019</th>\n      <th class=\"col_heading level1 col12\" >2020</th>\n    </tr>\n  </thead>\n  <tbody>\n    <tr>\n      <td  class=\"data row0 col0\" >01. Own</td>\n      <td  class=\"data row0 col1\" >32</td>\n      <td  class=\"data row0 col2\" >8,780</td>\n      <td  class=\"data row0 col3\" >22,639</td>\n      <td  class=\"data row0 col4\" >9,828</td>\n      <td  class=\"data row0 col5\" >7,436</td>\n      <td  class=\"data row0 col6\" >25.3%</td>\n      <td  class=\"data row0 col7\" >40.5%</td>\n      <td  class=\"data row0 col8\" >30.6%</td>\n      <td  class=\"data row0 col9\" >25.5%</td>\n      <td  class=\"data row0 col10\" >4.85</td>\n      <td  class=\"data row0 col11\" >1.69</td>\n      <td  class=\"data row0 col12\" >0.06</td>\n    </tr>\n    <tr>\n      <td  class=\"data row1 col0\" >02. Mortgage</td>\n      <td  class=\"data row1 col1\" >27</td>\n      <td  class=\"data row1 col2\" >17,199</td>\n      <td  class=\"data row1 col3\" >10,766</td>\n      <td  class=\"data row1 col4\" >6,544</td>\n      <td  class=\"data row1 col5\" >4,799</td>\n      <td  class=\"data row1 col6\" >49.6%</td>\n      <td  class=\"data row1 col7\" >19.3%</td>\n      <td  class=\"data row1 col8\" >20.4%</td>\n      <td  class=\"data row1 col9\" >16.5%</td>\n      <td  class=\"data row1 col10\" >-8.20</td>\n      <td  class=\"data row1 col11\" >-7.90</td>\n      <td  class=\"data row1 col12\" >-8.95</td>\n    </tr>\n    <tr>\n      <td  class=\"data row2 col0\" >03. Parent</td>\n      <td  class=\"data row2 col1\" >21</td>\n      <td  class=\"data row2 col2\" >6,320</td>\n      <td  class=\"data row2 col3\" >13,382</td>\n      <td  class=\"data row2 col4\" >8,320</td>\n      <td  class=\"data row2 col5\" >7,655</td>\n      <td  class=\"data row2 col6\" >18.2%</td>\n      <td  class=\"data row2 col7\" >23.9%</td>\n      <td  class=\"data row2 col8\" >25.9%</td>\n      <td  class=\"data row2 col9\" >26.3%</td>\n      <td  class=\"data row2 col10\" >1.20</td>\n      <td  class=\"data row2 col11\" >1.61</td>\n      <td  class=\"data row2 col12\" >1.69</td>\n    </tr>\n    <tr>\n      <td  class=\"data row3 col0\" >04. Others</td>\n      <td  class=\"data row3 col1\" >13</td>\n      <td  class=\"data row3 col2\" >2,357</td>\n      <td  class=\"data row3 col3\" >9,125</td>\n      <td  class=\"data row3 col4\" >7,419</td>\n      <td  class=\"data row3 col5\" >9,240</td>\n      <td  class=\"data row3 col6\" >6.8%</td>\n      <td  class=\"data row3 col7\" >16.3%</td>\n      <td  class=\"data row3 col8\" >23.1%</td>\n      <td  class=\"data row3 col9\" >31.7%</td>\n      <td  class=\"data row3 col10\" >1.24</td>\n      <td  class=\"data row3 col11\" >2.12</td>\n      <td  class=\"data row3 col12\" >3.24</td>\n    </tr>\n    <tr>\n      <td  class=\"data row4 col0\" >Total</td>\n      <td  class=\"data row4 col1\" ></td>\n      <td  class=\"data row4 col2\" >34,656</td>\n      <td  class=\"data row4 col3\" >55,912</td>\n      <td  class=\"data row4 col4\" >32,111</td>\n      <td  class=\"data row4 col5\" >29,130</td>\n      <td  class=\"data row4 col6\" >100.0%</td>\n      <td  class=\"data row4 col7\" >100.0%</td>\n      <td  class=\"data row4 col8\" >100.0%</td>\n      <td  class=\"data row4 col9\" >100.0%</td>\n      <td  class=\"data row4 col10\" >-0.92</td>\n      <td  class=\"data row4 col11\" >-2.48</td>\n      <td  class=\"data row4 col12\" >-3.96</td>\n    </tr>\n  </tbody>\n</table>\n"
    }
   },
   "source": [
    "{{getStyledTable(factorsOutcome, rank=2)}}"
   ]
  },
  {
   "cell_type": "markdown",
   "id": "431ec5fb",
   "metadata": {},
   "source": [
    "*User to enter comments here*"
   ]
  },
  {
   "cell_type": "markdown",
   "id": "2deea04a",
   "metadata": {
    "variables": {
     "getStyledTable(factorsOutcome, rank=3)": "<style type=\"text/css\">\n</style>\n<table id=\"T__\" class=\"ctable text-center col0-left \">\n  <caption>Education Level</caption>\n  <thead>\n    <tr>\n      <th class=\"col_heading level0 col0\" colspan=\"2\"></th>\n      <th class=\"col_heading level0 col2\" colspan=\"4\">Count</th>\n      <th class=\"col_heading level0 col6\" colspan=\"4\">Distribution</th>\n      <th class=\"col_heading level0 col10\" colspan=\"3\">Score Changes</th>\n    </tr>\n    <tr>\n      <th class=\"col_heading level1 col0\" >Bucket</th>\n      <th class=\"col_heading level1 col1\" >Score</th>\n      <th class=\"col_heading level1 col2\" >Baseline</th>\n      <th class=\"col_heading level1 col3\" >2018</th>\n      <th class=\"col_heading level1 col4\" >2019</th>\n      <th class=\"col_heading level1 col5\" >2020</th>\n      <th class=\"col_heading level1 col6\" >Baseline</th>\n      <th class=\"col_heading level1 col7\" >2018</th>\n      <th class=\"col_heading level1 col8\" >2019</th>\n      <th class=\"col_heading level1 col9\" >2020</th>\n      <th class=\"col_heading level1 col10\" >2018</th>\n      <th class=\"col_heading level1 col11\" >2019</th>\n      <th class=\"col_heading level1 col12\" >2020</th>\n    </tr>\n  </thead>\n  <tbody>\n    <tr>\n      <td  class=\"data row0 col0\" >01. Degree & Above</td>\n      <td  class=\"data row0 col1\" >38</td>\n      <td  class=\"data row0 col2\" >12,481</td>\n      <td  class=\"data row0 col3\" >24,099</td>\n      <td  class=\"data row0 col4\" >13,128</td>\n      <td  class=\"data row0 col5\" >13,491</td>\n      <td  class=\"data row0 col6\" >36.0%</td>\n      <td  class=\"data row0 col7\" >43.1%</td>\n      <td  class=\"data row0 col8\" >40.9%</td>\n      <td  class=\"data row0 col9\" >46.3%</td>\n      <td  class=\"data row0 col10\" >2.69</td>\n      <td  class=\"data row0 col11\" >1.85</td>\n      <td  class=\"data row0 col12\" >3.91</td>\n    </tr>\n    <tr>\n      <td  class=\"data row1 col0\" >02. Pre-Uni</td>\n      <td  class=\"data row1 col1\" >36</td>\n      <td  class=\"data row1 col2\" >1,999</td>\n      <td  class=\"data row1 col3\" >1,893</td>\n      <td  class=\"data row1 col4\" >957</td>\n      <td  class=\"data row1 col5\" >787</td>\n      <td  class=\"data row1 col6\" >5.8%</td>\n      <td  class=\"data row1 col7\" >3.4%</td>\n      <td  class=\"data row1 col8\" >3.0%</td>\n      <td  class=\"data row1 col9\" >2.7%</td>\n      <td  class=\"data row1 col10\" >-0.86</td>\n      <td  class=\"data row1 col11\" >-1.00</td>\n      <td  class=\"data row1 col12\" >-1.10</td>\n    </tr>\n    <tr>\n      <td  class=\"data row2 col0\" >03. Diploma & Cert</td>\n      <td  class=\"data row2 col1\" >29</td>\n      <td  class=\"data row2 col2\" >9,670</td>\n      <td  class=\"data row2 col3\" >16,951</td>\n      <td  class=\"data row2 col4\" >9,914</td>\n      <td  class=\"data row2 col5\" >8,411</td>\n      <td  class=\"data row2 col6\" >27.9%</td>\n      <td  class=\"data row2 col7\" >30.3%</td>\n      <td  class=\"data row2 col8\" >30.9%</td>\n      <td  class=\"data row2 col9\" >28.9%</td>\n      <td  class=\"data row2 col10\" >0.70</td>\n      <td  class=\"data row2 col11\" >0.86</td>\n      <td  class=\"data row2 col12\" >0.28</td>\n    </tr>\n    <tr>\n      <td  class=\"data row3 col0\" >04. Others</td>\n      <td  class=\"data row3 col1\" >7</td>\n      <td  class=\"data row3 col2\" >10,506</td>\n      <td  class=\"data row3 col3\" >12,969</td>\n      <td  class=\"data row3 col4\" >8,112</td>\n      <td  class=\"data row3 col5\" >6,441</td>\n      <td  class=\"data row3 col6\" >30.3%</td>\n      <td  class=\"data row3 col7\" >23.2%</td>\n      <td  class=\"data row3 col8\" >25.3%</td>\n      <td  class=\"data row3 col9\" >22.1%</td>\n      <td  class=\"data row3 col10\" >-0.50</td>\n      <td  class=\"data row3 col11\" >-0.35</td>\n      <td  class=\"data row3 col12\" >-0.57</td>\n    </tr>\n    <tr>\n      <td  class=\"data row4 col0\" >Total</td>\n      <td  class=\"data row4 col1\" ></td>\n      <td  class=\"data row4 col2\" >34,656</td>\n      <td  class=\"data row4 col3\" >55,912</td>\n      <td  class=\"data row4 col4\" >32,111</td>\n      <td  class=\"data row4 col5\" >29,130</td>\n      <td  class=\"data row4 col6\" >100.0%</td>\n      <td  class=\"data row4 col7\" >100.0%</td>\n      <td  class=\"data row4 col8\" >100.0%</td>\n      <td  class=\"data row4 col9\" >100.0%</td>\n      <td  class=\"data row4 col10\" >2.04</td>\n      <td  class=\"data row4 col11\" >1.35</td>\n      <td  class=\"data row4 col12\" >2.52</td>\n    </tr>\n  </tbody>\n</table>\n"
    }
   },
   "source": [
    "{{getStyledTable(factorsOutcome, rank=3)}}"
   ]
  },
  {
   "cell_type": "markdown",
   "id": "1cc707df",
   "metadata": {},
   "source": [
    "*User to enter comments here*"
   ]
  },
  {
   "cell_type": "markdown",
   "id": "9505a8ed",
   "metadata": {
    "variables": {
     "getStyledTable(factorsOutcome, rank=4)": "<style type=\"text/css\">\n</style>\n<table id=\"T__\" class=\"ctable text-center col0-left \">\n  <caption>Years of Service</caption>\n  <thead>\n    <tr>\n      <th class=\"col_heading level0 col0\" colspan=\"2\"></th>\n      <th class=\"col_heading level0 col2\" colspan=\"4\">Count</th>\n      <th class=\"col_heading level0 col6\" colspan=\"4\">Distribution</th>\n      <th class=\"col_heading level0 col10\" colspan=\"3\">Score Changes</th>\n    </tr>\n    <tr>\n      <th class=\"col_heading level1 col0\" >Bucket</th>\n      <th class=\"col_heading level1 col1\" >Score</th>\n      <th class=\"col_heading level1 col2\" >Baseline</th>\n      <th class=\"col_heading level1 col3\" >2018</th>\n      <th class=\"col_heading level1 col4\" >2019</th>\n      <th class=\"col_heading level1 col5\" >2020</th>\n      <th class=\"col_heading level1 col6\" >Baseline</th>\n      <th class=\"col_heading level1 col7\" >2018</th>\n      <th class=\"col_heading level1 col8\" >2019</th>\n      <th class=\"col_heading level1 col9\" >2020</th>\n      <th class=\"col_heading level1 col10\" >2018</th>\n      <th class=\"col_heading level1 col11\" >2019</th>\n      <th class=\"col_heading level1 col12\" >2020</th>\n    </tr>\n  </thead>\n  <tbody>\n    <tr>\n      <td  class=\"data row0 col0\" >01. 1 year</td>\n      <td  class=\"data row0 col1\" >21</td>\n      <td  class=\"data row0 col2\" >4,634</td>\n      <td  class=\"data row0 col3\" >13,463</td>\n      <td  class=\"data row0 col4\" >7,020</td>\n      <td  class=\"data row0 col5\" >6,052</td>\n      <td  class=\"data row0 col6\" >13.4%</td>\n      <td  class=\"data row0 col7\" >24.4%</td>\n      <td  class=\"data row0 col8\" >22.4%</td>\n      <td  class=\"data row0 col9\" >21.5%</td>\n      <td  class=\"data row0 col10\" >2.33</td>\n      <td  class=\"data row0 col11\" >1.89</td>\n      <td  class=\"data row0 col12\" >1.71</td>\n    </tr>\n    <tr>\n      <td  class=\"data row1 col0\" >02. 2-6 years</td>\n      <td  class=\"data row1 col1\" >18</td>\n      <td  class=\"data row1 col2\" >15,334</td>\n      <td  class=\"data row1 col3\" >23,445</td>\n      <td  class=\"data row1 col4\" >14,319</td>\n      <td  class=\"data row1 col5\" >14,168</td>\n      <td  class=\"data row1 col6\" >44.2%</td>\n      <td  class=\"data row1 col7\" >42.6%</td>\n      <td  class=\"data row1 col8\" >45.6%</td>\n      <td  class=\"data row1 col9\" >50.3%</td>\n      <td  class=\"data row1 col10\" >-0.30</td>\n      <td  class=\"data row1 col11\" >0.24</td>\n      <td  class=\"data row1 col12\" >1.09</td>\n    </tr>\n    <tr>\n      <td  class=\"data row2 col0\" >03. 7-9 years</td>\n      <td  class=\"data row2 col1\" >28</td>\n      <td  class=\"data row2 col2\" >4,161</td>\n      <td  class=\"data row2 col3\" >6,011</td>\n      <td  class=\"data row2 col4\" >3,248</td>\n      <td  class=\"data row2 col5\" >2,424</td>\n      <td  class=\"data row2 col6\" >12.0%</td>\n      <td  class=\"data row2 col7\" >10.9%</td>\n      <td  class=\"data row2 col8\" >10.3%</td>\n      <td  class=\"data row2 col9\" >8.6%</td>\n      <td  class=\"data row2 col10\" >-0.31</td>\n      <td  class=\"data row2 col11\" >-0.47</td>\n      <td  class=\"data row2 col12\" >-0.95</td>\n    </tr>\n    <tr>\n      <td  class=\"data row3 col0\" >04. Above 9 years</td>\n      <td  class=\"data row3 col1\" >40</td>\n      <td  class=\"data row3 col2\" >10,527</td>\n      <td  class=\"data row3 col3\" >12,151</td>\n      <td  class=\"data row3 col4\" >6,814</td>\n      <td  class=\"data row3 col5\" >5,513</td>\n      <td  class=\"data row3 col6\" >30.4%</td>\n      <td  class=\"data row3 col7\" >22.1%</td>\n      <td  class=\"data row3 col8\" >21.7%</td>\n      <td  class=\"data row3 col9\" >19.6%</td>\n      <td  class=\"data row3 col10\" >-3.32</td>\n      <td  class=\"data row3 col11\" >-3.47</td>\n      <td  class=\"data row3 col12\" >-4.32</td>\n    </tr>\n    <tr>\n      <td  class=\"data row4 col0\" >Total</td>\n      <td  class=\"data row4 col1\" ></td>\n      <td  class=\"data row4 col2\" >34,656</td>\n      <td  class=\"data row4 col3\" >55,070</td>\n      <td  class=\"data row4 col4\" >31,401</td>\n      <td  class=\"data row4 col5\" >28,157</td>\n      <td  class=\"data row4 col6\" >100.0%</td>\n      <td  class=\"data row4 col7\" >100.0%</td>\n      <td  class=\"data row4 col8\" >100.0%</td>\n      <td  class=\"data row4 col9\" >100.0%</td>\n      <td  class=\"data row4 col10\" >-1.61</td>\n      <td  class=\"data row4 col11\" >-1.81</td>\n      <td  class=\"data row4 col12\" >-2.47</td>\n    </tr>\n  </tbody>\n</table>\n"
    }
   },
   "source": [
    "{{getStyledTable(factorsOutcome, rank=4)}}"
   ]
  },
  {
   "cell_type": "markdown",
   "id": "5273d1c8",
   "metadata": {},
   "source": [
    "*User to enter comments here*"
   ]
  },
  {
   "cell_type": "markdown",
   "id": "c917d2fa",
   "metadata": {},
   "source": [
    "<div class=\"pagebreak\"> </div>"
   ]
  },
  {
   "cell_type": "markdown",
   "id": "a993b94f",
   "metadata": {},
   "source": [
    "## Back-end Assessment"
   ]
  },
  {
   "cell_type": "markdown",
   "id": "07867f53",
   "metadata": {},
   "source": [
    "### Overall Model Performance"
   ]
  },
  {
   "cell_type": "code",
   "execution_count": 10,
   "id": "ece6c582",
   "metadata": {
    "hide_input": false,
    "init_cell": true
   },
   "outputs": [],
   "source": [
    "dfBackend = dfData[dfData['waterfall_ind']=='Back-end']\n",
    "dfOutcome, dfAR, styledOutcome, styledAR = calcRiskRankingTable(dfBackend, configs)\n",
    "sSubsegOutcome = calcSubsegmentRanking(dfBackend, dfOutcome, configs)\n",
    "\n",
    "# get series of bucket, distribution, badrate & AR to display charts\n",
    "capp_config =configs.get('capp_config')\n",
    "bucket = dfAR.index.astype(str).values\n",
    "total = dfAR.loc[:, 'Count'].values\n",
    "bad = dfAR.loc[:, capp_config['BAD_NAME']].values\n",
    "dist = dfAR.loc[:, 'Distribution'].values\n",
    "badrate = dfAR.loc[:, capp_config['BADRATE_NAME']].values\n"
   ]
  },
  {
   "cell_type": "markdown",
   "id": "cb70cc82",
   "metadata": {
    "variables": {
     "styledAR": "<style type=\"text/css\">\n</style>\n<table id=\"T__\" class=\"ctable text-center \">\n  <caption>Distribution & Bad Rate by Scoreband</caption>\n  <thead>\n    <tr>\n      <th class=\"blank level0\" >&nbsp;</th>\n      <th class=\"col_heading level0 col0\" colspan=\"3\">Count</th>\n      <th class=\"col_heading level0 col3\" colspan=\"3\">Default</th>\n      <th class=\"col_heading level0 col6\" colspan=\"3\">Distribution</th>\n      <th class=\"col_heading level0 col9\" colspan=\"3\">Default Rate</th>\n    </tr>\n    <tr>\n      <th class=\"blank level1\" >&nbsp;</th>\n      <th class=\"col_heading level1 col0\" >Dev</th>\n      <th class=\"col_heading level1 col1\" colspan=\"2\">Review</th>\n      <th class=\"col_heading level1 col3\" >Dev</th>\n      <th class=\"col_heading level1 col4\" colspan=\"2\">Review</th>\n      <th class=\"col_heading level1 col6\" >Dev</th>\n      <th class=\"col_heading level1 col7\" colspan=\"2\">Review</th>\n      <th class=\"col_heading level1 col9\" >Dev</th>\n      <th class=\"col_heading level1 col10\" colspan=\"2\">Review</th>\n    </tr>\n    <tr>\n      <th class=\"blank level2\" >&nbsp;</th>\n      <th class=\"col_heading level2 col0\" >Baseline</th>\n      <th class=\"col_heading level2 col1\" >2018</th>\n      <th class=\"col_heading level2 col2\" >2019</th>\n      <th class=\"col_heading level2 col3\" >Baseline</th>\n      <th class=\"col_heading level2 col4\" >2018</th>\n      <th class=\"col_heading level2 col5\" >2019</th>\n      <th class=\"col_heading level2 col6\" >Baseline</th>\n      <th class=\"col_heading level2 col7\" >2018</th>\n      <th class=\"col_heading level2 col8\" >2019</th>\n      <th class=\"col_heading level2 col9\" >Baseline</th>\n      <th class=\"col_heading level2 col10\" >2018</th>\n      <th class=\"col_heading level2 col11\" >2019</th>\n    </tr>\n  </thead>\n  <tbody>\n    <tr>\n      <th id=\"T__level0_row0\" class=\"row_heading level0 row0\" >(0, 200]</th>\n      <td  class=\"data row0 col0\" >409</td>\n      <td  class=\"data row0 col1\" >449</td>\n      <td  class=\"data row0 col2\" >16</td>\n      <td  class=\"data row0 col3\" >114</td>\n      <td  class=\"data row0 col4\" >125</td>\n      <td  class=\"data row0 col5\" >1</td>\n      <td  class=\"data row0 col6\" >1.5%</td>\n      <td  class=\"data row0 col7\" >1.0%</td>\n      <td  class=\"data row0 col8\" >0.1%</td>\n      <td  class=\"data row0 col9\" >27.87%</td>\n      <td  class=\"data row0 col10\" >27.84%</td>\n      <td  class=\"data row0 col11\" >6.25%</td>\n    </tr>\n    <tr>\n      <th id=\"T__level0_row1\" class=\"row_heading level0 row1\" >(200, 220]</th>\n      <td  class=\"data row1 col0\" >671</td>\n      <td  class=\"data row1 col1\" >1,731</td>\n      <td  class=\"data row1 col2\" >296</td>\n      <td  class=\"data row1 col3\" >96</td>\n      <td  class=\"data row1 col4\" >442</td>\n      <td  class=\"data row1 col5\" >28</td>\n      <td  class=\"data row1 col6\" >2.4%</td>\n      <td  class=\"data row1 col7\" >3.8%</td>\n      <td  class=\"data row1 col8\" >1.3%</td>\n      <td  class=\"data row1 col9\" >14.31%</td>\n      <td  class=\"data row1 col10\" >25.53%</td>\n      <td  class=\"data row1 col11\" >9.46%</td>\n    </tr>\n    <tr>\n      <th id=\"T__level0_row2\" class=\"row_heading level0 row2\" >(220, 240]</th>\n      <td  class=\"data row2 col0\" >1,375</td>\n      <td  class=\"data row2 col1\" >3,213</td>\n      <td  class=\"data row2 col2\" >1,042</td>\n      <td  class=\"data row2 col3\" >125</td>\n      <td  class=\"data row2 col4\" >456</td>\n      <td  class=\"data row2 col5\" >64</td>\n      <td  class=\"data row2 col6\" >5.0%</td>\n      <td  class=\"data row2 col7\" >7.0%</td>\n      <td  class=\"data row2 col8\" >4.7%</td>\n      <td  class=\"data row2 col9\" >9.09%</td>\n      <td  class=\"data row2 col10\" >14.19%</td>\n      <td  class=\"data row2 col11\" >6.14%</td>\n    </tr>\n    <tr>\n      <th id=\"T__level0_row3\" class=\"row_heading level0 row3\" >(240, 260]</th>\n      <td  class=\"data row3 col0\" >2,337</td>\n      <td  class=\"data row3 col1\" >4,769</td>\n      <td  class=\"data row3 col2\" >1,896</td>\n      <td  class=\"data row3 col3\" >98</td>\n      <td  class=\"data row3 col4\" >393</td>\n      <td  class=\"data row3 col5\" >75</td>\n      <td  class=\"data row3 col6\" >8.5%</td>\n      <td  class=\"data row3 col7\" >10.4%</td>\n      <td  class=\"data row3 col8\" >8.5%</td>\n      <td  class=\"data row3 col9\" >4.19%</td>\n      <td  class=\"data row3 col10\" >8.24%</td>\n      <td  class=\"data row3 col11\" >3.96%</td>\n    </tr>\n    <tr>\n      <th id=\"T__level0_row4\" class=\"row_heading level0 row4\" >(260, 280]</th>\n      <td  class=\"data row4 col0\" >3,268</td>\n      <td  class=\"data row4 col1\" >6,425</td>\n      <td  class=\"data row4 col2\" >3,006</td>\n      <td  class=\"data row4 col3\" >82</td>\n      <td  class=\"data row4 col4\" >250</td>\n      <td  class=\"data row4 col5\" >56</td>\n      <td  class=\"data row4 col6\" >11.9%</td>\n      <td  class=\"data row4 col7\" >14.0%</td>\n      <td  class=\"data row4 col8\" >13.4%</td>\n      <td  class=\"data row4 col9\" >2.51%</td>\n      <td  class=\"data row4 col10\" >3.89%</td>\n      <td  class=\"data row4 col11\" >1.86%</td>\n    </tr>\n    <tr>\n      <th id=\"T__level0_row5\" class=\"row_heading level0 row5\" >(280, 300]</th>\n      <td  class=\"data row5 col0\" >4,851</td>\n      <td  class=\"data row5 col1\" >8,260</td>\n      <td  class=\"data row5 col2\" >4,308</td>\n      <td  class=\"data row5 col3\" >46</td>\n      <td  class=\"data row5 col4\" >127</td>\n      <td  class=\"data row5 col5\" >26</td>\n      <td  class=\"data row5 col6\" >17.6%</td>\n      <td  class=\"data row5 col7\" >17.9%</td>\n      <td  class=\"data row5 col8\" >19.3%</td>\n      <td  class=\"data row5 col9\" >0.95%</td>\n      <td  class=\"data row5 col10\" >1.54%</td>\n      <td  class=\"data row5 col11\" >0.60%</td>\n    </tr>\n    <tr>\n      <th id=\"T__level0_row6\" class=\"row_heading level0 row6\" >(300, 320]</th>\n      <td  class=\"data row6 col0\" >6,647</td>\n      <td  class=\"data row6 col1\" >9,706</td>\n      <td  class=\"data row6 col2\" >5,273</td>\n      <td  class=\"data row6 col3\" >28</td>\n      <td  class=\"data row6 col4\" >39</td>\n      <td  class=\"data row6 col5\" >14</td>\n      <td  class=\"data row6 col6\" >24.2%</td>\n      <td  class=\"data row6 col7\" >21.1%</td>\n      <td  class=\"data row6 col8\" >23.6%</td>\n      <td  class=\"data row6 col9\" >0.42%</td>\n      <td  class=\"data row6 col10\" >0.40%</td>\n      <td  class=\"data row6 col11\" >0.27%</td>\n    </tr>\n    <tr>\n      <th id=\"T__level0_row7\" class=\"row_heading level0 row7\" >(320, 340]</th>\n      <td  class=\"data row7 col0\" >5,339</td>\n      <td  class=\"data row7 col1\" >7,701</td>\n      <td  class=\"data row7 col2\" >4,406</td>\n      <td  class=\"data row7 col3\" >10</td>\n      <td  class=\"data row7 col4\" >13</td>\n      <td  class=\"data row7 col5\" >2</td>\n      <td  class=\"data row7 col6\" >19.4%</td>\n      <td  class=\"data row7 col7\" >16.7%</td>\n      <td  class=\"data row7 col8\" >19.7%</td>\n      <td  class=\"data row7 col9\" >0.19%</td>\n      <td  class=\"data row7 col10\" >0.17%</td>\n      <td  class=\"data row7 col11\" >0.05%</td>\n    </tr>\n    <tr>\n      <th id=\"T__level0_row8\" class=\"row_heading level0 row8\" >(340, 360]</th>\n      <td  class=\"data row8 col0\" >2,193</td>\n      <td  class=\"data row8 col1\" >3,157</td>\n      <td  class=\"data row8 col2\" >1,794</td>\n      <td  class=\"data row8 col3\" >7</td>\n      <td  class=\"data row8 col4\" >4</td>\n      <td  class=\"data row8 col5\" >0</td>\n      <td  class=\"data row8 col6\" >8.0%</td>\n      <td  class=\"data row8 col7\" >6.9%</td>\n      <td  class=\"data row8 col8\" >8.0%</td>\n      <td  class=\"data row8 col9\" >0.32%</td>\n      <td  class=\"data row8 col10\" >0.13%</td>\n      <td  class=\"data row8 col11\" >0.00%</td>\n    </tr>\n    <tr>\n      <th id=\"T__level0_row9\" class=\"row_heading level0 row9\" >(360, 380]</th>\n      <td  class=\"data row9 col0\" >406</td>\n      <td  class=\"data row9 col1\" >628</td>\n      <td  class=\"data row9 col2\" >332</td>\n      <td  class=\"data row9 col3\" >0</td>\n      <td  class=\"data row9 col4\" >1</td>\n      <td  class=\"data row9 col5\" >0</td>\n      <td  class=\"data row9 col6\" >1.5%</td>\n      <td  class=\"data row9 col7\" >1.4%</td>\n      <td  class=\"data row9 col8\" >1.5%</td>\n      <td  class=\"data row9 col9\" >0.00%</td>\n      <td  class=\"data row9 col10\" >0.16%</td>\n      <td  class=\"data row9 col11\" >0.00%</td>\n    </tr>\n    <tr>\n      <th id=\"T__level0_row10\" class=\"row_heading level0 row10\" >(380, 999]</th>\n      <td  class=\"data row10 col0\" >7</td>\n      <td  class=\"data row10 col1\" >1</td>\n      <td  class=\"data row10 col2\" >1</td>\n      <td  class=\"data row10 col3\" >0</td>\n      <td  class=\"data row10 col4\" >0</td>\n      <td  class=\"data row10 col5\" >0</td>\n      <td  class=\"data row10 col6\" >0.0%</td>\n      <td  class=\"data row10 col7\" >0.0%</td>\n      <td  class=\"data row10 col8\" >0.0%</td>\n      <td  class=\"data row10 col9\" >0.00%</td>\n      <td  class=\"data row10 col10\" >0.00%</td>\n      <td  class=\"data row10 col11\" >0.00%</td>\n    </tr>\n    <tr>\n      <th id=\"T__level0_row11\" class=\"row_heading level0 row11\" >Total</th>\n      <td  class=\"data row11 col0\" >27,503</td>\n      <td  class=\"data row11 col1\" >46,040</td>\n      <td  class=\"data row11 col2\" >22,370</td>\n      <td  class=\"data row11 col3\" >606</td>\n      <td  class=\"data row11 col4\" >1,850</td>\n      <td  class=\"data row11 col5\" >266</td>\n      <td  class=\"data row11 col6\" >100.0%</td>\n      <td  class=\"data row11 col7\" >100.0%</td>\n      <td  class=\"data row11 col8\" >100.0%</td>\n      <td  class=\"data row11 col9\" >2.20%</td>\n      <td  class=\"data row11 col10\" >4.02%</td>\n      <td  class=\"data row11 col11\" >1.19%</td>\n    </tr>\n  </tbody>\n</table>\n",
     "styledOutcome": "<style type=\"text/css\">\n</style>\n<table id=\"T__\" class=\"ctable text-center \">\n  <caption>Risk Ranking Outcome</caption>\n  <thead>\n    <tr>\n      <th class=\"index_name level0\" >cohort</th>\n      <th class=\"col_heading level0 col0\" >Baseline</th>\n      <th class=\"col_heading level0 col1\" >2018</th>\n      <th class=\"col_heading level0 col2\" >2019</th>\n    </tr>\n  </thead>\n  <tbody>\n    <tr>\n      <th id=\"T__level0_row0\" class=\"row_heading level0 row0\" >AR</th>\n      <td  class=\"data row0 col0\" >71.1%</td>\n      <td  class=\"data row0 col1\" >71.8%</td>\n      <td  class=\"data row0 col2\" >69.4%</td>\n    </tr>\n    <tr>\n      <th id=\"T__level0_row1\" class=\"row_heading level0 row1\" >AUC</th>\n      <td  class=\"data row1 col0\" >85.6%</td>\n      <td  class=\"data row1 col1\" >85.9%</td>\n      <td  class=\"data row1 col2\" >84.7%</td>\n    </tr>\n    <tr>\n      <th id=\"T__level0_row2\" class=\"row_heading level0 row2\" ># of Default</th>\n      <td  class=\"data row2 col0\" >606</td>\n      <td  class=\"data row2 col1\" >1,850</td>\n      <td  class=\"data row2 col2\" >266</td>\n    </tr>\n    <tr>\n      <th id=\"T__level0_row3\" class=\"row_heading level0 row3\" >Outcome</th>\n      <td  class=\"data row3 col0 outcome-complied\" >GREEN</td>\n      <td  class=\"data row3 col1 outcome-complied\" >GREEN</td>\n      <td  class=\"data row3 col2 outcome-complied\" >GREEN</td>\n    </tr>\n  </tbody>\n</table>\n"
    }
   },
   "source": [
    "Tables below show the overall model performance tests outcome and bad rate distribution.\n",
    "<br>\n",
    "{{styledOutcome}}\n",
    "<br>\n",
    "{{styledAR}}"
   ]
  },
  {
   "cell_type": "markdown",
   "id": "5414f135",
   "metadata": {},
   "source": [
    "*Place-holder for user comments*"
   ]
  },
  {
   "cell_type": "markdown",
   "id": "15c42bde",
   "metadata": {
    "hide_input": false
   },
   "source": [
    "<div class=\"pagebreak\"> </div>"
   ]
  },
  {
   "cell_type": "code",
   "execution_count": 11,
   "id": "a229afa3",
   "metadata": {
    "hide_input": true,
    "init_cell": true
   },
   "outputs": [],
   "source": [
    "%%capture out\n",
    "cohorts = dfAR.loc[:, 'Count'].columns.get_level_values(1)\n",
    "\n",
    "figs = []\n",
    "for idx, cohort in enumerate(cohorts):\n",
    "    AR, AUC = calcAR(total[:,idx], bad[:,idx], bucket, ascending=True)\n",
    "    figs.append(getRiskRankingChart(\n",
    "        bucket, dist[:, idx], badrate[:,idx], \n",
    "        title=f\"{cohort} cohort - Distribution & {capp_config['BADRATE_NAME']} (AR={AR:.0%})\",\n",
    "        configs=configs))\n",
    "    \n",
    "strcell = ''\n",
    "strrow = ''\n",
    "for idx, fig in enumerate(figs):\n",
    "    if idx==0:\n",
    "        strcell += f'<td colspan=\"2\">{{{{figs[{idx}]}}}}</td>'\n",
    "    else:\n",
    "        strcell += f'<td>{{{{figs[{idx}]}}}}</td>'\n",
    "        \n",
    "    if idx % 2 == 0:\n",
    "        strrow += f'<tr>{strcell}</tr>'\n",
    "        strcell = ''\n",
    "\n",
    "strhtml = f'<table class=\"text-center\">{strrow}</table>'\n",
    "\n",
    "# Note: this fuction will create a new cell every time it run. \n",
    "# Hence, delete the below result cell if want to re-run.\n",
    "# create_and_excecute_code_cell('markdown', strhtml)\n"
   ]
  },
  {
   "cell_type": "markdown",
   "id": "95d6592c",
   "metadata": {
    "variables": {
     "figs[0]": "<img src=\"data:image/png;base64,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\n\"/>",
     "figs[1]": "<img src=\"data:image/png;base64,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\n\"/>",
     "figs[2]": "<img src=\"data:image/png;base64,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\n\"/>"
    }
   },
   "source": [
    "<table class=\"ctable text-center\"><tr><td colspan=\"2\">{{figs[0]}}</td></tr><tr><td>{{figs[1]}}</td><td>{{figs[2]}}</td></tr></table>"
   ]
  },
  {
   "cell_type": "markdown",
   "id": "854e025d",
   "metadata": {},
   "source": [
    "### Sub-segment Level Performance"
   ]
  },
  {
   "cell_type": "markdown",
   "id": "31b0402d",
   "metadata": {
    "hide_input": true,
    "variables": {
     "sSubsegOutcome": "<style type=\"text/css\">\n</style>\n<table id=\"T__\" class=\"ctable text-center \">\n  <caption>Risk Ranking Outcome</caption>\n  <thead>\n    <tr>\n      <th class=\"blank\" >&nbsp;</th>\n      <th class=\"blank level0\" >&nbsp;</th>\n      <th class=\"col_heading level0 col0\" colspan=\"3\">Risk Ranking (AR)</th>\n      <th class=\"col_heading level0 col3\" colspan=\"3\"># of Default</th>\n      <th class=\"col_heading level0 col6\" colspan=\"3\">Outcome</th>\n    </tr>\n    <tr>\n      <th class=\"blank\" >&nbsp;</th>\n      <th class=\"blank level1\" >&nbsp;</th>\n      <th class=\"col_heading level1 col0\" >Baseline</th>\n      <th class=\"col_heading level1 col1\" >2018</th>\n      <th class=\"col_heading level1 col2\" >2019</th>\n      <th class=\"col_heading level1 col3\" >Baseline</th>\n      <th class=\"col_heading level1 col4\" >2018</th>\n      <th class=\"col_heading level1 col5\" >2019</th>\n      <th class=\"col_heading level1 col6\" >Baseline</th>\n      <th class=\"col_heading level1 col7\" >2018</th>\n      <th class=\"col_heading level1 col8\" >2019</th>\n    </tr>\n  </thead>\n  <tbody>\n    <tr>\n      <th id=\"T__level0_row0\" class=\"row_heading level0 row0\" rowspan=\"5\">Product Type</th>\n      <th id=\"T__level1_row0\" class=\"row_heading level1 row0\" >CC</th>\n      <td  class=\"data row0 col0\" >69.6%</td>\n      <td  class=\"data row0 col1\" >75.0%</td>\n      <td  class=\"data row0 col2\" >73.1%</td>\n      <td  class=\"data row0 col3\" >294</td>\n      <td  class=\"data row0 col4\" >450</td>\n      <td  class=\"data row0 col5\" >72</td>\n      <td  class=\"data row0 col6 outcome-complied\" >GREEN</td>\n      <td  class=\"data row0 col7 outcome-complied\" >GREEN</td>\n      <td  class=\"data row0 col8 outcome-complied\" >GREEN</td>\n    </tr>\n    <tr>\n      <th id=\"T__level1_row1\" class=\"row_heading level1 row1\" >OD</th>\n      <td  class=\"data row1 col0\" >71.6%</td>\n      <td  class=\"data row1 col1\" >65.1%</td>\n      <td  class=\"data row1 col2\" >49.0%</td>\n      <td  class=\"data row1 col3\" >239</td>\n      <td  class=\"data row1 col4\" >367</td>\n      <td  class=\"data row1 col5\" >96</td>\n      <td  class=\"data row1 col6 outcome-complied\" >GREEN</td>\n      <td  class=\"data row1 col7 outcome-complied\" >GREEN</td>\n      <td  class=\"data row1 col8 outcome-moderate\" >YELLOW</td>\n    </tr>\n    <tr>\n      <th id=\"T__level1_row2\" class=\"row_heading level1 row2\" >CC_OD</th>\n      <td  class=\"data row2 col0\" >66.5%</td>\n      <td  class=\"data row2 col1\" >60.2%</td>\n      <td  class=\"data row2 col2\" >54.1%</td>\n      <td  class=\"data row2 col3\" >73</td>\n      <td  class=\"data row2 col4\" >1,033</td>\n      <td  class=\"data row2 col5\" >98</td>\n      <td  class=\"data row2 col6 outcome-complied\" >GREEN</td>\n      <td  class=\"data row2 col7 outcome-complied\" >GREEN</td>\n      <td  class=\"data row2 col8 outcome-complied\" >GREEN</td>\n    </tr>\n    <tr>\n      <th id=\"T__level1_row3\" class=\"row_heading level1 row3\" >With CC</th>\n      <td  class=\"data row3 col0\" >69.7%</td>\n      <td  class=\"data row3 col1\" >73.1%</td>\n      <td  class=\"data row3 col2\" >72.2%</td>\n      <td  class=\"data row3 col3\" >335</td>\n      <td  class=\"data row3 col4\" >1,483</td>\n      <td  class=\"data row3 col5\" >170</td>\n      <td  class=\"data row3 col6 outcome-complied\" >GREEN</td>\n      <td  class=\"data row3 col7 outcome-complied\" >GREEN</td>\n      <td  class=\"data row3 col8 outcome-complied\" >GREEN</td>\n    </tr>\n    <tr>\n      <th id=\"T__level1_row4\" class=\"row_heading level1 row4\" >With OD</th>\n      <td  class=\"data row4 col0\" >72.6%</td>\n      <td  class=\"data row4 col1\" >62.4%</td>\n      <td  class=\"data row4 col2\" >51.7%</td>\n      <td  class=\"data row4 col3\" >271</td>\n      <td  class=\"data row4 col4\" >1,400</td>\n      <td  class=\"data row4 col5\" >194</td>\n      <td  class=\"data row4 col6 outcome-complied\" >GREEN</td>\n      <td  class=\"data row4 col7 outcome-complied\" >GREEN</td>\n      <td  class=\"data row4 col8 outcome-moderate\" >YELLOW</td>\n    </tr>\n    <tr>\n      <th id=\"T__level0_row5\" class=\"row_heading level0 row5\" rowspan=\"2\">Gender</th>\n      <th id=\"T__level1_row5\" class=\"row_heading level1 row5\" >Male</th>\n      <td  class=\"data row5 col0\" >71.4%</td>\n      <td  class=\"data row5 col1\" >68.5%</td>\n      <td  class=\"data row5 col2\" >65.8%</td>\n      <td  class=\"data row5 col3\" >455</td>\n      <td  class=\"data row5 col4\" >1,370</td>\n      <td  class=\"data row5 col5\" >187</td>\n      <td  class=\"data row5 col6 outcome-complied\" >GREEN</td>\n      <td  class=\"data row5 col7 outcome-complied\" >GREEN</td>\n      <td  class=\"data row5 col8 outcome-complied\" >GREEN</td>\n    </tr>\n    <tr>\n      <th id=\"T__level1_row6\" class=\"row_heading level1 row6\" >Female</th>\n      <td  class=\"data row6 col0\" >65.7%</td>\n      <td  class=\"data row6 col1\" >73.8%</td>\n      <td  class=\"data row6 col2\" >71.7%</td>\n      <td  class=\"data row6 col3\" >151</td>\n      <td  class=\"data row6 col4\" >480</td>\n      <td  class=\"data row6 col5\" >79</td>\n      <td  class=\"data row6 col6 outcome-complied\" >GREEN</td>\n      <td  class=\"data row6 col7 outcome-complied\" >GREEN</td>\n      <td  class=\"data row6 col8 outcome-complied\" >GREEN</td>\n    </tr>\n  </tbody>\n</table>\n"
    }
   },
   "source": [
    "The risk ranking tests were conducted on sub-segments. The results are shown in table below.\n",
    "<br>\n",
    "{{sSubsegOutcome}}"
   ]
  },
  {
   "cell_type": "markdown",
   "id": "ac9e4ed5",
   "metadata": {},
   "source": [
    "*Place holder for user comments*\n",
    "<br>\n",
    "e.g. Most of the sub segments remained strong in terms of risk ranking power, except for customers with OD (including customers with only OD<span class=\"footnote\">Consumber OverDraft product</span>). This is due to the agressive growth pre-2019, where the bank decided to tab on customers with lower income."
   ]
  },
  {
   "cell_type": "markdown",
   "id": "ab649168",
   "metadata": {},
   "source": [
    "### Factor Level Performance"
   ]
  },
  {
   "cell_type": "code",
   "execution_count": 12,
   "id": "eac5cbac",
   "metadata": {
    "hide_input": true
   },
   "outputs": [],
   "source": [
    "sAROutcome, multiFactorARs = calcMultiFactorAR(dfBackend, configs)\n"
   ]
  },
  {
   "cell_type": "markdown",
   "id": "fcd75aad",
   "metadata": {
    "variables": {
     "sAROutcome": "<style type=\"text/css\">\n</style>\n<table id=\"T__\" class=\"ctable text-center index-left \">\n  <caption>Factors Risk Ranking Performance</caption>\n  <thead>\n    <tr>\n      <th class=\"blank level0\" >&nbsp;</th>\n      <th class=\"col_heading level0 col0\" colspan=\"3\">Risk Ranking (AR)</th>\n      <th class=\"col_heading level0 col3\" colspan=\"3\">Test Outcome</th>\n    </tr>\n    <tr>\n      <th class=\"index_name level1\" >cohort</th>\n      <th class=\"col_heading level1 col0\" >Baseline</th>\n      <th class=\"col_heading level1 col1\" >2018</th>\n      <th class=\"col_heading level1 col2\" >2019</th>\n      <th class=\"col_heading level1 col3\" >Baseline</th>\n      <th class=\"col_heading level1 col4\" >2018</th>\n      <th class=\"col_heading level1 col5\" >2019</th>\n    </tr>\n  </thead>\n  <tbody>\n    <tr>\n      <th id=\"T__level0_row0\" class=\"row_heading level0 row0\" >Address Type</th>\n      <td  class=\"data row0 col0\" >2.5%</td>\n      <td  class=\"data row0 col1\" >1.9%</td>\n      <td  class=\"data row0 col2\" >2.8%</td>\n      <td  class=\"data row0 col3 outcome-significant\" >RED</td>\n      <td  class=\"data row0 col4 outcome-moderate\" >YELLOW</td>\n      <td  class=\"data row0 col5 outcome-moderate\" >YELLOW</td>\n    </tr>\n    <tr>\n      <th id=\"T__level0_row1\" class=\"row_heading level0 row1\" >Gender</th>\n      <td  class=\"data row1 col0\" >15.3%</td>\n      <td  class=\"data row1 col1\" >16.6%</td>\n      <td  class=\"data row1 col2\" >16.6%</td>\n      <td  class=\"data row1 col3 outcome-complied\" >GREEN</td>\n      <td  class=\"data row1 col4 outcome-complied\" >GREEN</td>\n      <td  class=\"data row1 col5 outcome-complied\" >GREEN</td>\n    </tr>\n    <tr>\n      <th id=\"T__level0_row2\" class=\"row_heading level0 row2\" >Education Level</th>\n      <td  class=\"data row2 col0\" >23.4%</td>\n      <td  class=\"data row2 col1\" >30.3%</td>\n      <td  class=\"data row2 col2\" >25.2%</td>\n      <td  class=\"data row2 col3 outcome-complied\" >GREEN</td>\n      <td  class=\"data row2 col4 outcome-complied\" >GREEN</td>\n      <td  class=\"data row2 col5 outcome-complied\" >GREEN</td>\n    </tr>\n    <tr>\n      <th id=\"T__level0_row3\" class=\"row_heading level0 row3\" >Residential Status</th>\n      <td  class=\"data row3 col0\" >13.3%</td>\n      <td  class=\"data row3 col1\" >14.3%</td>\n      <td  class=\"data row3 col2\" >23.1%</td>\n      <td  class=\"data row3 col3 outcome-moderate\" >YELLOW</td>\n      <td  class=\"data row3 col4 outcome-complied\" >GREEN</td>\n      <td  class=\"data row3 col5 outcome-complied\" >GREEN</td>\n    </tr>\n    <tr>\n      <th id=\"T__level0_row4\" class=\"row_heading level0 row4\" >Years of Service</th>\n      <td  class=\"data row4 col0\" >16.9%</td>\n      <td  class=\"data row4 col1\" >9.4%</td>\n      <td  class=\"data row4 col2\" >5.9%</td>\n      <td  class=\"data row4 col3 outcome-complied\" >GREEN</td>\n      <td  class=\"data row4 col4 outcome-moderate\" >YELLOW</td>\n      <td  class=\"data row4 col5 outcome-moderate\" >YELLOW</td>\n    </tr>\n    <tr>\n      <th id=\"T__level0_row5\" class=\"row_heading level0 row5\" >Deposits L3M</th>\n      <td  class=\"data row5 col0\" >33.5%</td>\n      <td  class=\"data row5 col1\" >24.5%</td>\n      <td  class=\"data row5 col2\" >26.8%</td>\n      <td  class=\"data row5 col3 outcome-complied\" >GREEN</td>\n      <td  class=\"data row5 col4 outcome-complied\" >GREEN</td>\n      <td  class=\"data row5 col5 outcome-complied\" >GREEN</td>\n    </tr>\n    <tr>\n      <th id=\"T__level0_row6\" class=\"row_heading level0 row6\" >MOB From Credit Bureau</th>\n      <td  class=\"data row6 col0\" >28.2%</td>\n      <td  class=\"data row6 col1\" >35.3%</td>\n      <td  class=\"data row6 col2\" >31.6%</td>\n      <td  class=\"data row6 col3 outcome-complied\" >GREEN</td>\n      <td  class=\"data row6 col4 outcome-complied\" >GREEN</td>\n      <td  class=\"data row6 col5 outcome-complied\" >GREEN</td>\n    </tr>\n    <tr>\n      <th id=\"T__level0_row7\" class=\"row_heading level0 row7\" >Number of New Application\"s Enquiries in CB in L6M</th>\n      <td  class=\"data row7 col0\" >39.7%</td>\n      <td  class=\"data row7 col1\" >40.6%</td>\n      <td  class=\"data row7 col2\" >27.6%</td>\n      <td  class=\"data row7 col3 outcome-complied\" >GREEN</td>\n      <td  class=\"data row7 col4 outcome-complied\" >GREEN</td>\n      <td  class=\"data row7 col5 outcome-complied\" >GREEN</td>\n    </tr>\n    <tr>\n      <th id=\"T__level0_row8\" class=\"row_heading level0 row8\" >Ever 30+dpd in CB in L12M</th>\n      <td  class=\"data row8 col0\" >13.4%</td>\n      <td  class=\"data row8 col1\" >10.1%</td>\n      <td  class=\"data row8 col2\" >8.1%</td>\n      <td  class=\"data row8 col3 outcome-moderate\" >YELLOW</td>\n      <td  class=\"data row8 col4 outcome-complied\" >GREEN</td>\n      <td  class=\"data row8 col5 outcome-moderate\" >YELLOW</td>\n    </tr>\n    <tr>\n      <th id=\"T__level0_row9\" class=\"row_heading level0 row9\" >Months with Cash Advance L3M</th>\n      <td  class=\"data row9 col0\" >46.0%</td>\n      <td  class=\"data row9 col1\" >41.2%</td>\n      <td  class=\"data row9 col2\" >42.7%</td>\n      <td  class=\"data row9 col3 outcome-complied\" >GREEN</td>\n      <td  class=\"data row9 col4 outcome-complied\" >GREEN</td>\n      <td  class=\"data row9 col5 outcome-complied\" >GREEN</td>\n    </tr>\n    <tr>\n      <th id=\"T__level0_row10\" class=\"row_heading level0 row10\" >Partial Payment L3M</th>\n      <td  class=\"data row10 col0\" >48.3%</td>\n      <td  class=\"data row10 col1\" >41.8%</td>\n      <td  class=\"data row10 col2\" >45.2%</td>\n      <td  class=\"data row10 col3 outcome-complied\" >GREEN</td>\n      <td  class=\"data row10 col4 outcome-complied\" >GREEN</td>\n      <td  class=\"data row10 col5 outcome-complied\" >GREEN</td>\n    </tr>\n  </tbody>\n</table>\n"
    }
   },
   "source": [
    "{{sAROutcome}}"
   ]
  },
  {
   "cell_type": "markdown",
   "id": "9476df6f",
   "metadata": {},
   "source": [
    "*Place holder for user comments*\n",
    "<br>\n",
    "e.g. From table 5.11, we see 3 factors dropped in risk ranking power. Those are 'Address Type', 'Years of Service' and 'Ever 30+ dpd in last 12 months."
   ]
  },
  {
   "cell_type": "markdown",
   "id": "b256411a",
   "metadata": {
    "variables": {
     "multiFactorARs[0].get('factorDist')": "<style type=\"text/css\">\n</style>\n<table id=\"T__\" class=\"ctable text-center  \">\n  <caption>Address Type Factor - Distribution & Bad Rate</caption>\n  <thead>\n    <tr>\n      <th class=\"col_heading level0 col0\" colspan=\"2\"></th>\n      <th class=\"col_heading level0 col2\" colspan=\"3\">Count</th>\n      <th class=\"col_heading level0 col5\" colspan=\"3\">Default</th>\n      <th class=\"col_heading level0 col8\" colspan=\"3\">Distribution</th>\n      <th class=\"col_heading level0 col11\" colspan=\"3\">Default Rate</th>\n    </tr>\n    <tr>\n      <th class=\"col_heading level1 col0\" colspan=\"2\"></th>\n      <th class=\"col_heading level1 col2\" >Dev</th>\n      <th class=\"col_heading level1 col3\" colspan=\"2\">Review</th>\n      <th class=\"col_heading level1 col5\" >Dev</th>\n      <th class=\"col_heading level1 col6\" colspan=\"2\">Review</th>\n      <th class=\"col_heading level1 col8\" >Dev</th>\n      <th class=\"col_heading level1 col9\" colspan=\"2\">Review</th>\n      <th class=\"col_heading level1 col11\" >Dev</th>\n      <th class=\"col_heading level1 col12\" colspan=\"2\">Review</th>\n    </tr>\n    <tr>\n      <th class=\"col_heading level2 col0\" >Bucket</th>\n      <th class=\"col_heading level2 col1\" >Score</th>\n      <th class=\"col_heading level2 col2\" >Baseline</th>\n      <th class=\"col_heading level2 col3\" >2018</th>\n      <th class=\"col_heading level2 col4\" >2019</th>\n      <th class=\"col_heading level2 col5\" >Baseline</th>\n      <th class=\"col_heading level2 col6\" >2018</th>\n      <th class=\"col_heading level2 col7\" >2019</th>\n      <th class=\"col_heading level2 col8\" >Baseline</th>\n      <th class=\"col_heading level2 col9\" >2018</th>\n      <th class=\"col_heading level2 col10\" >2019</th>\n      <th class=\"col_heading level2 col11\" >Baseline</th>\n      <th class=\"col_heading level2 col12\" >2018</th>\n      <th class=\"col_heading level2 col13\" >2019</th>\n    </tr>\n  </thead>\n  <tbody>\n    <tr>\n      <td  class=\"data row0 col0\" >01. Home</td>\n      <td  class=\"data row0 col1\" >27</td>\n      <td  class=\"data row0 col2\" >26,620</td>\n      <td  class=\"data row0 col3\" >45,103</td>\n      <td  class=\"data row0 col4\" >22,071</td>\n      <td  class=\"data row0 col5\" >572</td>\n      <td  class=\"data row0 col6\" >1,779</td>\n      <td  class=\"data row0 col7\" >255</td>\n      <td  class=\"data row0 col8\" >96.8%</td>\n      <td  class=\"data row0 col9\" >98.0%</td>\n      <td  class=\"data row0 col10\" >98.7%</td>\n      <td  class=\"data row0 col11\" >2.15%</td>\n      <td  class=\"data row0 col12\" >3.94%</td>\n      <td  class=\"data row0 col13\" >1.16%</td>\n    </tr>\n    <tr>\n      <td  class=\"data row1 col0\" >02. Others</td>\n      <td  class=\"data row1 col1\" >10</td>\n      <td  class=\"data row1 col2\" >883</td>\n      <td  class=\"data row1 col3\" >937</td>\n      <td  class=\"data row1 col4\" >299</td>\n      <td  class=\"data row1 col5\" >34</td>\n      <td  class=\"data row1 col6\" >71</td>\n      <td  class=\"data row1 col7\" >11</td>\n      <td  class=\"data row1 col8\" >3.2%</td>\n      <td  class=\"data row1 col9\" >2.0%</td>\n      <td  class=\"data row1 col10\" >1.3%</td>\n      <td  class=\"data row1 col11\" >3.85%</td>\n      <td  class=\"data row1 col12\" >7.58%</td>\n      <td  class=\"data row1 col13\" >3.68%</td>\n    </tr>\n    <tr>\n      <td  class=\"data row2 col0\" >Total</td>\n      <td  class=\"data row2 col1\" ></td>\n      <td  class=\"data row2 col2\" >27,503</td>\n      <td  class=\"data row2 col3\" >46,040</td>\n      <td  class=\"data row2 col4\" >22,370</td>\n      <td  class=\"data row2 col5\" >606</td>\n      <td  class=\"data row2 col6\" >1,850</td>\n      <td  class=\"data row2 col7\" >266</td>\n      <td  class=\"data row2 col8\" >100.0%</td>\n      <td  class=\"data row2 col9\" >100.0%</td>\n      <td  class=\"data row2 col10\" >100.0%</td>\n      <td  class=\"data row2 col11\" >2.20%</td>\n      <td  class=\"data row2 col12\" >4.02%</td>\n      <td  class=\"data row2 col13\" >1.19%</td>\n    </tr>\n  </tbody>\n</table>\n"
    }
   },
   "source": [
    "{{multiFactorARs[0].get('factorDist')}}"
   ]
  },
  {
   "cell_type": "markdown",
   "id": "3d8dfda9",
   "metadata": {},
   "source": [
    "*Place holder for user comments*<br>"
   ]
  },
  {
   "cell_type": "markdown",
   "id": "4901be57",
   "metadata": {
    "variables": {
     "multiFactorARs[4].get('factorDist')": "<style type=\"text/css\">\n</style>\n<table id=\"T__\" class=\"ctable text-center  \">\n  <caption>Years of Service Factor - Distribution & Bad Rate</caption>\n  <thead>\n    <tr>\n      <th class=\"col_heading level0 col0\" colspan=\"2\"></th>\n      <th class=\"col_heading level0 col2\" colspan=\"3\">Count</th>\n      <th class=\"col_heading level0 col5\" colspan=\"3\">Default</th>\n      <th class=\"col_heading level0 col8\" colspan=\"3\">Distribution</th>\n      <th class=\"col_heading level0 col11\" colspan=\"3\">Default Rate</th>\n    </tr>\n    <tr>\n      <th class=\"col_heading level1 col0\" colspan=\"2\"></th>\n      <th class=\"col_heading level1 col2\" >Dev</th>\n      <th class=\"col_heading level1 col3\" colspan=\"2\">Review</th>\n      <th class=\"col_heading level1 col5\" >Dev</th>\n      <th class=\"col_heading level1 col6\" colspan=\"2\">Review</th>\n      <th class=\"col_heading level1 col8\" >Dev</th>\n      <th class=\"col_heading level1 col9\" colspan=\"2\">Review</th>\n      <th class=\"col_heading level1 col11\" >Dev</th>\n      <th class=\"col_heading level1 col12\" colspan=\"2\">Review</th>\n    </tr>\n    <tr>\n      <th class=\"col_heading level2 col0\" >Bucket</th>\n      <th class=\"col_heading level2 col1\" >Score</th>\n      <th class=\"col_heading level2 col2\" >Baseline</th>\n      <th class=\"col_heading level2 col3\" >2018</th>\n      <th class=\"col_heading level2 col4\" >2019</th>\n      <th class=\"col_heading level2 col5\" >Baseline</th>\n      <th class=\"col_heading level2 col6\" >2018</th>\n      <th class=\"col_heading level2 col7\" >2019</th>\n      <th class=\"col_heading level2 col8\" >Baseline</th>\n      <th class=\"col_heading level2 col9\" >2018</th>\n      <th class=\"col_heading level2 col10\" >2019</th>\n      <th class=\"col_heading level2 col11\" >Baseline</th>\n      <th class=\"col_heading level2 col12\" >2018</th>\n      <th class=\"col_heading level2 col13\" >2019</th>\n    </tr>\n  </thead>\n  <tbody>\n    <tr>\n      <td  class=\"data row0 col0\" >01. 1 year</td>\n      <td  class=\"data row0 col1\" >21</td>\n      <td  class=\"data row0 col2\" >3,440</td>\n      <td  class=\"data row0 col3\" >10,674</td>\n      <td  class=\"data row0 col4\" >4,313</td>\n      <td  class=\"data row0 col5\" >94</td>\n      <td  class=\"data row0 col6\" >470</td>\n      <td  class=\"data row0 col7\" >52</td>\n      <td  class=\"data row0 col8\" >12.5%</td>\n      <td  class=\"data row0 col9\" >23.5%</td>\n      <td  class=\"data row0 col10\" >19.6%</td>\n      <td  class=\"data row0 col11\" >2.73%</td>\n      <td  class=\"data row0 col12\" >4.40%</td>\n      <td  class=\"data row0 col13\" >1.21%</td>\n    </tr>\n    <tr>\n      <td  class=\"data row1 col0\" >02. 2-6 years</td>\n      <td  class=\"data row1 col1\" >18</td>\n      <td  class=\"data row1 col2\" >11,661</td>\n      <td  class=\"data row1 col3\" >18,870</td>\n      <td  class=\"data row1 col4\" >9,707</td>\n      <td  class=\"data row1 col5\" >328</td>\n      <td  class=\"data row1 col6\" >870</td>\n      <td  class=\"data row1 col7\" >131</td>\n      <td  class=\"data row1 col8\" >42.4%</td>\n      <td  class=\"data row1 col9\" >41.6%</td>\n      <td  class=\"data row1 col10\" >44.2%</td>\n      <td  class=\"data row1 col11\" >2.81%</td>\n      <td  class=\"data row1 col12\" >4.61%</td>\n      <td  class=\"data row1 col13\" >1.35%</td>\n    </tr>\n    <tr>\n      <td  class=\"data row2 col0\" >03. 7-9 years</td>\n      <td  class=\"data row2 col1\" >28</td>\n      <td  class=\"data row2 col2\" >3,367</td>\n      <td  class=\"data row2 col3\" >5,145</td>\n      <td  class=\"data row2 col4\" >2,462</td>\n      <td  class=\"data row2 col5\" >72</td>\n      <td  class=\"data row2 col6\" >192</td>\n      <td  class=\"data row2 col7\" >24</td>\n      <td  class=\"data row2 col8\" >12.2%</td>\n      <td  class=\"data row2 col9\" >11.3%</td>\n      <td  class=\"data row2 col10\" >11.2%</td>\n      <td  class=\"data row2 col11\" >2.14%</td>\n      <td  class=\"data row2 col12\" >3.73%</td>\n      <td  class=\"data row2 col13\" >0.97%</td>\n    </tr>\n    <tr>\n      <td  class=\"data row3 col0\" >04. Above 9 years</td>\n      <td  class=\"data row3 col1\" >40</td>\n      <td  class=\"data row3 col2\" >9,035</td>\n      <td  class=\"data row3 col3\" >10,710</td>\n      <td  class=\"data row3 col4\" >5,503</td>\n      <td  class=\"data row3 col5\" >112</td>\n      <td  class=\"data row3 col6\" >303</td>\n      <td  class=\"data row3 col7\" >59</td>\n      <td  class=\"data row3 col8\" >32.9%</td>\n      <td  class=\"data row3 col9\" >23.6%</td>\n      <td  class=\"data row3 col10\" >25.0%</td>\n      <td  class=\"data row3 col11\" >1.24%</td>\n      <td  class=\"data row3 col12\" >2.83%</td>\n      <td  class=\"data row3 col13\" >1.07%</td>\n    </tr>\n    <tr>\n      <td  class=\"data row4 col0\" >Total</td>\n      <td  class=\"data row4 col1\" ></td>\n      <td  class=\"data row4 col2\" >27,503</td>\n      <td  class=\"data row4 col3\" >45,399</td>\n      <td  class=\"data row4 col4\" >21,985</td>\n      <td  class=\"data row4 col5\" >606</td>\n      <td  class=\"data row4 col6\" >1,835</td>\n      <td  class=\"data row4 col7\" >266</td>\n      <td  class=\"data row4 col8\" >100.0%</td>\n      <td  class=\"data row4 col9\" >100.0%</td>\n      <td  class=\"data row4 col10\" >100.0%</td>\n      <td  class=\"data row4 col11\" >2.20%</td>\n      <td  class=\"data row4 col12\" >4.04%</td>\n      <td  class=\"data row4 col13\" >1.21%</td>\n    </tr>\n  </tbody>\n</table>\n"
    }
   },
   "source": [
    "{{multiFactorARs[4].get('factorDist')}}"
   ]
  },
  {
   "cell_type": "markdown",
   "id": "e6906146",
   "metadata": {},
   "source": [
    "*Place holder for user comments*<br>"
   ]
  },
  {
   "cell_type": "markdown",
   "id": "9cb7af74",
   "metadata": {
    "variables": {
     "multiFactorARs[8].get('factorDist')": "<style type=\"text/css\">\n</style>\n<table id=\"T__\" class=\"ctable text-center  \">\n  <caption>Ever 30+dpd in CB in L12M Factor - Distribution & Bad Rate</caption>\n  <thead>\n    <tr>\n      <th class=\"col_heading level0 col0\" colspan=\"2\"></th>\n      <th class=\"col_heading level0 col2\" colspan=\"3\">Count</th>\n      <th class=\"col_heading level0 col5\" colspan=\"3\">Default</th>\n      <th class=\"col_heading level0 col8\" colspan=\"3\">Distribution</th>\n      <th class=\"col_heading level0 col11\" colspan=\"3\">Default Rate</th>\n    </tr>\n    <tr>\n      <th class=\"col_heading level1 col0\" colspan=\"2\"></th>\n      <th class=\"col_heading level1 col2\" >Dev</th>\n      <th class=\"col_heading level1 col3\" colspan=\"2\">Review</th>\n      <th class=\"col_heading level1 col5\" >Dev</th>\n      <th class=\"col_heading level1 col6\" colspan=\"2\">Review</th>\n      <th class=\"col_heading level1 col8\" >Dev</th>\n      <th class=\"col_heading level1 col9\" colspan=\"2\">Review</th>\n      <th class=\"col_heading level1 col11\" >Dev</th>\n      <th class=\"col_heading level1 col12\" colspan=\"2\">Review</th>\n    </tr>\n    <tr>\n      <th class=\"col_heading level2 col0\" >Bucket</th>\n      <th class=\"col_heading level2 col1\" >Score</th>\n      <th class=\"col_heading level2 col2\" >Baseline</th>\n      <th class=\"col_heading level2 col3\" >2018</th>\n      <th class=\"col_heading level2 col4\" >2019</th>\n      <th class=\"col_heading level2 col5\" >Baseline</th>\n      <th class=\"col_heading level2 col6\" >2018</th>\n      <th class=\"col_heading level2 col7\" >2019</th>\n      <th class=\"col_heading level2 col8\" >Baseline</th>\n      <th class=\"col_heading level2 col9\" >2018</th>\n      <th class=\"col_heading level2 col10\" >2019</th>\n      <th class=\"col_heading level2 col11\" >Baseline</th>\n      <th class=\"col_heading level2 col12\" >2018</th>\n      <th class=\"col_heading level2 col13\" >2019</th>\n    </tr>\n  </thead>\n  <tbody>\n    <tr>\n      <td  class=\"data row0 col0\" >01. Yes</td>\n      <td  class=\"data row0 col1\" >6</td>\n      <td  class=\"data row0 col2\" >2,258</td>\n      <td  class=\"data row0 col3\" >6,214</td>\n      <td  class=\"data row0 col4\" >2,240</td>\n      <td  class=\"data row0 col5\" >129</td>\n      <td  class=\"data row0 col6\" >429</td>\n      <td  class=\"data row0 col7\" >48</td>\n      <td  class=\"data row0 col8\" >8.2%</td>\n      <td  class=\"data row0 col9\" >13.5%</td>\n      <td  class=\"data row0 col10\" >10.0%</td>\n      <td  class=\"data row0 col11\" >5.71%</td>\n      <td  class=\"data row0 col12\" >6.90%</td>\n      <td  class=\"data row0 col13\" >2.14%</td>\n    </tr>\n    <tr>\n      <td  class=\"data row1 col0\" >02. No</td>\n      <td  class=\"data row1 col1\" >28</td>\n      <td  class=\"data row1 col2\" >25,245</td>\n      <td  class=\"data row1 col3\" >39,826</td>\n      <td  class=\"data row1 col4\" >20,130</td>\n      <td  class=\"data row1 col5\" >477</td>\n      <td  class=\"data row1 col6\" >1,421</td>\n      <td  class=\"data row1 col7\" >218</td>\n      <td  class=\"data row1 col8\" >91.8%</td>\n      <td  class=\"data row1 col9\" >86.5%</td>\n      <td  class=\"data row1 col10\" >90.0%</td>\n      <td  class=\"data row1 col11\" >1.89%</td>\n      <td  class=\"data row1 col12\" >3.57%</td>\n      <td  class=\"data row1 col13\" >1.08%</td>\n    </tr>\n    <tr>\n      <td  class=\"data row2 col0\" >Total</td>\n      <td  class=\"data row2 col1\" ></td>\n      <td  class=\"data row2 col2\" >27,503</td>\n      <td  class=\"data row2 col3\" >46,040</td>\n      <td  class=\"data row2 col4\" >22,370</td>\n      <td  class=\"data row2 col5\" >606</td>\n      <td  class=\"data row2 col6\" >1,850</td>\n      <td  class=\"data row2 col7\" >266</td>\n      <td  class=\"data row2 col8\" >100.0%</td>\n      <td  class=\"data row2 col9\" >100.0%</td>\n      <td  class=\"data row2 col10\" >100.0%</td>\n      <td  class=\"data row2 col11\" >2.20%</td>\n      <td  class=\"data row2 col12\" >4.02%</td>\n      <td  class=\"data row2 col13\" >1.19%</td>\n    </tr>\n  </tbody>\n</table>\n"
    }
   },
   "source": [
    "{{multiFactorARs[8].get('factorDist')}}"
   ]
  },
  {
   "cell_type": "markdown",
   "id": "165b340a",
   "metadata": {},
   "source": [
    "*Place holder for user comments*<br>"
   ]
  },
  {
   "cell_type": "markdown",
   "id": "a7c675e0",
   "metadata": {},
   "source": [
    "# Conclusion"
   ]
  },
  {
   "cell_type": "markdown",
   "id": "c1be3000",
   "metadata": {},
   "source": [
    "# Appendices"
   ]
  },
  {
   "cell_type": "markdown",
   "id": "49e1d160",
   "metadata": {},
   "source": [
    "## Factor Distribution"
   ]
  },
  {
   "cell_type": "markdown",
   "id": "82e35a8d",
   "metadata": {
    "variables": {
     "multiFactorARs[0].get('factorDist')": "<style type=\"text/css\">\n</style>\n<table id=\"T__\" class=\"ctable text-center  \">\n  <caption>Address Type Factor - Distribution & Bad Rate</caption>\n  <thead>\n    <tr>\n      <th class=\"col_heading level0 col0\" colspan=\"2\"></th>\n      <th class=\"col_heading level0 col2\" colspan=\"3\">Count</th>\n      <th class=\"col_heading level0 col5\" colspan=\"3\">Default</th>\n      <th class=\"col_heading level0 col8\" colspan=\"3\">Distribution</th>\n      <th class=\"col_heading level0 col11\" colspan=\"3\">Default Rate</th>\n    </tr>\n    <tr>\n      <th class=\"col_heading level1 col0\" colspan=\"2\"></th>\n      <th class=\"col_heading level1 col2\" >Dev</th>\n      <th class=\"col_heading level1 col3\" colspan=\"2\">Review</th>\n      <th class=\"col_heading level1 col5\" >Dev</th>\n      <th class=\"col_heading level1 col6\" colspan=\"2\">Review</th>\n      <th class=\"col_heading level1 col8\" >Dev</th>\n      <th class=\"col_heading level1 col9\" colspan=\"2\">Review</th>\n      <th class=\"col_heading level1 col11\" >Dev</th>\n      <th class=\"col_heading level1 col12\" colspan=\"2\">Review</th>\n    </tr>\n    <tr>\n      <th class=\"col_heading level2 col0\" >Bucket</th>\n      <th class=\"col_heading level2 col1\" >Score</th>\n      <th class=\"col_heading level2 col2\" >Baseline</th>\n      <th class=\"col_heading level2 col3\" >2018</th>\n      <th class=\"col_heading level2 col4\" >2019</th>\n      <th class=\"col_heading level2 col5\" >Baseline</th>\n      <th class=\"col_heading level2 col6\" >2018</th>\n      <th class=\"col_heading level2 col7\" >2019</th>\n      <th class=\"col_heading level2 col8\" >Baseline</th>\n      <th class=\"col_heading level2 col9\" >2018</th>\n      <th class=\"col_heading level2 col10\" >2019</th>\n      <th class=\"col_heading level2 col11\" >Baseline</th>\n      <th class=\"col_heading level2 col12\" >2018</th>\n      <th class=\"col_heading level2 col13\" >2019</th>\n    </tr>\n  </thead>\n  <tbody>\n    <tr>\n      <td  class=\"data row0 col0\" >01. Home</td>\n      <td  class=\"data row0 col1\" >27</td>\n      <td  class=\"data row0 col2\" >26,620</td>\n      <td  class=\"data row0 col3\" >45,103</td>\n      <td  class=\"data row0 col4\" >22,071</td>\n      <td  class=\"data row0 col5\" >572</td>\n      <td  class=\"data row0 col6\" >1,779</td>\n      <td  class=\"data row0 col7\" >255</td>\n      <td  class=\"data row0 col8\" >96.8%</td>\n      <td  class=\"data row0 col9\" >98.0%</td>\n      <td  class=\"data row0 col10\" >98.7%</td>\n      <td  class=\"data row0 col11\" >2.15%</td>\n      <td  class=\"data row0 col12\" >3.94%</td>\n      <td  class=\"data row0 col13\" >1.16%</td>\n    </tr>\n    <tr>\n      <td  class=\"data row1 col0\" >02. Others</td>\n      <td  class=\"data row1 col1\" >10</td>\n      <td  class=\"data row1 col2\" >883</td>\n      <td  class=\"data row1 col3\" >937</td>\n      <td  class=\"data row1 col4\" >299</td>\n      <td  class=\"data row1 col5\" >34</td>\n      <td  class=\"data row1 col6\" >71</td>\n      <td  class=\"data row1 col7\" >11</td>\n      <td  class=\"data row1 col8\" >3.2%</td>\n      <td  class=\"data row1 col9\" >2.0%</td>\n      <td  class=\"data row1 col10\" >1.3%</td>\n      <td  class=\"data row1 col11\" >3.85%</td>\n      <td  class=\"data row1 col12\" >7.58%</td>\n      <td  class=\"data row1 col13\" >3.68%</td>\n    </tr>\n    <tr>\n      <td  class=\"data row2 col0\" >Total</td>\n      <td  class=\"data row2 col1\" ></td>\n      <td  class=\"data row2 col2\" >27,503</td>\n      <td  class=\"data row2 col3\" >46,040</td>\n      <td  class=\"data row2 col4\" >22,370</td>\n      <td  class=\"data row2 col5\" >606</td>\n      <td  class=\"data row2 col6\" >1,850</td>\n      <td  class=\"data row2 col7\" >266</td>\n      <td  class=\"data row2 col8\" >100.0%</td>\n      <td  class=\"data row2 col9\" >100.0%</td>\n      <td  class=\"data row2 col10\" >100.0%</td>\n      <td  class=\"data row2 col11\" >2.20%</td>\n      <td  class=\"data row2 col12\" >4.02%</td>\n      <td  class=\"data row2 col13\" >1.19%</td>\n    </tr>\n  </tbody>\n</table>\n",
     "multiFactorARs[10].get('factorDist')": "<style type=\"text/css\">\n</style>\n<table id=\"T__\" class=\"ctable text-center  \">\n  <caption>Partial Payment L3M Factor - Distribution & Bad Rate</caption>\n  <thead>\n    <tr>\n      <th class=\"col_heading level0 col0\" colspan=\"2\"></th>\n      <th class=\"col_heading level0 col2\" colspan=\"3\">Count</th>\n      <th class=\"col_heading level0 col5\" colspan=\"3\">Default</th>\n      <th class=\"col_heading level0 col8\" colspan=\"3\">Distribution</th>\n      <th class=\"col_heading level0 col11\" colspan=\"3\">Default Rate</th>\n    </tr>\n    <tr>\n      <th class=\"col_heading level1 col0\" colspan=\"2\"></th>\n      <th class=\"col_heading level1 col2\" >Dev</th>\n      <th class=\"col_heading level1 col3\" colspan=\"2\">Review</th>\n      <th class=\"col_heading level1 col5\" >Dev</th>\n      <th class=\"col_heading level1 col6\" colspan=\"2\">Review</th>\n      <th class=\"col_heading level1 col8\" >Dev</th>\n      <th class=\"col_heading level1 col9\" colspan=\"2\">Review</th>\n      <th class=\"col_heading level1 col11\" >Dev</th>\n      <th class=\"col_heading level1 col12\" colspan=\"2\">Review</th>\n    </tr>\n    <tr>\n      <th class=\"col_heading level2 col0\" >Bucket</th>\n      <th class=\"col_heading level2 col1\" >Score</th>\n      <th class=\"col_heading level2 col2\" >Baseline</th>\n      <th class=\"col_heading level2 col3\" >2018</th>\n      <th class=\"col_heading level2 col4\" >2019</th>\n      <th class=\"col_heading level2 col5\" >Baseline</th>\n      <th class=\"col_heading level2 col6\" >2018</th>\n      <th class=\"col_heading level2 col7\" >2019</th>\n      <th class=\"col_heading level2 col8\" >Baseline</th>\n      <th class=\"col_heading level2 col9\" >2018</th>\n      <th class=\"col_heading level2 col10\" >2019</th>\n      <th class=\"col_heading level2 col11\" >Baseline</th>\n      <th class=\"col_heading level2 col12\" >2018</th>\n      <th class=\"col_heading level2 col13\" >2019</th>\n    </tr>\n  </thead>\n  <tbody>\n    <tr>\n      <td  class=\"data row0 col0\" >01. 0</td>\n      <td  class=\"data row0 col1\" >39</td>\n      <td  class=\"data row0 col2\" >9,287</td>\n      <td  class=\"data row0 col3\" >22,429</td>\n      <td  class=\"data row0 col4\" >11,845</td>\n      <td  class=\"data row0 col5\" >51</td>\n      <td  class=\"data row0 col6\" >330</td>\n      <td  class=\"data row0 col7\" >54</td>\n      <td  class=\"data row0 col8\" >33.8%</td>\n      <td  class=\"data row0 col9\" >48.7%</td>\n      <td  class=\"data row0 col10\" >53.0%</td>\n      <td  class=\"data row0 col11\" >0.55%</td>\n      <td  class=\"data row0 col12\" >1.47%</td>\n      <td  class=\"data row0 col13\" >0.46%</td>\n    </tr>\n    <tr>\n      <td  class=\"data row1 col0\" >02. 1</td>\n      <td  class=\"data row1 col1\" >38</td>\n      <td  class=\"data row1 col2\" >6,101</td>\n      <td  class=\"data row1 col3\" >6,503</td>\n      <td  class=\"data row1 col4\" >2,998</td>\n      <td  class=\"data row1 col5\" >39</td>\n      <td  class=\"data row1 col6\" >201</td>\n      <td  class=\"data row1 col7\" >13</td>\n      <td  class=\"data row1 col8\" >22.2%</td>\n      <td  class=\"data row1 col9\" >14.1%</td>\n      <td  class=\"data row1 col10\" >13.4%</td>\n      <td  class=\"data row1 col11\" >0.64%</td>\n      <td  class=\"data row1 col12\" >3.09%</td>\n      <td  class=\"data row1 col13\" >0.43%</td>\n    </tr>\n    <tr>\n      <td  class=\"data row2 col0\" >03. 2</td>\n      <td  class=\"data row2 col1\" >31</td>\n      <td  class=\"data row2 col2\" >3,393</td>\n      <td  class=\"data row2 col3\" >3,882</td>\n      <td  class=\"data row2 col4\" >1,649</td>\n      <td  class=\"data row2 col5\" >68</td>\n      <td  class=\"data row2 col6\" >191</td>\n      <td  class=\"data row2 col7\" >21</td>\n      <td  class=\"data row2 col8\" >12.3%</td>\n      <td  class=\"data row2 col9\" >8.4%</td>\n      <td  class=\"data row2 col10\" >7.4%</td>\n      <td  class=\"data row2 col11\" >2.00%</td>\n      <td  class=\"data row2 col12\" >4.92%</td>\n      <td  class=\"data row2 col13\" >1.27%</td>\n    </tr>\n    <tr>\n      <td  class=\"data row3 col0\" >05. N.A</td>\n      <td  class=\"data row3 col1\" >9</td>\n      <td  class=\"data row3 col2\" >6,561</td>\n      <td  class=\"data row3 col3\" >10,359</td>\n      <td  class=\"data row3 col4\" >4,642</td>\n      <td  class=\"data row3 col5\" >342</td>\n      <td  class=\"data row3 col6\" >948</td>\n      <td  class=\"data row3 col7\" >148</td>\n      <td  class=\"data row3 col8\" >23.9%</td>\n      <td  class=\"data row3 col9\" >22.5%</td>\n      <td  class=\"data row3 col10\" >20.8%</td>\n      <td  class=\"data row3 col11\" >5.21%</td>\n      <td  class=\"data row3 col12\" >9.15%</td>\n      <td  class=\"data row3 col13\" >3.19%</td>\n    </tr>\n    <tr>\n      <td  class=\"data row4 col0\" >05. N.A</td>\n      <td  class=\"data row4 col1\" >10</td>\n      <td  class=\"data row4 col2\" >2,161</td>\n      <td  class=\"data row4 col3\" >2,867</td>\n      <td  class=\"data row4 col4\" >1,236</td>\n      <td  class=\"data row4 col5\" >106</td>\n      <td  class=\"data row4 col6\" >180</td>\n      <td  class=\"data row4 col7\" >30</td>\n      <td  class=\"data row4 col8\" >7.9%</td>\n      <td  class=\"data row4 col9\" >6.2%</td>\n      <td  class=\"data row4 col10\" >5.5%</td>\n      <td  class=\"data row4 col11\" >4.91%</td>\n      <td  class=\"data row4 col12\" >6.28%</td>\n      <td  class=\"data row4 col13\" >2.43%</td>\n    </tr>\n    <tr>\n      <td  class=\"data row5 col0\" >Total</td>\n      <td  class=\"data row5 col1\" ></td>\n      <td  class=\"data row5 col2\" >27,503</td>\n      <td  class=\"data row5 col3\" >46,040</td>\n      <td  class=\"data row5 col4\" >22,370</td>\n      <td  class=\"data row5 col5\" >606</td>\n      <td  class=\"data row5 col6\" >1,850</td>\n      <td  class=\"data row5 col7\" >266</td>\n      <td  class=\"data row5 col8\" >100.0%</td>\n      <td  class=\"data row5 col9\" >100.0%</td>\n      <td  class=\"data row5 col10\" >100.0%</td>\n      <td  class=\"data row5 col11\" >2.20%</td>\n      <td  class=\"data row5 col12\" >4.02%</td>\n      <td  class=\"data row5 col13\" >1.19%</td>\n    </tr>\n  </tbody>\n</table>\n",
     "multiFactorARs[1].get('factorDist')": "<style type=\"text/css\">\n</style>\n<table id=\"T__\" class=\"ctable text-center  \">\n  <caption>Gender Factor - Distribution & Bad Rate</caption>\n  <thead>\n    <tr>\n      <th class=\"col_heading level0 col0\" colspan=\"2\"></th>\n      <th class=\"col_heading level0 col2\" colspan=\"3\">Count</th>\n      <th class=\"col_heading level0 col5\" colspan=\"3\">Default</th>\n      <th class=\"col_heading level0 col8\" colspan=\"3\">Distribution</th>\n      <th class=\"col_heading level0 col11\" colspan=\"3\">Default Rate</th>\n    </tr>\n    <tr>\n      <th class=\"col_heading level1 col0\" colspan=\"2\"></th>\n      <th class=\"col_heading level1 col2\" >Dev</th>\n      <th class=\"col_heading level1 col3\" colspan=\"2\">Review</th>\n      <th class=\"col_heading level1 col5\" >Dev</th>\n      <th class=\"col_heading level1 col6\" colspan=\"2\">Review</th>\n      <th class=\"col_heading level1 col8\" >Dev</th>\n      <th class=\"col_heading level1 col9\" colspan=\"2\">Review</th>\n      <th class=\"col_heading level1 col11\" >Dev</th>\n      <th class=\"col_heading level1 col12\" colspan=\"2\">Review</th>\n    </tr>\n    <tr>\n      <th class=\"col_heading level2 col0\" >Bucket</th>\n      <th class=\"col_heading level2 col1\" >Score</th>\n      <th class=\"col_heading level2 col2\" >Baseline</th>\n      <th class=\"col_heading level2 col3\" >2018</th>\n      <th class=\"col_heading level2 col4\" >2019</th>\n      <th class=\"col_heading level2 col5\" >Baseline</th>\n      <th class=\"col_heading level2 col6\" >2018</th>\n      <th class=\"col_heading level2 col7\" >2019</th>\n      <th class=\"col_heading level2 col8\" >Baseline</th>\n      <th class=\"col_heading level2 col9\" >2018</th>\n      <th class=\"col_heading level2 col10\" >2019</th>\n      <th class=\"col_heading level2 col11\" >Baseline</th>\n      <th class=\"col_heading level2 col12\" >2018</th>\n      <th class=\"col_heading level2 col13\" >2019</th>\n    </tr>\n  </thead>\n  <tbody>\n    <tr>\n      <td  class=\"data row0 col0\" >01. Male</td>\n      <td  class=\"data row0 col1\" >6</td>\n      <td  class=\"data row0 col2\" >16,524</td>\n      <td  class=\"data row0 col3\" >26,771</td>\n      <td  class=\"data row0 col4\" >12,055</td>\n      <td  class=\"data row0 col5\" >455</td>\n      <td  class=\"data row0 col6\" >1,370</td>\n      <td  class=\"data row0 col7\" >187</td>\n      <td  class=\"data row0 col8\" >60.1%</td>\n      <td  class=\"data row0 col9\" >58.1%</td>\n      <td  class=\"data row0 col10\" >53.9%</td>\n      <td  class=\"data row0 col11\" >2.75%</td>\n      <td  class=\"data row0 col12\" >5.12%</td>\n      <td  class=\"data row0 col13\" >1.55%</td>\n    </tr>\n    <tr>\n      <td  class=\"data row1 col0\" >02. Female</td>\n      <td  class=\"data row1 col1\" >25</td>\n      <td  class=\"data row1 col2\" >10,979</td>\n      <td  class=\"data row1 col3\" >19,269</td>\n      <td  class=\"data row1 col4\" >10,315</td>\n      <td  class=\"data row1 col5\" >151</td>\n      <td  class=\"data row1 col6\" >480</td>\n      <td  class=\"data row1 col7\" >79</td>\n      <td  class=\"data row1 col8\" >39.9%</td>\n      <td  class=\"data row1 col9\" >41.9%</td>\n      <td  class=\"data row1 col10\" >46.1%</td>\n      <td  class=\"data row1 col11\" >1.38%</td>\n      <td  class=\"data row1 col12\" >2.49%</td>\n      <td  class=\"data row1 col13\" >0.77%</td>\n    </tr>\n    <tr>\n      <td  class=\"data row2 col0\" >Total</td>\n      <td  class=\"data row2 col1\" ></td>\n      <td  class=\"data row2 col2\" >27,503</td>\n      <td  class=\"data row2 col3\" >46,040</td>\n      <td  class=\"data row2 col4\" >22,370</td>\n      <td  class=\"data row2 col5\" >606</td>\n      <td  class=\"data row2 col6\" >1,850</td>\n      <td  class=\"data row2 col7\" >266</td>\n      <td  class=\"data row2 col8\" >100.0%</td>\n      <td  class=\"data row2 col9\" >100.0%</td>\n      <td  class=\"data row2 col10\" >100.0%</td>\n      <td  class=\"data row2 col11\" >2.20%</td>\n      <td  class=\"data row2 col12\" >4.02%</td>\n      <td  class=\"data row2 col13\" >1.19%</td>\n    </tr>\n  </tbody>\n</table>\n",
     "multiFactorARs[2].get('factorDist')": "<style type=\"text/css\">\n</style>\n<table id=\"T__\" class=\"ctable text-center  \">\n  <caption>Education Level Factor - Distribution & Bad Rate</caption>\n  <thead>\n    <tr>\n      <th class=\"col_heading level0 col0\" colspan=\"2\"></th>\n      <th class=\"col_heading level0 col2\" colspan=\"3\">Count</th>\n      <th class=\"col_heading level0 col5\" colspan=\"3\">Default</th>\n      <th class=\"col_heading level0 col8\" colspan=\"3\">Distribution</th>\n      <th class=\"col_heading level0 col11\" colspan=\"3\">Default Rate</th>\n    </tr>\n    <tr>\n      <th class=\"col_heading level1 col0\" colspan=\"2\"></th>\n      <th class=\"col_heading level1 col2\" >Dev</th>\n      <th class=\"col_heading level1 col3\" colspan=\"2\">Review</th>\n      <th class=\"col_heading level1 col5\" >Dev</th>\n      <th class=\"col_heading level1 col6\" colspan=\"2\">Review</th>\n      <th class=\"col_heading level1 col8\" >Dev</th>\n      <th class=\"col_heading level1 col9\" colspan=\"2\">Review</th>\n      <th class=\"col_heading level1 col11\" >Dev</th>\n      <th class=\"col_heading level1 col12\" colspan=\"2\">Review</th>\n    </tr>\n    <tr>\n      <th class=\"col_heading level2 col0\" >Bucket</th>\n      <th class=\"col_heading level2 col1\" >Score</th>\n      <th class=\"col_heading level2 col2\" >Baseline</th>\n      <th class=\"col_heading level2 col3\" >2018</th>\n      <th class=\"col_heading level2 col4\" >2019</th>\n      <th class=\"col_heading level2 col5\" >Baseline</th>\n      <th class=\"col_heading level2 col6\" >2018</th>\n      <th class=\"col_heading level2 col7\" >2019</th>\n      <th class=\"col_heading level2 col8\" >Baseline</th>\n      <th class=\"col_heading level2 col9\" >2018</th>\n      <th class=\"col_heading level2 col10\" >2019</th>\n      <th class=\"col_heading level2 col11\" >Baseline</th>\n      <th class=\"col_heading level2 col12\" >2018</th>\n      <th class=\"col_heading level2 col13\" >2019</th>\n    </tr>\n  </thead>\n  <tbody>\n    <tr>\n      <td  class=\"data row0 col0\" >01. Degree & Above</td>\n      <td  class=\"data row0 col1\" >38</td>\n      <td  class=\"data row0 col2\" >10,961</td>\n      <td  class=\"data row0 col3\" >21,403</td>\n      <td  class=\"data row0 col4\" >10,310</td>\n      <td  class=\"data row0 col5\" >149</td>\n      <td  class=\"data row0 col6\" >388</td>\n      <td  class=\"data row0 col7\" >58</td>\n      <td  class=\"data row0 col8\" >39.9%</td>\n      <td  class=\"data row0 col9\" >46.5%</td>\n      <td  class=\"data row0 col10\" >46.1%</td>\n      <td  class=\"data row0 col11\" >1.36%</td>\n      <td  class=\"data row0 col12\" >1.81%</td>\n      <td  class=\"data row0 col13\" >0.56%</td>\n    </tr>\n    <tr>\n      <td  class=\"data row1 col0\" >02. Pre-Uni</td>\n      <td  class=\"data row1 col1\" >36</td>\n      <td  class=\"data row1 col2\" >1,605</td>\n      <td  class=\"data row1 col3\" >1,575</td>\n      <td  class=\"data row1 col4\" >684</td>\n      <td  class=\"data row1 col5\" >24</td>\n      <td  class=\"data row1 col6\" >66</td>\n      <td  class=\"data row1 col7\" >14</td>\n      <td  class=\"data row1 col8\" >5.8%</td>\n      <td  class=\"data row1 col9\" >3.4%</td>\n      <td  class=\"data row1 col10\" >3.1%</td>\n      <td  class=\"data row1 col11\" >1.50%</td>\n      <td  class=\"data row1 col12\" >4.19%</td>\n      <td  class=\"data row1 col13\" >2.05%</td>\n    </tr>\n    <tr>\n      <td  class=\"data row2 col0\" >03. Diploma & Cert</td>\n      <td  class=\"data row2 col1\" >29</td>\n      <td  class=\"data row2 col2\" >7,727</td>\n      <td  class=\"data row2 col3\" >13,477</td>\n      <td  class=\"data row2 col4\" >6,530</td>\n      <td  class=\"data row2 col5\" >161</td>\n      <td  class=\"data row2 col6\" >712</td>\n      <td  class=\"data row2 col7\" >106</td>\n      <td  class=\"data row2 col8\" >28.1%</td>\n      <td  class=\"data row2 col9\" >29.3%</td>\n      <td  class=\"data row2 col10\" >29.2%</td>\n      <td  class=\"data row2 col11\" >2.08%</td>\n      <td  class=\"data row2 col12\" >5.28%</td>\n      <td  class=\"data row2 col13\" >1.62%</td>\n    </tr>\n    <tr>\n      <td  class=\"data row3 col0\" >04. Others</td>\n      <td  class=\"data row3 col1\" >7</td>\n      <td  class=\"data row3 col2\" >7,210</td>\n      <td  class=\"data row3 col3\" >9,585</td>\n      <td  class=\"data row3 col4\" >4,846</td>\n      <td  class=\"data row3 col5\" >272</td>\n      <td  class=\"data row3 col6\" >684</td>\n      <td  class=\"data row3 col7\" >88</td>\n      <td  class=\"data row3 col8\" >26.2%</td>\n      <td  class=\"data row3 col9\" >20.8%</td>\n      <td  class=\"data row3 col10\" >21.7%</td>\n      <td  class=\"data row3 col11\" >3.77%</td>\n      <td  class=\"data row3 col12\" >7.14%</td>\n      <td  class=\"data row3 col13\" >1.82%</td>\n    </tr>\n    <tr>\n      <td  class=\"data row4 col0\" >Total</td>\n      <td  class=\"data row4 col1\" ></td>\n      <td  class=\"data row4 col2\" >27,503</td>\n      <td  class=\"data row4 col3\" >46,040</td>\n      <td  class=\"data row4 col4\" >22,370</td>\n      <td  class=\"data row4 col5\" >606</td>\n      <td  class=\"data row4 col6\" >1,850</td>\n      <td  class=\"data row4 col7\" >266</td>\n      <td  class=\"data row4 col8\" >100.0%</td>\n      <td  class=\"data row4 col9\" >100.0%</td>\n      <td  class=\"data row4 col10\" >100.0%</td>\n      <td  class=\"data row4 col11\" >2.20%</td>\n      <td  class=\"data row4 col12\" >4.02%</td>\n      <td  class=\"data row4 col13\" >1.19%</td>\n    </tr>\n  </tbody>\n</table>\n",
     "multiFactorARs[3].get('factorDist')": "<style type=\"text/css\">\n</style>\n<table id=\"T__\" class=\"ctable text-center  \">\n  <caption>Residential Status Factor - Distribution & Bad Rate</caption>\n  <thead>\n    <tr>\n      <th class=\"col_heading level0 col0\" colspan=\"2\"></th>\n      <th class=\"col_heading level0 col2\" colspan=\"3\">Count</th>\n      <th class=\"col_heading level0 col5\" colspan=\"3\">Default</th>\n      <th class=\"col_heading level0 col8\" colspan=\"3\">Distribution</th>\n      <th class=\"col_heading level0 col11\" colspan=\"3\">Default Rate</th>\n    </tr>\n    <tr>\n      <th class=\"col_heading level1 col0\" colspan=\"2\"></th>\n      <th class=\"col_heading level1 col2\" >Dev</th>\n      <th class=\"col_heading level1 col3\" colspan=\"2\">Review</th>\n      <th class=\"col_heading level1 col5\" >Dev</th>\n      <th class=\"col_heading level1 col6\" colspan=\"2\">Review</th>\n      <th class=\"col_heading level1 col8\" >Dev</th>\n      <th class=\"col_heading level1 col9\" colspan=\"2\">Review</th>\n      <th class=\"col_heading level1 col11\" >Dev</th>\n      <th class=\"col_heading level1 col12\" colspan=\"2\">Review</th>\n    </tr>\n    <tr>\n      <th class=\"col_heading level2 col0\" >Bucket</th>\n      <th class=\"col_heading level2 col1\" >Score</th>\n      <th class=\"col_heading level2 col2\" >Baseline</th>\n      <th class=\"col_heading level2 col3\" >2018</th>\n      <th class=\"col_heading level2 col4\" >2019</th>\n      <th class=\"col_heading level2 col5\" >Baseline</th>\n      <th class=\"col_heading level2 col6\" >2018</th>\n      <th class=\"col_heading level2 col7\" >2019</th>\n      <th class=\"col_heading level2 col8\" >Baseline</th>\n      <th class=\"col_heading level2 col9\" >2018</th>\n      <th class=\"col_heading level2 col10\" >2019</th>\n      <th class=\"col_heading level2 col11\" >Baseline</th>\n      <th class=\"col_heading level2 col12\" >2018</th>\n      <th class=\"col_heading level2 col13\" >2019</th>\n    </tr>\n  </thead>\n  <tbody>\n    <tr>\n      <td  class=\"data row0 col0\" >01. Own</td>\n      <td  class=\"data row0 col1\" >32</td>\n      <td  class=\"data row0 col2\" >7,056</td>\n      <td  class=\"data row0 col3\" >19,476</td>\n      <td  class=\"data row0 col4\" >7,672</td>\n      <td  class=\"data row0 col5\" >107</td>\n      <td  class=\"data row0 col6\" >626</td>\n      <td  class=\"data row0 col7\" >58</td>\n      <td  class=\"data row0 col8\" >25.7%</td>\n      <td  class=\"data row0 col9\" >42.3%</td>\n      <td  class=\"data row0 col10\" >34.3%</td>\n      <td  class=\"data row0 col11\" >1.52%</td>\n      <td  class=\"data row0 col12\" >3.21%</td>\n      <td  class=\"data row0 col13\" >0.76%</td>\n    </tr>\n    <tr>\n      <td  class=\"data row1 col0\" >02. Mortgage</td>\n      <td  class=\"data row1 col1\" >27</td>\n      <td  class=\"data row1 col2\" >13,756</td>\n      <td  class=\"data row1 col3\" >9,243</td>\n      <td  class=\"data row1 col4\" >5,009</td>\n      <td  class=\"data row1 col5\" >301</td>\n      <td  class=\"data row1 col6\" >273</td>\n      <td  class=\"data row1 col7\" >40</td>\n      <td  class=\"data row1 col8\" >50.0%</td>\n      <td  class=\"data row1 col9\" >20.1%</td>\n      <td  class=\"data row1 col10\" >22.4%</td>\n      <td  class=\"data row1 col11\" >2.19%</td>\n      <td  class=\"data row1 col12\" >2.95%</td>\n      <td  class=\"data row1 col13\" >0.80%</td>\n    </tr>\n    <tr>\n      <td  class=\"data row2 col0\" >03. Parent</td>\n      <td  class=\"data row2 col1\" >21</td>\n      <td  class=\"data row2 col2\" >4,885</td>\n      <td  class=\"data row2 col3\" >10,567</td>\n      <td  class=\"data row2 col4\" >5,403</td>\n      <td  class=\"data row2 col5\" >125</td>\n      <td  class=\"data row2 col6\" >554</td>\n      <td  class=\"data row2 col7\" >77</td>\n      <td  class=\"data row2 col8\" >17.8%</td>\n      <td  class=\"data row2 col9\" >23.0%</td>\n      <td  class=\"data row2 col10\" >24.2%</td>\n      <td  class=\"data row2 col11\" >2.56%</td>\n      <td  class=\"data row2 col12\" >5.24%</td>\n      <td  class=\"data row2 col13\" >1.43%</td>\n    </tr>\n    <tr>\n      <td  class=\"data row3 col0\" >04. Others</td>\n      <td  class=\"data row3 col1\" >13</td>\n      <td  class=\"data row3 col2\" >1,806</td>\n      <td  class=\"data row3 col3\" >6,754</td>\n      <td  class=\"data row3 col4\" >4,286</td>\n      <td  class=\"data row3 col5\" >73</td>\n      <td  class=\"data row3 col6\" >397</td>\n      <td  class=\"data row3 col7\" >91</td>\n      <td  class=\"data row3 col8\" >6.6%</td>\n      <td  class=\"data row3 col9\" >14.7%</td>\n      <td  class=\"data row3 col10\" >19.2%</td>\n      <td  class=\"data row3 col11\" >4.04%</td>\n      <td  class=\"data row3 col12\" >5.88%</td>\n      <td  class=\"data row3 col13\" >2.12%</td>\n    </tr>\n    <tr>\n      <td  class=\"data row4 col0\" >Total</td>\n      <td  class=\"data row4 col1\" ></td>\n      <td  class=\"data row4 col2\" >27,503</td>\n      <td  class=\"data row4 col3\" >46,040</td>\n      <td  class=\"data row4 col4\" >22,370</td>\n      <td  class=\"data row4 col5\" >606</td>\n      <td  class=\"data row4 col6\" >1,850</td>\n      <td  class=\"data row4 col7\" >266</td>\n      <td  class=\"data row4 col8\" >100.0%</td>\n      <td  class=\"data row4 col9\" >100.0%</td>\n      <td  class=\"data row4 col10\" >100.0%</td>\n      <td  class=\"data row4 col11\" >2.20%</td>\n      <td  class=\"data row4 col12\" >4.02%</td>\n      <td  class=\"data row4 col13\" >1.19%</td>\n    </tr>\n  </tbody>\n</table>\n",
     "multiFactorARs[4].get('factorDist')": "<style type=\"text/css\">\n</style>\n<table id=\"T__\" class=\"ctable text-center  \">\n  <caption>Years of Service Factor - Distribution & Bad Rate</caption>\n  <thead>\n    <tr>\n      <th class=\"col_heading level0 col0\" colspan=\"2\"></th>\n      <th class=\"col_heading level0 col2\" colspan=\"3\">Count</th>\n      <th class=\"col_heading level0 col5\" colspan=\"3\">Default</th>\n      <th class=\"col_heading level0 col8\" colspan=\"3\">Distribution</th>\n      <th class=\"col_heading level0 col11\" colspan=\"3\">Default Rate</th>\n    </tr>\n    <tr>\n      <th class=\"col_heading level1 col0\" colspan=\"2\"></th>\n      <th class=\"col_heading level1 col2\" >Dev</th>\n      <th class=\"col_heading level1 col3\" colspan=\"2\">Review</th>\n      <th class=\"col_heading level1 col5\" >Dev</th>\n      <th class=\"col_heading level1 col6\" colspan=\"2\">Review</th>\n      <th class=\"col_heading level1 col8\" >Dev</th>\n      <th class=\"col_heading level1 col9\" colspan=\"2\">Review</th>\n      <th class=\"col_heading level1 col11\" >Dev</th>\n      <th class=\"col_heading level1 col12\" colspan=\"2\">Review</th>\n    </tr>\n    <tr>\n      <th class=\"col_heading level2 col0\" >Bucket</th>\n      <th class=\"col_heading level2 col1\" >Score</th>\n      <th class=\"col_heading level2 col2\" >Baseline</th>\n      <th class=\"col_heading level2 col3\" >2018</th>\n      <th class=\"col_heading level2 col4\" >2019</th>\n      <th class=\"col_heading level2 col5\" >Baseline</th>\n      <th class=\"col_heading level2 col6\" >2018</th>\n      <th class=\"col_heading level2 col7\" >2019</th>\n      <th class=\"col_heading level2 col8\" >Baseline</th>\n      <th class=\"col_heading level2 col9\" >2018</th>\n      <th class=\"col_heading level2 col10\" >2019</th>\n      <th class=\"col_heading level2 col11\" >Baseline</th>\n      <th class=\"col_heading level2 col12\" >2018</th>\n      <th class=\"col_heading level2 col13\" >2019</th>\n    </tr>\n  </thead>\n  <tbody>\n    <tr>\n      <td  class=\"data row0 col0\" >01. 1 year</td>\n      <td  class=\"data row0 col1\" >21</td>\n      <td  class=\"data row0 col2\" >3,440</td>\n      <td  class=\"data row0 col3\" >10,674</td>\n      <td  class=\"data row0 col4\" >4,313</td>\n      <td  class=\"data row0 col5\" >94</td>\n      <td  class=\"data row0 col6\" >470</td>\n      <td  class=\"data row0 col7\" >52</td>\n      <td  class=\"data row0 col8\" >12.5%</td>\n      <td  class=\"data row0 col9\" >23.5%</td>\n      <td  class=\"data row0 col10\" >19.6%</td>\n      <td  class=\"data row0 col11\" >2.73%</td>\n      <td  class=\"data row0 col12\" >4.40%</td>\n      <td  class=\"data row0 col13\" >1.21%</td>\n    </tr>\n    <tr>\n      <td  class=\"data row1 col0\" >02. 2-6 years</td>\n      <td  class=\"data row1 col1\" >18</td>\n      <td  class=\"data row1 col2\" >11,661</td>\n      <td  class=\"data row1 col3\" >18,870</td>\n      <td  class=\"data row1 col4\" >9,707</td>\n      <td  class=\"data row1 col5\" >328</td>\n      <td  class=\"data row1 col6\" >870</td>\n      <td  class=\"data row1 col7\" >131</td>\n      <td  class=\"data row1 col8\" >42.4%</td>\n      <td  class=\"data row1 col9\" >41.6%</td>\n      <td  class=\"data row1 col10\" >44.2%</td>\n      <td  class=\"data row1 col11\" >2.81%</td>\n      <td  class=\"data row1 col12\" >4.61%</td>\n      <td  class=\"data row1 col13\" >1.35%</td>\n    </tr>\n    <tr>\n      <td  class=\"data row2 col0\" >03. 7-9 years</td>\n      <td  class=\"data row2 col1\" >28</td>\n      <td  class=\"data row2 col2\" >3,367</td>\n      <td  class=\"data row2 col3\" >5,145</td>\n      <td  class=\"data row2 col4\" >2,462</td>\n      <td  class=\"data row2 col5\" >72</td>\n      <td  class=\"data row2 col6\" >192</td>\n      <td  class=\"data row2 col7\" >24</td>\n      <td  class=\"data row2 col8\" >12.2%</td>\n      <td  class=\"data row2 col9\" >11.3%</td>\n      <td  class=\"data row2 col10\" >11.2%</td>\n      <td  class=\"data row2 col11\" >2.14%</td>\n      <td  class=\"data row2 col12\" >3.73%</td>\n      <td  class=\"data row2 col13\" >0.97%</td>\n    </tr>\n    <tr>\n      <td  class=\"data row3 col0\" >04. Above 9 years</td>\n      <td  class=\"data row3 col1\" >40</td>\n      <td  class=\"data row3 col2\" >9,035</td>\n      <td  class=\"data row3 col3\" >10,710</td>\n      <td  class=\"data row3 col4\" >5,503</td>\n      <td  class=\"data row3 col5\" >112</td>\n      <td  class=\"data row3 col6\" >303</td>\n      <td  class=\"data row3 col7\" >59</td>\n      <td  class=\"data row3 col8\" >32.9%</td>\n      <td  class=\"data row3 col9\" >23.6%</td>\n      <td  class=\"data row3 col10\" >25.0%</td>\n      <td  class=\"data row3 col11\" >1.24%</td>\n      <td  class=\"data row3 col12\" >2.83%</td>\n      <td  class=\"data row3 col13\" >1.07%</td>\n    </tr>\n    <tr>\n      <td  class=\"data row4 col0\" >Total</td>\n      <td  class=\"data row4 col1\" ></td>\n      <td  class=\"data row4 col2\" >27,503</td>\n      <td  class=\"data row4 col3\" >45,399</td>\n      <td  class=\"data row4 col4\" >21,985</td>\n      <td  class=\"data row4 col5\" >606</td>\n      <td  class=\"data row4 col6\" >1,835</td>\n      <td  class=\"data row4 col7\" >266</td>\n      <td  class=\"data row4 col8\" >100.0%</td>\n      <td  class=\"data row4 col9\" >100.0%</td>\n      <td  class=\"data row4 col10\" >100.0%</td>\n      <td  class=\"data row4 col11\" >2.20%</td>\n      <td  class=\"data row4 col12\" >4.04%</td>\n      <td  class=\"data row4 col13\" >1.21%</td>\n    </tr>\n  </tbody>\n</table>\n",
     "multiFactorARs[5].get('factorDist')": "<style type=\"text/css\">\n</style>\n<table id=\"T__\" class=\"ctable text-center  \">\n  <caption>Deposits L3M Factor - Distribution & Bad Rate</caption>\n  <thead>\n    <tr>\n      <th class=\"col_heading level0 col0\" colspan=\"2\"></th>\n      <th class=\"col_heading level0 col2\" colspan=\"3\">Count</th>\n      <th class=\"col_heading level0 col5\" colspan=\"3\">Default</th>\n      <th class=\"col_heading level0 col8\" colspan=\"3\">Distribution</th>\n      <th class=\"col_heading level0 col11\" colspan=\"3\">Default Rate</th>\n    </tr>\n    <tr>\n      <th class=\"col_heading level1 col0\" colspan=\"2\"></th>\n      <th class=\"col_heading level1 col2\" >Dev</th>\n      <th class=\"col_heading level1 col3\" colspan=\"2\">Review</th>\n      <th class=\"col_heading level1 col5\" >Dev</th>\n      <th class=\"col_heading level1 col6\" colspan=\"2\">Review</th>\n      <th class=\"col_heading level1 col8\" >Dev</th>\n      <th class=\"col_heading level1 col9\" colspan=\"2\">Review</th>\n      <th class=\"col_heading level1 col11\" >Dev</th>\n      <th class=\"col_heading level1 col12\" colspan=\"2\">Review</th>\n    </tr>\n    <tr>\n      <th class=\"col_heading level2 col0\" >Bucket</th>\n      <th class=\"col_heading level2 col1\" >Score</th>\n      <th class=\"col_heading level2 col2\" >Baseline</th>\n      <th class=\"col_heading level2 col3\" >2018</th>\n      <th class=\"col_heading level2 col4\" >2019</th>\n      <th class=\"col_heading level2 col5\" >Baseline</th>\n      <th class=\"col_heading level2 col6\" >2018</th>\n      <th class=\"col_heading level2 col7\" >2019</th>\n      <th class=\"col_heading level2 col8\" >Baseline</th>\n      <th class=\"col_heading level2 col9\" >2018</th>\n      <th class=\"col_heading level2 col10\" >2019</th>\n      <th class=\"col_heading level2 col11\" >Baseline</th>\n      <th class=\"col_heading level2 col12\" >2018</th>\n      <th class=\"col_heading level2 col13\" >2019</th>\n    </tr>\n  </thead>\n  <tbody>\n    <tr>\n      <td  class=\"data row0 col0\" >01. No deposits</td>\n      <td  class=\"data row0 col1\" >26</td>\n      <td  class=\"data row0 col2\" >14,925</td>\n      <td  class=\"data row0 col3\" >27,504</td>\n      <td  class=\"data row0 col4\" >12,467</td>\n      <td  class=\"data row0 col5\" >373</td>\n      <td  class=\"data row0 col6\" >1,531</td>\n      <td  class=\"data row0 col7\" >219</td>\n      <td  class=\"data row0 col8\" >54.3%</td>\n      <td  class=\"data row0 col9\" >59.7%</td>\n      <td  class=\"data row0 col10\" >55.7%</td>\n      <td  class=\"data row0 col11\" >2.50%</td>\n      <td  class=\"data row0 col12\" >5.57%</td>\n      <td  class=\"data row0 col13\" >1.76%</td>\n    </tr>\n    <tr>\n      <td  class=\"data row1 col0\" >02. < $500</td>\n      <td  class=\"data row1 col1\" >1</td>\n      <td  class=\"data row1 col2\" >2,318</td>\n      <td  class=\"data row1 col3\" >2,309</td>\n      <td  class=\"data row1 col4\" >1,114</td>\n      <td  class=\"data row1 col5\" >148</td>\n      <td  class=\"data row1 col6\" >101</td>\n      <td  class=\"data row1 col7\" >12</td>\n      <td  class=\"data row1 col8\" >8.4%</td>\n      <td  class=\"data row1 col9\" >5.0%</td>\n      <td  class=\"data row1 col10\" >5.0%</td>\n      <td  class=\"data row1 col11\" >6.38%</td>\n      <td  class=\"data row1 col12\" >4.37%</td>\n      <td  class=\"data row1 col13\" >1.08%</td>\n    </tr>\n    <tr>\n      <td  class=\"data row2 col0\" >03. [$500,$10k)</td>\n      <td  class=\"data row2 col1\" >34</td>\n      <td  class=\"data row2 col2\" >5,465</td>\n      <td  class=\"data row2 col3\" >9,798</td>\n      <td  class=\"data row2 col4\" >5,228</td>\n      <td  class=\"data row2 col5\" >68</td>\n      <td  class=\"data row2 col6\" >182</td>\n      <td  class=\"data row2 col7\" >34</td>\n      <td  class=\"data row2 col8\" >19.9%</td>\n      <td  class=\"data row2 col9\" >21.3%</td>\n      <td  class=\"data row2 col10\" >23.4%</td>\n      <td  class=\"data row2 col11\" >1.24%</td>\n      <td  class=\"data row2 col12\" >1.86%</td>\n      <td  class=\"data row2 col13\" >0.65%</td>\n    </tr>\n    <tr>\n      <td  class=\"data row3 col0\" >04. $10k & Above</td>\n      <td  class=\"data row3 col1\" >39</td>\n      <td  class=\"data row3 col2\" >4,795</td>\n      <td  class=\"data row3 col3\" >6,428</td>\n      <td  class=\"data row3 col4\" >3,558</td>\n      <td  class=\"data row3 col5\" >17</td>\n      <td  class=\"data row3 col6\" >36</td>\n      <td  class=\"data row3 col7\" >1</td>\n      <td  class=\"data row3 col8\" >17.4%</td>\n      <td  class=\"data row3 col9\" >14.0%</td>\n      <td  class=\"data row3 col10\" >15.9%</td>\n      <td  class=\"data row3 col11\" >0.35%</td>\n      <td  class=\"data row3 col12\" >0.56%</td>\n      <td  class=\"data row3 col13\" >0.03%</td>\n    </tr>\n    <tr>\n      <td  class=\"data row4 col0\" >Total</td>\n      <td  class=\"data row4 col1\" ></td>\n      <td  class=\"data row4 col2\" >27,503</td>\n      <td  class=\"data row4 col3\" >46,039</td>\n      <td  class=\"data row4 col4\" >22,367</td>\n      <td  class=\"data row4 col5\" >606</td>\n      <td  class=\"data row4 col6\" >1,850</td>\n      <td  class=\"data row4 col7\" >266</td>\n      <td  class=\"data row4 col8\" >100.0%</td>\n      <td  class=\"data row4 col9\" >100.0%</td>\n      <td  class=\"data row4 col10\" >100.0%</td>\n      <td  class=\"data row4 col11\" >2.20%</td>\n      <td  class=\"data row4 col12\" >4.02%</td>\n      <td  class=\"data row4 col13\" >1.19%</td>\n    </tr>\n  </tbody>\n</table>\n",
     "multiFactorARs[6].get('factorDist')": "<style type=\"text/css\">\n</style>\n<table id=\"T__\" class=\"ctable text-center  \">\n  <caption>MOB From Credit Bureau Factor - Distribution & Bad Rate</caption>\n  <thead>\n    <tr>\n      <th class=\"col_heading level0 col0\" colspan=\"2\"></th>\n      <th class=\"col_heading level0 col2\" colspan=\"3\">Count</th>\n      <th class=\"col_heading level0 col5\" colspan=\"3\">Default</th>\n      <th class=\"col_heading level0 col8\" colspan=\"3\">Distribution</th>\n      <th class=\"col_heading level0 col11\" colspan=\"3\">Default Rate</th>\n    </tr>\n    <tr>\n      <th class=\"col_heading level1 col0\" colspan=\"2\"></th>\n      <th class=\"col_heading level1 col2\" >Dev</th>\n      <th class=\"col_heading level1 col3\" colspan=\"2\">Review</th>\n      <th class=\"col_heading level1 col5\" >Dev</th>\n      <th class=\"col_heading level1 col6\" colspan=\"2\">Review</th>\n      <th class=\"col_heading level1 col8\" >Dev</th>\n      <th class=\"col_heading level1 col9\" colspan=\"2\">Review</th>\n      <th class=\"col_heading level1 col11\" >Dev</th>\n      <th class=\"col_heading level1 col12\" colspan=\"2\">Review</th>\n    </tr>\n    <tr>\n      <th class=\"col_heading level2 col0\" >Bucket</th>\n      <th class=\"col_heading level2 col1\" >Score</th>\n      <th class=\"col_heading level2 col2\" >Baseline</th>\n      <th class=\"col_heading level2 col3\" >2018</th>\n      <th class=\"col_heading level2 col4\" >2019</th>\n      <th class=\"col_heading level2 col5\" >Baseline</th>\n      <th class=\"col_heading level2 col6\" >2018</th>\n      <th class=\"col_heading level2 col7\" >2019</th>\n      <th class=\"col_heading level2 col8\" >Baseline</th>\n      <th class=\"col_heading level2 col9\" >2018</th>\n      <th class=\"col_heading level2 col10\" >2019</th>\n      <th class=\"col_heading level2 col11\" >Baseline</th>\n      <th class=\"col_heading level2 col12\" >2018</th>\n      <th class=\"col_heading level2 col13\" >2019</th>\n    </tr>\n  </thead>\n  <tbody>\n    <tr>\n      <td  class=\"data row0 col0\" >01. <= 1 year</td>\n      <td  class=\"data row0 col1\" >10</td>\n      <td  class=\"data row0 col2\" >4,063</td>\n      <td  class=\"data row0 col3\" >10,668</td>\n      <td  class=\"data row0 col4\" >3,849</td>\n      <td  class=\"data row0 col5\" >189</td>\n      <td  class=\"data row0 col6\" >882</td>\n      <td  class=\"data row0 col7\" >97</td>\n      <td  class=\"data row0 col8\" >14.8%</td>\n      <td  class=\"data row0 col9\" >23.2%</td>\n      <td  class=\"data row0 col10\" >17.2%</td>\n      <td  class=\"data row0 col11\" >4.65%</td>\n      <td  class=\"data row0 col12\" >8.27%</td>\n      <td  class=\"data row0 col13\" >2.52%</td>\n    </tr>\n    <tr>\n      <td  class=\"data row1 col0\" >02. 2-3 years</td>\n      <td  class=\"data row1 col1\" >25</td>\n      <td  class=\"data row1 col2\" >7,973</td>\n      <td  class=\"data row1 col3\" >10,985</td>\n      <td  class=\"data row1 col4\" >6,455</td>\n      <td  class=\"data row1 col5\" >203</td>\n      <td  class=\"data row1 col6\" >497</td>\n      <td  class=\"data row1 col7\" >97</td>\n      <td  class=\"data row1 col8\" >29.0%</td>\n      <td  class=\"data row1 col9\" >23.9%</td>\n      <td  class=\"data row1 col10\" >28.9%</td>\n      <td  class=\"data row1 col11\" >2.55%</td>\n      <td  class=\"data row1 col12\" >4.52%</td>\n      <td  class=\"data row1 col13\" >1.50%</td>\n    </tr>\n    <tr>\n      <td  class=\"data row2 col0\" >03. 4-9 years</td>\n      <td  class=\"data row2 col1\" >30</td>\n      <td  class=\"data row2 col2\" >10,220</td>\n      <td  class=\"data row2 col3\" >16,914</td>\n      <td  class=\"data row2 col4\" >8,492</td>\n      <td  class=\"data row2 col5\" >169</td>\n      <td  class=\"data row2 col6\" >369</td>\n      <td  class=\"data row2 col7\" >51</td>\n      <td  class=\"data row2 col8\" >37.2%</td>\n      <td  class=\"data row2 col9\" >36.7%</td>\n      <td  class=\"data row2 col10\" >38.0%</td>\n      <td  class=\"data row2 col11\" >1.65%</td>\n      <td  class=\"data row2 col12\" >2.18%</td>\n      <td  class=\"data row2 col13\" >0.60%</td>\n    </tr>\n    <tr>\n      <td  class=\"data row3 col0\" >04. >= 10 years</td>\n      <td  class=\"data row3 col1\" >36</td>\n      <td  class=\"data row3 col2\" >5,247</td>\n      <td  class=\"data row3 col3\" >7,473</td>\n      <td  class=\"data row3 col4\" >3,574</td>\n      <td  class=\"data row3 col5\" >45</td>\n      <td  class=\"data row3 col6\" >102</td>\n      <td  class=\"data row3 col7\" >21</td>\n      <td  class=\"data row3 col8\" >19.1%</td>\n      <td  class=\"data row3 col9\" >16.2%</td>\n      <td  class=\"data row3 col10\" >16.0%</td>\n      <td  class=\"data row3 col11\" >0.86%</td>\n      <td  class=\"data row3 col12\" >1.36%</td>\n      <td  class=\"data row3 col13\" >0.59%</td>\n    </tr>\n    <tr>\n      <td  class=\"data row4 col0\" >Total</td>\n      <td  class=\"data row4 col1\" ></td>\n      <td  class=\"data row4 col2\" >27,503</td>\n      <td  class=\"data row4 col3\" >46,040</td>\n      <td  class=\"data row4 col4\" >22,370</td>\n      <td  class=\"data row4 col5\" >606</td>\n      <td  class=\"data row4 col6\" >1,850</td>\n      <td  class=\"data row4 col7\" >266</td>\n      <td  class=\"data row4 col8\" >100.0%</td>\n      <td  class=\"data row4 col9\" >100.0%</td>\n      <td  class=\"data row4 col10\" >100.0%</td>\n      <td  class=\"data row4 col11\" >2.20%</td>\n      <td  class=\"data row4 col12\" >4.02%</td>\n      <td  class=\"data row4 col13\" >1.19%</td>\n    </tr>\n  </tbody>\n</table>\n",
     "multiFactorARs[7].get('factorDist')": "<style type=\"text/css\">\n</style>\n<table id=\"T__\" class=\"ctable text-center  \">\n  <caption>Number of New Application\"s Enquiries in CB in L6M Factor - Distribution & Bad Rate</caption>\n  <thead>\n    <tr>\n      <th class=\"col_heading level0 col0\" colspan=\"2\"></th>\n      <th class=\"col_heading level0 col2\" colspan=\"3\">Count</th>\n      <th class=\"col_heading level0 col5\" colspan=\"3\">Default</th>\n      <th class=\"col_heading level0 col8\" colspan=\"3\">Distribution</th>\n      <th class=\"col_heading level0 col11\" colspan=\"3\">Default Rate</th>\n    </tr>\n    <tr>\n      <th class=\"col_heading level1 col0\" colspan=\"2\"></th>\n      <th class=\"col_heading level1 col2\" >Dev</th>\n      <th class=\"col_heading level1 col3\" colspan=\"2\">Review</th>\n      <th class=\"col_heading level1 col5\" >Dev</th>\n      <th class=\"col_heading level1 col6\" colspan=\"2\">Review</th>\n      <th class=\"col_heading level1 col8\" >Dev</th>\n      <th class=\"col_heading level1 col9\" colspan=\"2\">Review</th>\n      <th class=\"col_heading level1 col11\" >Dev</th>\n      <th class=\"col_heading level1 col12\" colspan=\"2\">Review</th>\n    </tr>\n    <tr>\n      <th class=\"col_heading level2 col0\" >Bucket</th>\n      <th class=\"col_heading level2 col1\" >Score</th>\n      <th class=\"col_heading level2 col2\" >Baseline</th>\n      <th class=\"col_heading level2 col3\" >2018</th>\n      <th class=\"col_heading level2 col4\" >2019</th>\n      <th class=\"col_heading level2 col5\" >Baseline</th>\n      <th class=\"col_heading level2 col6\" >2018</th>\n      <th class=\"col_heading level2 col7\" >2019</th>\n      <th class=\"col_heading level2 col8\" >Baseline</th>\n      <th class=\"col_heading level2 col9\" >2018</th>\n      <th class=\"col_heading level2 col10\" >2019</th>\n      <th class=\"col_heading level2 col11\" >Baseline</th>\n      <th class=\"col_heading level2 col12\" >2018</th>\n      <th class=\"col_heading level2 col13\" >2019</th>\n    </tr>\n  </thead>\n  <tbody>\n    <tr>\n      <td  class=\"data row0 col0\" >05. No CB</td>\n      <td  class=\"data row0 col1\" >42</td>\n      <td  class=\"data row0 col2\" >5,256</td>\n      <td  class=\"data row0 col3\" >679</td>\n      <td  class=\"data row0 col4\" >482</td>\n      <td  class=\"data row0 col5\" >38</td>\n      <td  class=\"data row0 col6\" >8</td>\n      <td  class=\"data row0 col7\" >5</td>\n      <td  class=\"data row0 col8\" >19.1%</td>\n      <td  class=\"data row0 col9\" >1.5%</td>\n      <td  class=\"data row0 col10\" >2.2%</td>\n      <td  class=\"data row0 col11\" >0.72%</td>\n      <td  class=\"data row0 col12\" >1.18%</td>\n      <td  class=\"data row0 col13\" >1.04%</td>\n    </tr>\n    <tr>\n      <td  class=\"data row1 col0\" >01. No enquiry</td>\n      <td  class=\"data row1 col1\" >41</td>\n      <td  class=\"data row1 col2\" >7,828</td>\n      <td  class=\"data row1 col3\" >15,397</td>\n      <td  class=\"data row1 col4\" >9,740</td>\n      <td  class=\"data row1 col5\" >92</td>\n      <td  class=\"data row1 col6\" >223</td>\n      <td  class=\"data row1 col7\" >58</td>\n      <td  class=\"data row1 col8\" >28.5%</td>\n      <td  class=\"data row1 col9\" >33.4%</td>\n      <td  class=\"data row1 col10\" >43.5%</td>\n      <td  class=\"data row1 col11\" >1.18%</td>\n      <td  class=\"data row1 col12\" >1.45%</td>\n      <td  class=\"data row1 col13\" >0.60%</td>\n    </tr>\n    <tr>\n      <td  class=\"data row2 col0\" >02. 1-2</td>\n      <td  class=\"data row2 col1\" >37</td>\n      <td  class=\"data row2 col2\" >10,748</td>\n      <td  class=\"data row2 col3\" >18,932</td>\n      <td  class=\"data row2 col4\" >9,146</td>\n      <td  class=\"data row2 col5\" >234</td>\n      <td  class=\"data row2 col6\" >621</td>\n      <td  class=\"data row2 col7\" >125</td>\n      <td  class=\"data row2 col8\" >39.1%</td>\n      <td  class=\"data row2 col9\" >41.1%</td>\n      <td  class=\"data row2 col10\" >40.9%</td>\n      <td  class=\"data row2 col11\" >2.18%</td>\n      <td  class=\"data row2 col12\" >3.28%</td>\n      <td  class=\"data row2 col13\" >1.37%</td>\n    </tr>\n    <tr>\n      <td  class=\"data row3 col0\" >03. 3-4</td>\n      <td  class=\"data row3 col1\" >28</td>\n      <td  class=\"data row3 col2\" >2,564</td>\n      <td  class=\"data row3 col3\" >7,077</td>\n      <td  class=\"data row3 col4\" >2,936</td>\n      <td  class=\"data row3 col5\" >119</td>\n      <td  class=\"data row3 col6\" >460</td>\n      <td  class=\"data row3 col7\" >78</td>\n      <td  class=\"data row3 col8\" >9.3%</td>\n      <td  class=\"data row3 col9\" >15.4%</td>\n      <td  class=\"data row3 col10\" >13.1%</td>\n      <td  class=\"data row3 col11\" >4.64%</td>\n      <td  class=\"data row3 col12\" >6.50%</td>\n      <td  class=\"data row3 col13\" >2.66%</td>\n    </tr>\n    <tr>\n      <td  class=\"data row4 col0\" >04. >= 5</td>\n      <td  class=\"data row4 col1\" >1</td>\n      <td  class=\"data row4 col2\" >1,107</td>\n      <td  class=\"data row4 col3\" >3,955</td>\n      <td  class=\"data row4 col4\" >66</td>\n      <td  class=\"data row4 col5\" >123</td>\n      <td  class=\"data row4 col6\" >538</td>\n      <td  class=\"data row4 col7\" >0</td>\n      <td  class=\"data row4 col8\" >4.0%</td>\n      <td  class=\"data row4 col9\" >8.6%</td>\n      <td  class=\"data row4 col10\" >0.3%</td>\n      <td  class=\"data row4 col11\" >11.11%</td>\n      <td  class=\"data row4 col12\" >13.60%</td>\n      <td  class=\"data row4 col13\" >0.00%</td>\n    </tr>\n    <tr>\n      <td  class=\"data row5 col0\" >Total</td>\n      <td  class=\"data row5 col1\" ></td>\n      <td  class=\"data row5 col2\" >27,503</td>\n      <td  class=\"data row5 col3\" >46,040</td>\n      <td  class=\"data row5 col4\" >22,370</td>\n      <td  class=\"data row5 col5\" >606</td>\n      <td  class=\"data row5 col6\" >1,850</td>\n      <td  class=\"data row5 col7\" >266</td>\n      <td  class=\"data row5 col8\" >100.0%</td>\n      <td  class=\"data row5 col9\" >100.0%</td>\n      <td  class=\"data row5 col10\" >100.0%</td>\n      <td  class=\"data row5 col11\" >2.20%</td>\n      <td  class=\"data row5 col12\" >4.02%</td>\n      <td  class=\"data row5 col13\" >1.19%</td>\n    </tr>\n  </tbody>\n</table>\n",
     "multiFactorARs[8].get('factorDist')": "<style type=\"text/css\">\n</style>\n<table id=\"T__\" class=\"ctable text-center  \">\n  <caption>Ever 30+dpd in CB in L12M Factor - Distribution & Bad Rate</caption>\n  <thead>\n    <tr>\n      <th class=\"col_heading level0 col0\" colspan=\"2\"></th>\n      <th class=\"col_heading level0 col2\" colspan=\"3\">Count</th>\n      <th class=\"col_heading level0 col5\" colspan=\"3\">Default</th>\n      <th class=\"col_heading level0 col8\" colspan=\"3\">Distribution</th>\n      <th class=\"col_heading level0 col11\" colspan=\"3\">Default Rate</th>\n    </tr>\n    <tr>\n      <th class=\"col_heading level1 col0\" colspan=\"2\"></th>\n      <th class=\"col_heading level1 col2\" >Dev</th>\n      <th class=\"col_heading level1 col3\" colspan=\"2\">Review</th>\n      <th class=\"col_heading level1 col5\" >Dev</th>\n      <th class=\"col_heading level1 col6\" colspan=\"2\">Review</th>\n      <th class=\"col_heading level1 col8\" >Dev</th>\n      <th class=\"col_heading level1 col9\" colspan=\"2\">Review</th>\n      <th class=\"col_heading level1 col11\" >Dev</th>\n      <th class=\"col_heading level1 col12\" colspan=\"2\">Review</th>\n    </tr>\n    <tr>\n      <th class=\"col_heading level2 col0\" >Bucket</th>\n      <th class=\"col_heading level2 col1\" >Score</th>\n      <th class=\"col_heading level2 col2\" >Baseline</th>\n      <th class=\"col_heading level2 col3\" >2018</th>\n      <th class=\"col_heading level2 col4\" >2019</th>\n      <th class=\"col_heading level2 col5\" >Baseline</th>\n      <th class=\"col_heading level2 col6\" >2018</th>\n      <th class=\"col_heading level2 col7\" >2019</th>\n      <th class=\"col_heading level2 col8\" >Baseline</th>\n      <th class=\"col_heading level2 col9\" >2018</th>\n      <th class=\"col_heading level2 col10\" >2019</th>\n      <th class=\"col_heading level2 col11\" >Baseline</th>\n      <th class=\"col_heading level2 col12\" >2018</th>\n      <th class=\"col_heading level2 col13\" >2019</th>\n    </tr>\n  </thead>\n  <tbody>\n    <tr>\n      <td  class=\"data row0 col0\" >01. Yes</td>\n      <td  class=\"data row0 col1\" >6</td>\n      <td  class=\"data row0 col2\" >2,258</td>\n      <td  class=\"data row0 col3\" >6,214</td>\n      <td  class=\"data row0 col4\" >2,240</td>\n      <td  class=\"data row0 col5\" >129</td>\n      <td  class=\"data row0 col6\" >429</td>\n      <td  class=\"data row0 col7\" >48</td>\n      <td  class=\"data row0 col8\" >8.2%</td>\n      <td  class=\"data row0 col9\" >13.5%</td>\n      <td  class=\"data row0 col10\" >10.0%</td>\n      <td  class=\"data row0 col11\" >5.71%</td>\n      <td  class=\"data row0 col12\" >6.90%</td>\n      <td  class=\"data row0 col13\" >2.14%</td>\n    </tr>\n    <tr>\n      <td  class=\"data row1 col0\" >02. No</td>\n      <td  class=\"data row1 col1\" >28</td>\n      <td  class=\"data row1 col2\" >25,245</td>\n      <td  class=\"data row1 col3\" >39,826</td>\n      <td  class=\"data row1 col4\" >20,130</td>\n      <td  class=\"data row1 col5\" >477</td>\n      <td  class=\"data row1 col6\" >1,421</td>\n      <td  class=\"data row1 col7\" >218</td>\n      <td  class=\"data row1 col8\" >91.8%</td>\n      <td  class=\"data row1 col9\" >86.5%</td>\n      <td  class=\"data row1 col10\" >90.0%</td>\n      <td  class=\"data row1 col11\" >1.89%</td>\n      <td  class=\"data row1 col12\" >3.57%</td>\n      <td  class=\"data row1 col13\" >1.08%</td>\n    </tr>\n    <tr>\n      <td  class=\"data row2 col0\" >Total</td>\n      <td  class=\"data row2 col1\" ></td>\n      <td  class=\"data row2 col2\" >27,503</td>\n      <td  class=\"data row2 col3\" >46,040</td>\n      <td  class=\"data row2 col4\" >22,370</td>\n      <td  class=\"data row2 col5\" >606</td>\n      <td  class=\"data row2 col6\" >1,850</td>\n      <td  class=\"data row2 col7\" >266</td>\n      <td  class=\"data row2 col8\" >100.0%</td>\n      <td  class=\"data row2 col9\" >100.0%</td>\n      <td  class=\"data row2 col10\" >100.0%</td>\n      <td  class=\"data row2 col11\" >2.20%</td>\n      <td  class=\"data row2 col12\" >4.02%</td>\n      <td  class=\"data row2 col13\" >1.19%</td>\n    </tr>\n  </tbody>\n</table>\n",
     "multiFactorARs[9].get('factorDist')": "<style type=\"text/css\">\n</style>\n<table id=\"T__\" class=\"ctable text-center  \">\n  <caption>Months with Cash Advance L3M Factor - Distribution & Bad Rate</caption>\n  <thead>\n    <tr>\n      <th class=\"col_heading level0 col0\" colspan=\"2\"></th>\n      <th class=\"col_heading level0 col2\" colspan=\"3\">Count</th>\n      <th class=\"col_heading level0 col5\" colspan=\"3\">Default</th>\n      <th class=\"col_heading level0 col8\" colspan=\"3\">Distribution</th>\n      <th class=\"col_heading level0 col11\" colspan=\"3\">Default Rate</th>\n    </tr>\n    <tr>\n      <th class=\"col_heading level1 col0\" colspan=\"2\"></th>\n      <th class=\"col_heading level1 col2\" >Dev</th>\n      <th class=\"col_heading level1 col3\" colspan=\"2\">Review</th>\n      <th class=\"col_heading level1 col5\" >Dev</th>\n      <th class=\"col_heading level1 col6\" colspan=\"2\">Review</th>\n      <th class=\"col_heading level1 col8\" >Dev</th>\n      <th class=\"col_heading level1 col9\" colspan=\"2\">Review</th>\n      <th class=\"col_heading level1 col11\" >Dev</th>\n      <th class=\"col_heading level1 col12\" colspan=\"2\">Review</th>\n    </tr>\n    <tr>\n      <th class=\"col_heading level2 col0\" >Bucket</th>\n      <th class=\"col_heading level2 col1\" >Score</th>\n      <th class=\"col_heading level2 col2\" >Baseline</th>\n      <th class=\"col_heading level2 col3\" >2018</th>\n      <th class=\"col_heading level2 col4\" >2019</th>\n      <th class=\"col_heading level2 col5\" >Baseline</th>\n      <th class=\"col_heading level2 col6\" >2018</th>\n      <th class=\"col_heading level2 col7\" >2019</th>\n      <th class=\"col_heading level2 col8\" >Baseline</th>\n      <th class=\"col_heading level2 col9\" >2018</th>\n      <th class=\"col_heading level2 col10\" >2019</th>\n      <th class=\"col_heading level2 col11\" >Baseline</th>\n      <th class=\"col_heading level2 col12\" >2018</th>\n      <th class=\"col_heading level2 col13\" >2019</th>\n    </tr>\n  </thead>\n  <tbody>\n    <tr>\n      <td  class=\"data row0 col0\" >01. 0</td>\n      <td  class=\"data row0 col1\" >35</td>\n      <td  class=\"data row0 col2\" >22,367</td>\n      <td  class=\"data row0 col3\" >36,105</td>\n      <td  class=\"data row0 col4\" >18,512</td>\n      <td  class=\"data row0 col5\" >232</td>\n      <td  class=\"data row0 col6\" >745</td>\n      <td  class=\"data row0 col7\" >111</td>\n      <td  class=\"data row0 col8\" >81.3%</td>\n      <td  class=\"data row0 col9\" >78.4%</td>\n      <td  class=\"data row0 col10\" >82.8%</td>\n      <td  class=\"data row0 col11\" >1.04%</td>\n      <td  class=\"data row0 col12\" >2.06%</td>\n      <td  class=\"data row0 col13\" >0.60%</td>\n    </tr>\n    <tr>\n      <td  class=\"data row1 col0\" >02. 1-2</td>\n      <td  class=\"data row1 col1\" >15</td>\n      <td  class=\"data row1 col2\" >1,332</td>\n      <td  class=\"data row1 col3\" >2,822</td>\n      <td  class=\"data row1 col4\" >1,043</td>\n      <td  class=\"data row1 col5\" >93</td>\n      <td  class=\"data row1 col6\" >393</td>\n      <td  class=\"data row1 col7\" >51</td>\n      <td  class=\"data row1 col8\" >4.8%</td>\n      <td  class=\"data row1 col9\" >6.1%</td>\n      <td  class=\"data row1 col10\" >4.7%</td>\n      <td  class=\"data row1 col11\" >6.98%</td>\n      <td  class=\"data row1 col12\" >13.93%</td>\n      <td  class=\"data row1 col13\" >4.89%</td>\n    </tr>\n    <tr>\n      <td  class=\"data row2 col0\" >04. N.A</td>\n      <td  class=\"data row2 col1\" >1</td>\n      <td  class=\"data row2 col2\" >1,752</td>\n      <td  class=\"data row2 col3\" >4,249</td>\n      <td  class=\"data row2 col4\" >1,581</td>\n      <td  class=\"data row2 col5\" >180</td>\n      <td  class=\"data row2 col6\" >532</td>\n      <td  class=\"data row2 col7\" >74</td>\n      <td  class=\"data row2 col8\" >6.4%</td>\n      <td  class=\"data row2 col9\" >9.2%</td>\n      <td  class=\"data row2 col10\" >7.1%</td>\n      <td  class=\"data row2 col11\" >10.27%</td>\n      <td  class=\"data row2 col12\" >12.52%</td>\n      <td  class=\"data row2 col13\" >4.68%</td>\n    </tr>\n    <tr>\n      <td  class=\"data row3 col0\" >04. N.A</td>\n      <td  class=\"data row3 col1\" >17</td>\n      <td  class=\"data row3 col2\" >2,052</td>\n      <td  class=\"data row3 col3\" >2,864</td>\n      <td  class=\"data row3 col4\" >1,234</td>\n      <td  class=\"data row3 col5\" >101</td>\n      <td  class=\"data row3 col6\" >180</td>\n      <td  class=\"data row3 col7\" >30</td>\n      <td  class=\"data row3 col8\" >7.5%</td>\n      <td  class=\"data row3 col9\" >6.2%</td>\n      <td  class=\"data row3 col10\" >5.5%</td>\n      <td  class=\"data row3 col11\" >4.92%</td>\n      <td  class=\"data row3 col12\" >6.28%</td>\n      <td  class=\"data row3 col13\" >2.43%</td>\n    </tr>\n    <tr>\n      <td  class=\"data row4 col0\" >Total</td>\n      <td  class=\"data row4 col1\" ></td>\n      <td  class=\"data row4 col2\" >27,503</td>\n      <td  class=\"data row4 col3\" >46,040</td>\n      <td  class=\"data row4 col4\" >22,370</td>\n      <td  class=\"data row4 col5\" >606</td>\n      <td  class=\"data row4 col6\" >1,850</td>\n      <td  class=\"data row4 col7\" >266</td>\n      <td  class=\"data row4 col8\" >100.0%</td>\n      <td  class=\"data row4 col9\" >100.0%</td>\n      <td  class=\"data row4 col10\" >100.0%</td>\n      <td  class=\"data row4 col11\" >2.20%</td>\n      <td  class=\"data row4 col12\" >4.02%</td>\n      <td  class=\"data row4 col13\" >1.19%</td>\n    </tr>\n  </tbody>\n</table>\n"
    }
   },
   "source": [
    "Each of 11 factors distribution and bad rate are shown in this section.\n",
    "<br>\n",
    "{{multiFactorARs[0].get('factorDist')}}<br>\n",
    "{{multiFactorARs[1].get('factorDist')}}<br>\n",
    "{{multiFactorARs[2].get('factorDist')}}<br>\n",
    "{{multiFactorARs[3].get('factorDist')}}<br>\n",
    "{{multiFactorARs[4].get('factorDist')}}<br>\n",
    "{{multiFactorARs[5].get('factorDist')}}<br>\n",
    "{{multiFactorARs[6].get('factorDist')}}<br>\n",
    "{{multiFactorARs[7].get('factorDist')}}<br>\n",
    "{{multiFactorARs[8].get('factorDist')}}<br>\n",
    "{{multiFactorARs[9].get('factorDist')}}<br>\n",
    "{{multiFactorARs[10].get('factorDist')}}<br>"
   ]
  },
  {
   "cell_type": "markdown",
   "id": "ba73cb7e",
   "metadata": {},
   "source": [
    "## Chronology"
   ]
  },
  {
   "cell_type": "markdown",
   "id": "d459e07e",
   "metadata": {
    "variables": {
     "docTable(MODEL_INFO_Chrono, pre_wrap_data=True, table_type='text-left')": "<style type=\"text/css\">\n</style>\n<table id=\"T__\" class=\"ctable text-left pre-wrap-data \">\n  <thead>\n    <tr>\n      <th class=\"col_heading level0 col0\" >Date</th>\n      <th class=\"col_heading level0 col1\" >Category</th>\n      <th class=\"col_heading level0 col2\" >Details</th>\n    </tr>\n  </thead>\n  <tbody>\n    <tr>\n      <td  class=\"data row0 col0\" >Oct 2015</td>\n      <td  class=\"data row0 col1\" >Model</td>\n      <td  class=\"data row0 col2\" >Model version 1 implemented.\n\nTo have a better tool to assess customer credit risk, the bank had develop the a model suite for Consumer Unsecured Lending segment. It comprised of an application scorecard, a behaviour scorecard and PD/EAD/LGD segmentation models.\n\nThe newly developed scorecards and segmentation models had achieved excellent risk ranking power, with AR of 71% for the Ascore, 85% for Bscore and 80% for PD models.</td>\n    </tr>\n    <tr>\n      <td  class=\"data row1 col0\" >Dec 2015</td>\n      <td  class=\"data row1 col1\" >Business Strategy</td>\n      <td  class=\"data row1 col2\" >With the new models implemented in Oct 2015, business has refined the acceptance criteria as following:\n\n- For CC, the Ascore cut-off score is 200\n- For OD, the Ascore cut-of score is 230</td>\n    </tr>\n    <tr>\n      <td  class=\"data row2 col0\" >Dec 2016</td>\n      <td  class=\"data row2 col1\" >Business Strategy</td>\n      <td  class=\"data row2 col2\" >After a year in-use of the model suite, the scorecards risk ranking power was reviewed and the results was still at excellent level. The overall portfolio performance was also at good level with default rate less than 1.5%, better than expected. Hence, business decided to growth the volume for Consumer Unsecured Lending products by revised the following:\n\n- For CC, the Ascore cut-off was lower down to 180 for customers with monthly income more than USD 3,000. For others, the Ascore cut-off is still 200\n- For OD, the Ascore cut-off was also lower down to 180 for curstomers with monthly income more than USD 3,000. For those income from  USD 2,000 to USD 3,000, the Ascore cut-off is 200. For the remaining, the Ascore cut-off remained at 230</td>\n    </tr>\n    <tr>\n      <td  class=\"data row3 col0\" >Mar 2017</td>\n      <td  class=\"data row3 col1\" >Collections</td>\n      <td  class=\"data row3 col2\" >The Bscore was applied into Collections strategies. Where customers with delinquent status will be prioritised by their Bscore, i.e. Collections team will work on them first while those customer with higher Bscore will be sent a reminder SMS\n</td>\n    </tr>\n  </tbody>\n</table>\n"
    }
   },
   "source": [
    "{{docTable(MODEL_INFO_Chrono, pre_wrap_data=True, table_type='text-left')}}\n"
   ]
  },
  {
   "cell_type": "markdown",
   "id": "b1cf0680",
   "metadata": {
    "hide_input": true
   },
   "source": [
    "<div class=\"last_page\"></div>\n",
    "<br>\n",
    "<br>\n",
    "<br>\n",
    "<br>\n",
    "<br>\n",
    "<br>\n",
    "<br>\n",
    "<br>\n",
    "<br>\n",
    "<br>\n",
    "<br>\n",
    "<br>\n",
    "<br>\n",
    "<br>\n",
    "<br>\n",
    "<br>\n",
    "<br>\n",
    "<br>\n",
    "<br>\n",
    "<br>\n",
    "<div style=\"text-align: center\">---- End of Document ----</div>\n",
    "<div style=\"text-align: center\">Thank you.</div>\n"
   ]
  }
 ],
 "metadata": {
  "celltoolbar": "Initialization Cell",
  "hide_input": true,
  "kernelspec": {
   "display_name": "Python 3 (ipykernel)",
   "language": "python",
   "name": "python3"
  },
  "language_info": {
   "codemirror_mode": {
    "name": "ipython",
    "version": 3
   },
   "file_extension": ".py",
   "mimetype": "text/x-python",
   "name": "python",
   "nbconvert_exporter": "python",
   "pygments_lexer": "ipython3",
   "version": "3.9.7"
  },
  "toc": {
   "base_numbering": 1,
   "nav_menu": {},
   "number_sections": true,
   "sideBar": true,
   "skip_h1_title": false,
   "title_cell": "Table of Contents",
   "title_sidebar": "Contents",
   "toc_cell": true,
   "toc_position": {
    "height": "calc(100% - 180px)",
    "left": "10px",
    "top": "150px",
    "width": "211.475px"
   },
   "toc_section_display": true,
   "toc_window_display": true
  },
  "toc-autonumbering": true,
  "toc-showmarkdowntxt": false,
  "widgets": {
   "application/vnd.jupyter.widget-state+json": {
    "state": {},
    "version_major": 2,
    "version_minor": 0
   }
  }
 },
 "nbformat": 4,
 "nbformat_minor": 5
}
